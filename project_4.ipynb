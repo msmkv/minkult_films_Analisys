{
 "cells": [
  {
   "cell_type": "markdown",
   "metadata": {
    "id": "sIfNaMOxgFyK",
    "pycharm": {
     "name": "#%% md\n"
    }
   },
   "source": [
    "## Исследование данных о российском кинопрокате\n",
    "\n"
   ]
  },
  {
   "cell_type": "markdown",
   "metadata": {
    "pycharm": {
     "name": "#%% md\n"
    }
   },
   "source": [
    "Заказчик этого исследования — Министерство культуры Российской Федерации.\n",
    "Имеется два набора данных:\n",
    " - Набор mkrf_movies содержит в себе данные о фильме, выданном прокатном удостоверении, дате релиза и объем государственной поддержки, выделенной на картину;\n",
    " - Набор mkrf_shows содержит информацию о прокате фильмов в российских кинотеатрах.\n",
    " \n",
    "Все данные взяты с портала открытых данных Министерства культуры. Необходимо изучить рынок российского кинопроката, выявить закономерности и текцщие тренды. Особое внимание уделяется фильмам, получившим государственную поддержку."
   ]
  },
  {
   "cell_type": "markdown",
   "metadata": {
    "id": "3bSlkCsbgFyL",
    "pycharm": {
     "name": "#%% md\n"
    }
   },
   "source": [
    "### Откроем файлы с данными и объединим их в один датафрейм."
   ]
  },
  {
   "cell_type": "code",
   "execution_count": 1,
   "metadata": {
    "id": "dw87FlzMgFyM",
    "pycharm": {
     "name": "#%%\n"
    }
   },
   "outputs": [],
   "source": [
    "import pandas as pd\n",
    "import matplotlib.pyplot as plt\n",
    "import seaborn"
   ]
  },
  {
   "cell_type": "code",
   "execution_count": 2,
   "metadata": {
    "pycharm": {
     "name": "#%%\n"
    }
   },
   "outputs": [
    {
     "data": {
      "text/plain": "                  title   puNumber           show_start_date            type  \\\n0      Открытый простор  221048915  2015-11-27T12:00:00.000Z  Художественный   \n1  Особо важное задание  111013716  2016-09-13T12:00:00.000Z  Художественный   \n2          Особо опасен  221038416  2016-10-10T12:00:00.000Z  Художественный   \n3          Особо опасен  221026916  2016-06-10T12:00:00.000Z  Художественный   \n4          Особо опасен  221030815  2015-07-29T12:00:00.000Z  Художественный   \n5     Остановился поезд  111013816  2016-09-13T12:00:00.000Z  Художественный   \n6       Любовь и голуби  111007013  2013-10-18T12:00:00.000Z  Художественный   \n7     Любовь и сигареты  221074614  2014-12-29T12:00:00.000Z  Художественный   \n8    Отпетые мошенники.  121011416  2016-05-05T12:00:00.000Z  Художественный   \n9   Отпуск за свой счет  111019114  2014-12-01T12:00:00.000Z  Художественный   \n\n                                         film_studio production_country  \\\n0  Тачстоун Пикчерз, Кобальт Пикчерз, Бикон Пикче...                США   \n1                              Киностудия \"Мосфильм\"               СССР   \n2  Юниверсал Пикчерз, Кикстарт Продакшнз, Марк Пл...                США   \n3  Юниверсал Пикчерз, Кикстарт Продакшнз, Марк Пл...                США   \n4  Юниверсал Пикчерз, Кикстарт Продакшнз, Марк Пл...                США   \n5                              Киностудия \"Мосфильм\"               СССР   \n6                              Киностудия \"Мосфильм\"               СССР   \n7  Юнайтед Артистс, Грин Стрит Филмз, Айкон Интер...                США   \n8                     Пульсар Продюксьон, ТФ1 Фильм             Франция   \n9             Киностудия \"Мосфильм\", Телевидение ВНР      СССР, Венгрия   \n\n            director                                           producer  \\\n0      Кевин Костнер          Дэвид Валдес, Кевин Костнер, Джейк Эбертс   \n1          Е.Матвеев                                                NaN   \n2  Тимур Бекмамбетов  Джим Лемли, Джейсон Нетер, Марк Е.Платт, Яйн Смит   \n3  Тимур Бекмамбетов  Джим Лемли, Джейсон Нетер, Марк Е.Платт, Яйн Смит   \n4  Тимур Бекмамбетов  Джим Лемли, Джейсон Нетер, Марк Е.Платт, Яйн Смит   \n5       В.Абдрашитов                                                NaN   \n6          В.Меньшов                                                NaN   \n7      Джон Туртурро                        Джон Пенотти, Джон Туртурро   \n8       Эрик Беснард                                        Патрис Леду   \n9            В.Титов                                                NaN   \n\n                   age_restriction  refundable_support  nonrefundable_support  \\\n0      «18+» - запрещено для детей                 NaN                    NaN   \n1    «6+» - для детей старше 6 лет                 NaN                    NaN   \n2      «18+» - запрещено для детей                 NaN                    NaN   \n3      «18+» - запрещено для детей                 NaN                    NaN   \n4      «18+» - запрещено для детей                 NaN                    NaN   \n5    «6+» - для детей старше 6 лет                 NaN                    NaN   \n6  «12+» - для детей старше 12 лет                 NaN                    NaN   \n7      «18+» - запрещено для детей                 NaN                    NaN   \n8      «18+» - запрещено для детей                 NaN                    NaN   \n9  «12+» - для детей старше 12 лет                 NaN                    NaN   \n\n   budget financing_source ratings                     genres  \n0     NaN              NaN     7.2     боевик,драма,мелодрама  \n1     NaN              NaN     6.6              драма,военный  \n2     NaN              NaN     6.8  фантастика,боевик,триллер  \n3     NaN              NaN     6.8  фантастика,боевик,триллер  \n4     NaN              NaN     6.8  фантастика,боевик,триллер  \n5     NaN              NaN     7.7                      драма  \n6     NaN              NaN     8.3          мелодрама,комедия  \n7     NaN              NaN     6.6   мюзикл,мелодрама,комедия  \n8     NaN              NaN     8.0           комедия,криминал  \n9     NaN              NaN     7.8          мелодрама,комедия  ",
      "text/html": "<div>\n<style scoped>\n    .dataframe tbody tr th:only-of-type {\n        vertical-align: middle;\n    }\n\n    .dataframe tbody tr th {\n        vertical-align: top;\n    }\n\n    .dataframe thead th {\n        text-align: right;\n    }\n</style>\n<table border=\"1\" class=\"dataframe\">\n  <thead>\n    <tr style=\"text-align: right;\">\n      <th></th>\n      <th>title</th>\n      <th>puNumber</th>\n      <th>show_start_date</th>\n      <th>type</th>\n      <th>film_studio</th>\n      <th>production_country</th>\n      <th>director</th>\n      <th>producer</th>\n      <th>age_restriction</th>\n      <th>refundable_support</th>\n      <th>nonrefundable_support</th>\n      <th>budget</th>\n      <th>financing_source</th>\n      <th>ratings</th>\n      <th>genres</th>\n    </tr>\n  </thead>\n  <tbody>\n    <tr>\n      <th>0</th>\n      <td>Открытый простор</td>\n      <td>221048915</td>\n      <td>2015-11-27T12:00:00.000Z</td>\n      <td>Художественный</td>\n      <td>Тачстоун Пикчерз, Кобальт Пикчерз, Бикон Пикче...</td>\n      <td>США</td>\n      <td>Кевин Костнер</td>\n      <td>Дэвид Валдес, Кевин Костнер, Джейк Эбертс</td>\n      <td>«18+» - запрещено для детей</td>\n      <td>NaN</td>\n      <td>NaN</td>\n      <td>NaN</td>\n      <td>NaN</td>\n      <td>7.2</td>\n      <td>боевик,драма,мелодрама</td>\n    </tr>\n    <tr>\n      <th>1</th>\n      <td>Особо важное задание</td>\n      <td>111013716</td>\n      <td>2016-09-13T12:00:00.000Z</td>\n      <td>Художественный</td>\n      <td>Киностудия \"Мосфильм\"</td>\n      <td>СССР</td>\n      <td>Е.Матвеев</td>\n      <td>NaN</td>\n      <td>«6+» - для детей старше 6 лет</td>\n      <td>NaN</td>\n      <td>NaN</td>\n      <td>NaN</td>\n      <td>NaN</td>\n      <td>6.6</td>\n      <td>драма,военный</td>\n    </tr>\n    <tr>\n      <th>2</th>\n      <td>Особо опасен</td>\n      <td>221038416</td>\n      <td>2016-10-10T12:00:00.000Z</td>\n      <td>Художественный</td>\n      <td>Юниверсал Пикчерз, Кикстарт Продакшнз, Марк Пл...</td>\n      <td>США</td>\n      <td>Тимур Бекмамбетов</td>\n      <td>Джим Лемли, Джейсон Нетер, Марк Е.Платт, Яйн Смит</td>\n      <td>«18+» - запрещено для детей</td>\n      <td>NaN</td>\n      <td>NaN</td>\n      <td>NaN</td>\n      <td>NaN</td>\n      <td>6.8</td>\n      <td>фантастика,боевик,триллер</td>\n    </tr>\n    <tr>\n      <th>3</th>\n      <td>Особо опасен</td>\n      <td>221026916</td>\n      <td>2016-06-10T12:00:00.000Z</td>\n      <td>Художественный</td>\n      <td>Юниверсал Пикчерз, Кикстарт Продакшнз, Марк Пл...</td>\n      <td>США</td>\n      <td>Тимур Бекмамбетов</td>\n      <td>Джим Лемли, Джейсон Нетер, Марк Е.Платт, Яйн Смит</td>\n      <td>«18+» - запрещено для детей</td>\n      <td>NaN</td>\n      <td>NaN</td>\n      <td>NaN</td>\n      <td>NaN</td>\n      <td>6.8</td>\n      <td>фантастика,боевик,триллер</td>\n    </tr>\n    <tr>\n      <th>4</th>\n      <td>Особо опасен</td>\n      <td>221030815</td>\n      <td>2015-07-29T12:00:00.000Z</td>\n      <td>Художественный</td>\n      <td>Юниверсал Пикчерз, Кикстарт Продакшнз, Марк Пл...</td>\n      <td>США</td>\n      <td>Тимур Бекмамбетов</td>\n      <td>Джим Лемли, Джейсон Нетер, Марк Е.Платт, Яйн Смит</td>\n      <td>«18+» - запрещено для детей</td>\n      <td>NaN</td>\n      <td>NaN</td>\n      <td>NaN</td>\n      <td>NaN</td>\n      <td>6.8</td>\n      <td>фантастика,боевик,триллер</td>\n    </tr>\n    <tr>\n      <th>5</th>\n      <td>Остановился поезд</td>\n      <td>111013816</td>\n      <td>2016-09-13T12:00:00.000Z</td>\n      <td>Художественный</td>\n      <td>Киностудия \"Мосфильм\"</td>\n      <td>СССР</td>\n      <td>В.Абдрашитов</td>\n      <td>NaN</td>\n      <td>«6+» - для детей старше 6 лет</td>\n      <td>NaN</td>\n      <td>NaN</td>\n      <td>NaN</td>\n      <td>NaN</td>\n      <td>7.7</td>\n      <td>драма</td>\n    </tr>\n    <tr>\n      <th>6</th>\n      <td>Любовь и голуби</td>\n      <td>111007013</td>\n      <td>2013-10-18T12:00:00.000Z</td>\n      <td>Художественный</td>\n      <td>Киностудия \"Мосфильм\"</td>\n      <td>СССР</td>\n      <td>В.Меньшов</td>\n      <td>NaN</td>\n      <td>«12+» - для детей старше 12 лет</td>\n      <td>NaN</td>\n      <td>NaN</td>\n      <td>NaN</td>\n      <td>NaN</td>\n      <td>8.3</td>\n      <td>мелодрама,комедия</td>\n    </tr>\n    <tr>\n      <th>7</th>\n      <td>Любовь и сигареты</td>\n      <td>221074614</td>\n      <td>2014-12-29T12:00:00.000Z</td>\n      <td>Художественный</td>\n      <td>Юнайтед Артистс, Грин Стрит Филмз, Айкон Интер...</td>\n      <td>США</td>\n      <td>Джон Туртурро</td>\n      <td>Джон Пенотти, Джон Туртурро</td>\n      <td>«18+» - запрещено для детей</td>\n      <td>NaN</td>\n      <td>NaN</td>\n      <td>NaN</td>\n      <td>NaN</td>\n      <td>6.6</td>\n      <td>мюзикл,мелодрама,комедия</td>\n    </tr>\n    <tr>\n      <th>8</th>\n      <td>Отпетые мошенники.</td>\n      <td>121011416</td>\n      <td>2016-05-05T12:00:00.000Z</td>\n      <td>Художественный</td>\n      <td>Пульсар Продюксьон, ТФ1 Фильм</td>\n      <td>Франция</td>\n      <td>Эрик Беснард</td>\n      <td>Патрис Леду</td>\n      <td>«18+» - запрещено для детей</td>\n      <td>NaN</td>\n      <td>NaN</td>\n      <td>NaN</td>\n      <td>NaN</td>\n      <td>8.0</td>\n      <td>комедия,криминал</td>\n    </tr>\n    <tr>\n      <th>9</th>\n      <td>Отпуск за свой счет</td>\n      <td>111019114</td>\n      <td>2014-12-01T12:00:00.000Z</td>\n      <td>Художественный</td>\n      <td>Киностудия \"Мосфильм\", Телевидение ВНР</td>\n      <td>СССР, Венгрия</td>\n      <td>В.Титов</td>\n      <td>NaN</td>\n      <td>«12+» - для детей старше 12 лет</td>\n      <td>NaN</td>\n      <td>NaN</td>\n      <td>NaN</td>\n      <td>NaN</td>\n      <td>7.8</td>\n      <td>мелодрама,комедия</td>\n    </tr>\n  </tbody>\n</table>\n</div>"
     },
     "metadata": {},
     "output_type": "display_data"
    },
    {
     "data": {
      "text/plain": "    puNumber    box_office\n0  111000113  2.450000e+03\n1  111000115  6.104000e+04\n2  111000116  1.530300e+08\n3  111000117  1.226096e+07\n4  111000118  1.636841e+08\n5  111000119  4.293650e+06\n6  111000212  2.000000e+02\n7  111000216  3.555670e+05\n8  111000313  7.100000e+02\n9  111000314  1.607970e+06",
      "text/html": "<div>\n<style scoped>\n    .dataframe tbody tr th:only-of-type {\n        vertical-align: middle;\n    }\n\n    .dataframe tbody tr th {\n        vertical-align: top;\n    }\n\n    .dataframe thead th {\n        text-align: right;\n    }\n</style>\n<table border=\"1\" class=\"dataframe\">\n  <thead>\n    <tr style=\"text-align: right;\">\n      <th></th>\n      <th>puNumber</th>\n      <th>box_office</th>\n    </tr>\n  </thead>\n  <tbody>\n    <tr>\n      <th>0</th>\n      <td>111000113</td>\n      <td>2.450000e+03</td>\n    </tr>\n    <tr>\n      <th>1</th>\n      <td>111000115</td>\n      <td>6.104000e+04</td>\n    </tr>\n    <tr>\n      <th>2</th>\n      <td>111000116</td>\n      <td>1.530300e+08</td>\n    </tr>\n    <tr>\n      <th>3</th>\n      <td>111000117</td>\n      <td>1.226096e+07</td>\n    </tr>\n    <tr>\n      <th>4</th>\n      <td>111000118</td>\n      <td>1.636841e+08</td>\n    </tr>\n    <tr>\n      <th>5</th>\n      <td>111000119</td>\n      <td>4.293650e+06</td>\n    </tr>\n    <tr>\n      <th>6</th>\n      <td>111000212</td>\n      <td>2.000000e+02</td>\n    </tr>\n    <tr>\n      <th>7</th>\n      <td>111000216</td>\n      <td>3.555670e+05</td>\n    </tr>\n    <tr>\n      <th>8</th>\n      <td>111000313</td>\n      <td>7.100000e+02</td>\n    </tr>\n    <tr>\n      <th>9</th>\n      <td>111000314</td>\n      <td>1.607970e+06</td>\n    </tr>\n  </tbody>\n</table>\n</div>"
     },
     "metadata": {},
     "output_type": "display_data"
    }
   ],
   "source": [
    "try:\n",
    "    movies_data = pd.read_csv('datasets/mkrf_movies.csv')\n",
    "    shows_data = pd.read_csv('datasets/mkrf_shows.csv')\n",
    "except:\n",
    "    movies_data = pd.read_csv('https://*********/mkrf_movies.csv')\n",
    "    shows_data = pd.read_csv('https://**********/mkrf_shows.csv')\n",
    "\n",
    "display(movies_data.head(10))\n",
    "display(shows_data.head(10))"
   ]
  },
  {
   "cell_type": "markdown",
   "metadata": {
    "pycharm": {
     "name": "#%% md\n"
    }
   },
   "source": [
    "Проверим тип данных колонок 'puNumber' в обоих датасетах методом .info()\n",
    "Заменим тип в таблице с object на int64 с учетом контроля ошибок"
   ]
  },
  {
   "cell_type": "code",
   "execution_count": 3,
   "metadata": {
    "pycharm": {
     "name": "#%%\n"
    }
   },
   "outputs": [],
   "source": [
    "\n",
    "try:\n",
    "    movies_data['puNumber']=movies_data['puNumber'].astype('int64')\n",
    "except:\n",
    "    movies_data = movies_data.loc[movies_data['puNumber'].str.isdigit()]\n",
    "    movies_data['puNumber']=movies_data['puNumber'].astype('int64')\n",
    "\n",
    "# movies_data['puNumber'].info()\n",
    "\n"
   ]
  },
  {
   "cell_type": "code",
   "execution_count": 4,
   "metadata": {
    "pycharm": {
     "name": "#%%\n"
    },
    "scrolled": true
   },
   "outputs": [
    {
     "data": {
      "text/plain": "                  title   puNumber           show_start_date            type  \\\n0      Открытый простор  221048915  2015-11-27T12:00:00.000Z  Художественный   \n1  Особо важное задание  111013716  2016-09-13T12:00:00.000Z  Художественный   \n2          Особо опасен  221038416  2016-10-10T12:00:00.000Z  Художественный   \n3          Особо опасен  221026916  2016-06-10T12:00:00.000Z  Художественный   \n4          Особо опасен  221030815  2015-07-29T12:00:00.000Z  Художественный   \n5     Остановился поезд  111013816  2016-09-13T12:00:00.000Z  Художественный   \n6       Любовь и голуби  111007013  2013-10-18T12:00:00.000Z  Художественный   \n7     Любовь и сигареты  221074614  2014-12-29T12:00:00.000Z  Художественный   \n8    Отпетые мошенники.  121011416  2016-05-05T12:00:00.000Z  Художественный   \n9   Отпуск за свой счет  111019114  2014-12-01T12:00:00.000Z  Художественный   \n\n                                         film_studio production_country  \\\n0  Тачстоун Пикчерз, Кобальт Пикчерз, Бикон Пикче...                США   \n1                              Киностудия \"Мосфильм\"               СССР   \n2  Юниверсал Пикчерз, Кикстарт Продакшнз, Марк Пл...                США   \n3  Юниверсал Пикчерз, Кикстарт Продакшнз, Марк Пл...                США   \n4  Юниверсал Пикчерз, Кикстарт Продакшнз, Марк Пл...                США   \n5                              Киностудия \"Мосфильм\"               СССР   \n6                              Киностудия \"Мосфильм\"               СССР   \n7  Юнайтед Артистс, Грин Стрит Филмз, Айкон Интер...                США   \n8                     Пульсар Продюксьон, ТФ1 Фильм             Франция   \n9             Киностудия \"Мосфильм\", Телевидение ВНР      СССР, Венгрия   \n\n            director                                           producer  \\\n0      Кевин Костнер          Дэвид Валдес, Кевин Костнер, Джейк Эбертс   \n1          Е.Матвеев                                                NaN   \n2  Тимур Бекмамбетов  Джим Лемли, Джейсон Нетер, Марк Е.Платт, Яйн Смит   \n3  Тимур Бекмамбетов  Джим Лемли, Джейсон Нетер, Марк Е.Платт, Яйн Смит   \n4  Тимур Бекмамбетов  Джим Лемли, Джейсон Нетер, Марк Е.Платт, Яйн Смит   \n5       В.Абдрашитов                                                NaN   \n6          В.Меньшов                                                NaN   \n7      Джон Туртурро                        Джон Пенотти, Джон Туртурро   \n8       Эрик Беснард                                        Патрис Леду   \n9            В.Титов                                                NaN   \n\n                   age_restriction  refundable_support  nonrefundable_support  \\\n0      «18+» - запрещено для детей                 NaN                    NaN   \n1    «6+» - для детей старше 6 лет                 NaN                    NaN   \n2      «18+» - запрещено для детей                 NaN                    NaN   \n3      «18+» - запрещено для детей                 NaN                    NaN   \n4      «18+» - запрещено для детей                 NaN                    NaN   \n5    «6+» - для детей старше 6 лет                 NaN                    NaN   \n6  «12+» - для детей старше 12 лет                 NaN                    NaN   \n7      «18+» - запрещено для детей                 NaN                    NaN   \n8      «18+» - запрещено для детей                 NaN                    NaN   \n9  «12+» - для детей старше 12 лет                 NaN                    NaN   \n\n   budget financing_source ratings                     genres  box_office  \n0     NaN              NaN     7.2     боевик,драма,мелодрама         NaN  \n1     NaN              NaN     6.6              драма,военный         NaN  \n2     NaN              NaN     6.8  фантастика,боевик,триллер         NaN  \n3     NaN              NaN     6.8  фантастика,боевик,триллер         NaN  \n4     NaN              NaN     6.8  фантастика,боевик,триллер         NaN  \n5     NaN              NaN     7.7                      драма         NaN  \n6     NaN              NaN     8.3          мелодрама,комедия      2700.0  \n7     NaN              NaN     6.6   мюзикл,мелодрама,комедия         NaN  \n8     NaN              NaN     8.0           комедия,криминал         NaN  \n9     NaN              NaN     7.8          мелодрама,комедия         NaN  ",
      "text/html": "<div>\n<style scoped>\n    .dataframe tbody tr th:only-of-type {\n        vertical-align: middle;\n    }\n\n    .dataframe tbody tr th {\n        vertical-align: top;\n    }\n\n    .dataframe thead th {\n        text-align: right;\n    }\n</style>\n<table border=\"1\" class=\"dataframe\">\n  <thead>\n    <tr style=\"text-align: right;\">\n      <th></th>\n      <th>title</th>\n      <th>puNumber</th>\n      <th>show_start_date</th>\n      <th>type</th>\n      <th>film_studio</th>\n      <th>production_country</th>\n      <th>director</th>\n      <th>producer</th>\n      <th>age_restriction</th>\n      <th>refundable_support</th>\n      <th>nonrefundable_support</th>\n      <th>budget</th>\n      <th>financing_source</th>\n      <th>ratings</th>\n      <th>genres</th>\n      <th>box_office</th>\n    </tr>\n  </thead>\n  <tbody>\n    <tr>\n      <th>0</th>\n      <td>Открытый простор</td>\n      <td>221048915</td>\n      <td>2015-11-27T12:00:00.000Z</td>\n      <td>Художественный</td>\n      <td>Тачстоун Пикчерз, Кобальт Пикчерз, Бикон Пикче...</td>\n      <td>США</td>\n      <td>Кевин Костнер</td>\n      <td>Дэвид Валдес, Кевин Костнер, Джейк Эбертс</td>\n      <td>«18+» - запрещено для детей</td>\n      <td>NaN</td>\n      <td>NaN</td>\n      <td>NaN</td>\n      <td>NaN</td>\n      <td>7.2</td>\n      <td>боевик,драма,мелодрама</td>\n      <td>NaN</td>\n    </tr>\n    <tr>\n      <th>1</th>\n      <td>Особо важное задание</td>\n      <td>111013716</td>\n      <td>2016-09-13T12:00:00.000Z</td>\n      <td>Художественный</td>\n      <td>Киностудия \"Мосфильм\"</td>\n      <td>СССР</td>\n      <td>Е.Матвеев</td>\n      <td>NaN</td>\n      <td>«6+» - для детей старше 6 лет</td>\n      <td>NaN</td>\n      <td>NaN</td>\n      <td>NaN</td>\n      <td>NaN</td>\n      <td>6.6</td>\n      <td>драма,военный</td>\n      <td>NaN</td>\n    </tr>\n    <tr>\n      <th>2</th>\n      <td>Особо опасен</td>\n      <td>221038416</td>\n      <td>2016-10-10T12:00:00.000Z</td>\n      <td>Художественный</td>\n      <td>Юниверсал Пикчерз, Кикстарт Продакшнз, Марк Пл...</td>\n      <td>США</td>\n      <td>Тимур Бекмамбетов</td>\n      <td>Джим Лемли, Джейсон Нетер, Марк Е.Платт, Яйн Смит</td>\n      <td>«18+» - запрещено для детей</td>\n      <td>NaN</td>\n      <td>NaN</td>\n      <td>NaN</td>\n      <td>NaN</td>\n      <td>6.8</td>\n      <td>фантастика,боевик,триллер</td>\n      <td>NaN</td>\n    </tr>\n    <tr>\n      <th>3</th>\n      <td>Особо опасен</td>\n      <td>221026916</td>\n      <td>2016-06-10T12:00:00.000Z</td>\n      <td>Художественный</td>\n      <td>Юниверсал Пикчерз, Кикстарт Продакшнз, Марк Пл...</td>\n      <td>США</td>\n      <td>Тимур Бекмамбетов</td>\n      <td>Джим Лемли, Джейсон Нетер, Марк Е.Платт, Яйн Смит</td>\n      <td>«18+» - запрещено для детей</td>\n      <td>NaN</td>\n      <td>NaN</td>\n      <td>NaN</td>\n      <td>NaN</td>\n      <td>6.8</td>\n      <td>фантастика,боевик,триллер</td>\n      <td>NaN</td>\n    </tr>\n    <tr>\n      <th>4</th>\n      <td>Особо опасен</td>\n      <td>221030815</td>\n      <td>2015-07-29T12:00:00.000Z</td>\n      <td>Художественный</td>\n      <td>Юниверсал Пикчерз, Кикстарт Продакшнз, Марк Пл...</td>\n      <td>США</td>\n      <td>Тимур Бекмамбетов</td>\n      <td>Джим Лемли, Джейсон Нетер, Марк Е.Платт, Яйн Смит</td>\n      <td>«18+» - запрещено для детей</td>\n      <td>NaN</td>\n      <td>NaN</td>\n      <td>NaN</td>\n      <td>NaN</td>\n      <td>6.8</td>\n      <td>фантастика,боевик,триллер</td>\n      <td>NaN</td>\n    </tr>\n    <tr>\n      <th>5</th>\n      <td>Остановился поезд</td>\n      <td>111013816</td>\n      <td>2016-09-13T12:00:00.000Z</td>\n      <td>Художественный</td>\n      <td>Киностудия \"Мосфильм\"</td>\n      <td>СССР</td>\n      <td>В.Абдрашитов</td>\n      <td>NaN</td>\n      <td>«6+» - для детей старше 6 лет</td>\n      <td>NaN</td>\n      <td>NaN</td>\n      <td>NaN</td>\n      <td>NaN</td>\n      <td>7.7</td>\n      <td>драма</td>\n      <td>NaN</td>\n    </tr>\n    <tr>\n      <th>6</th>\n      <td>Любовь и голуби</td>\n      <td>111007013</td>\n      <td>2013-10-18T12:00:00.000Z</td>\n      <td>Художественный</td>\n      <td>Киностудия \"Мосфильм\"</td>\n      <td>СССР</td>\n      <td>В.Меньшов</td>\n      <td>NaN</td>\n      <td>«12+» - для детей старше 12 лет</td>\n      <td>NaN</td>\n      <td>NaN</td>\n      <td>NaN</td>\n      <td>NaN</td>\n      <td>8.3</td>\n      <td>мелодрама,комедия</td>\n      <td>2700.0</td>\n    </tr>\n    <tr>\n      <th>7</th>\n      <td>Любовь и сигареты</td>\n      <td>221074614</td>\n      <td>2014-12-29T12:00:00.000Z</td>\n      <td>Художественный</td>\n      <td>Юнайтед Артистс, Грин Стрит Филмз, Айкон Интер...</td>\n      <td>США</td>\n      <td>Джон Туртурро</td>\n      <td>Джон Пенотти, Джон Туртурро</td>\n      <td>«18+» - запрещено для детей</td>\n      <td>NaN</td>\n      <td>NaN</td>\n      <td>NaN</td>\n      <td>NaN</td>\n      <td>6.6</td>\n      <td>мюзикл,мелодрама,комедия</td>\n      <td>NaN</td>\n    </tr>\n    <tr>\n      <th>8</th>\n      <td>Отпетые мошенники.</td>\n      <td>121011416</td>\n      <td>2016-05-05T12:00:00.000Z</td>\n      <td>Художественный</td>\n      <td>Пульсар Продюксьон, ТФ1 Фильм</td>\n      <td>Франция</td>\n      <td>Эрик Беснард</td>\n      <td>Патрис Леду</td>\n      <td>«18+» - запрещено для детей</td>\n      <td>NaN</td>\n      <td>NaN</td>\n      <td>NaN</td>\n      <td>NaN</td>\n      <td>8.0</td>\n      <td>комедия,криминал</td>\n      <td>NaN</td>\n    </tr>\n    <tr>\n      <th>9</th>\n      <td>Отпуск за свой счет</td>\n      <td>111019114</td>\n      <td>2014-12-01T12:00:00.000Z</td>\n      <td>Художественный</td>\n      <td>Киностудия \"Мосфильм\", Телевидение ВНР</td>\n      <td>СССР, Венгрия</td>\n      <td>В.Титов</td>\n      <td>NaN</td>\n      <td>«12+» - для детей старше 12 лет</td>\n      <td>NaN</td>\n      <td>NaN</td>\n      <td>NaN</td>\n      <td>NaN</td>\n      <td>7.8</td>\n      <td>мелодрама,комедия</td>\n      <td>NaN</td>\n    </tr>\n  </tbody>\n</table>\n</div>"
     },
     "metadata": {},
     "output_type": "display_data"
    }
   ],
   "source": [
    "merged_mov_data = movies_data.merge(shows_data, on='puNumber', how='left')\n",
    "display(merged_mov_data.head(10))"
   ]
  },
  {
   "cell_type": "code",
   "execution_count": 5,
   "metadata": {
    "pycharm": {
     "name": "#%%\n"
    }
   },
   "outputs": [
    {
     "name": "stdout",
     "output_type": "stream",
     "text": [
      "(7484, 15)\n",
      "(3158, 2)\n",
      "(7484, 16)\n"
     ]
    }
   ],
   "source": [
    "print(movies_data.shape)\n",
    "print(shows_data.shape)\n",
    "print(merged_mov_data.shape)"
   ]
  },
  {
   "cell_type": "markdown",
   "metadata": {
    "pycharm": {
     "name": "#%% md\n"
    }
   },
   "source": [
    "После проверки можем наблюдать, что все значения таблицы фильмов остались, в них интегрировались значения проката (количество столбцов стало больше, по одному столбцу произошло совмещение, а второй добавился в полученный датафрейм)"
   ]
  },
  {
   "cell_type": "markdown",
   "metadata": {
    "id": "KLDGpPG0gFyM",
    "pycharm": {
     "name": "#%% md\n"
    }
   },
   "source": [
    "### Предобработка данных"
   ]
  },
  {
   "cell_type": "code",
   "execution_count": 6,
   "metadata": {
    "id": "kVGSplJOgFyO",
    "pycharm": {
     "name": "#%%\n"
    }
   },
   "outputs": [
    {
     "name": "stdout",
     "output_type": "stream",
     "text": [
      "<class 'pandas.core.frame.DataFrame'>\n",
      "Int64Index: 7484 entries, 0 to 7483\n",
      "Data columns (total 16 columns):\n",
      " #   Column                 Non-Null Count  Dtype  \n",
      "---  ------                 --------------  -----  \n",
      " 0   title                  7484 non-null   object \n",
      " 1   puNumber               7484 non-null   int64  \n",
      " 2   show_start_date        7484 non-null   object \n",
      " 3   type                   7484 non-null   object \n",
      " 4   film_studio            7466 non-null   object \n",
      " 5   production_country     7482 non-null   object \n",
      " 6   director               7475 non-null   object \n",
      " 7   producer               6917 non-null   object \n",
      " 8   age_restriction        7484 non-null   object \n",
      " 9   refundable_support     332 non-null    float64\n",
      " 10  nonrefundable_support  332 non-null    float64\n",
      " 11  budget                 332 non-null    float64\n",
      " 12  financing_source       332 non-null    object \n",
      " 13  ratings                6519 non-null   object \n",
      " 14  genres                 6510 non-null   object \n",
      " 15  box_office             3158 non-null   float64\n",
      "dtypes: float64(4), int64(1), object(11)\n",
      "memory usage: 994.0+ KB\n"
     ]
    }
   ],
   "source": [
    "merged_mov_data.info()"
   ]
  },
  {
   "cell_type": "markdown",
   "metadata": {
    "pycharm": {
     "name": "#%% md\n"
    }
   },
   "source": [
    "Заменим:\n",
    " - 'show_start_date' в datetime\n",
    " - 'rating' в float\n",
    " - 'puNumber' в int64 заменили выше, во время слияния двух таблиц"
   ]
  },
  {
   "cell_type": "code",
   "execution_count": 7,
   "metadata": {
    "pycharm": {
     "name": "#%%\n"
    }
   },
   "outputs": [],
   "source": [
    "merged_mov_data[\"show_start_date\"] = merged_mov_data['show_start_date'].astype('datetime64[D]')"
   ]
  },
  {
   "cell_type": "code",
   "execution_count": 8,
   "metadata": {
    "pycharm": {
     "name": "#%%\n"
    }
   },
   "outputs": [
    {
     "data": {
      "text/plain": "                  title   puNumber show_start_date            type  \\\n0      Открытый простор  221048915      2015-11-27  Художественный   \n1  Особо важное задание  111013716      2016-09-13  Художественный   \n2          Особо опасен  221038416      2016-10-10  Художественный   \n3          Особо опасен  221026916      2016-06-10  Художественный   \n4          Особо опасен  221030815      2015-07-29  Художественный   \n5     Остановился поезд  111013816      2016-09-13  Художественный   \n6       Любовь и голуби  111007013      2013-10-18  Художественный   \n7     Любовь и сигареты  221074614      2014-12-29  Художественный   \n8    Отпетые мошенники.  121011416      2016-05-05  Художественный   \n9   Отпуск за свой счет  111019114      2014-12-01  Художественный   \n\n                                         film_studio production_country  \\\n0  Тачстоун Пикчерз, Кобальт Пикчерз, Бикон Пикче...                США   \n1                              Киностудия \"Мосфильм\"               СССР   \n2  Юниверсал Пикчерз, Кикстарт Продакшнз, Марк Пл...                США   \n3  Юниверсал Пикчерз, Кикстарт Продакшнз, Марк Пл...                США   \n4  Юниверсал Пикчерз, Кикстарт Продакшнз, Марк Пл...                США   \n5                              Киностудия \"Мосфильм\"               СССР   \n6                              Киностудия \"Мосфильм\"               СССР   \n7  Юнайтед Артистс, Грин Стрит Филмз, Айкон Интер...                США   \n8                     Пульсар Продюксьон, ТФ1 Фильм             Франция   \n9             Киностудия \"Мосфильм\", Телевидение ВНР      СССР, Венгрия   \n\n            director                                           producer  \\\n0      Кевин Костнер          Дэвид Валдес, Кевин Костнер, Джейк Эбертс   \n1          Е.Матвеев                                                NaN   \n2  Тимур Бекмамбетов  Джим Лемли, Джейсон Нетер, Марк Е.Платт, Яйн Смит   \n3  Тимур Бекмамбетов  Джим Лемли, Джейсон Нетер, Марк Е.Платт, Яйн Смит   \n4  Тимур Бекмамбетов  Джим Лемли, Джейсон Нетер, Марк Е.Платт, Яйн Смит   \n5       В.Абдрашитов                                                NaN   \n6          В.Меньшов                                                NaN   \n7      Джон Туртурро                        Джон Пенотти, Джон Туртурро   \n8       Эрик Беснард                                        Патрис Леду   \n9            В.Титов                                                NaN   \n\n                   age_restriction  refundable_support  nonrefundable_support  \\\n0      «18+» - запрещено для детей                 NaN                    NaN   \n1    «6+» - для детей старше 6 лет                 NaN                    NaN   \n2      «18+» - запрещено для детей                 NaN                    NaN   \n3      «18+» - запрещено для детей                 NaN                    NaN   \n4      «18+» - запрещено для детей                 NaN                    NaN   \n5    «6+» - для детей старше 6 лет                 NaN                    NaN   \n6  «12+» - для детей старше 12 лет                 NaN                    NaN   \n7      «18+» - запрещено для детей                 NaN                    NaN   \n8      «18+» - запрещено для детей                 NaN                    NaN   \n9  «12+» - для детей старше 12 лет                 NaN                    NaN   \n\n   budget financing_source  ratings                     genres  box_office  \n0     NaN              NaN      7.2     боевик,драма,мелодрама         NaN  \n1     NaN              NaN      6.6              драма,военный         NaN  \n2     NaN              NaN      6.8  фантастика,боевик,триллер         NaN  \n3     NaN              NaN      6.8  фантастика,боевик,триллер         NaN  \n4     NaN              NaN      6.8  фантастика,боевик,триллер         NaN  \n5     NaN              NaN      7.7                      драма         NaN  \n6     NaN              NaN      8.3          мелодрама,комедия      2700.0  \n7     NaN              NaN      6.6   мюзикл,мелодрама,комедия         NaN  \n8     NaN              NaN      8.0           комедия,криминал         NaN  \n9     NaN              NaN      7.8          мелодрама,комедия         NaN  ",
      "text/html": "<div>\n<style scoped>\n    .dataframe tbody tr th:only-of-type {\n        vertical-align: middle;\n    }\n\n    .dataframe tbody tr th {\n        vertical-align: top;\n    }\n\n    .dataframe thead th {\n        text-align: right;\n    }\n</style>\n<table border=\"1\" class=\"dataframe\">\n  <thead>\n    <tr style=\"text-align: right;\">\n      <th></th>\n      <th>title</th>\n      <th>puNumber</th>\n      <th>show_start_date</th>\n      <th>type</th>\n      <th>film_studio</th>\n      <th>production_country</th>\n      <th>director</th>\n      <th>producer</th>\n      <th>age_restriction</th>\n      <th>refundable_support</th>\n      <th>nonrefundable_support</th>\n      <th>budget</th>\n      <th>financing_source</th>\n      <th>ratings</th>\n      <th>genres</th>\n      <th>box_office</th>\n    </tr>\n  </thead>\n  <tbody>\n    <tr>\n      <th>0</th>\n      <td>Открытый простор</td>\n      <td>221048915</td>\n      <td>2015-11-27</td>\n      <td>Художественный</td>\n      <td>Тачстоун Пикчерз, Кобальт Пикчерз, Бикон Пикче...</td>\n      <td>США</td>\n      <td>Кевин Костнер</td>\n      <td>Дэвид Валдес, Кевин Костнер, Джейк Эбертс</td>\n      <td>«18+» - запрещено для детей</td>\n      <td>NaN</td>\n      <td>NaN</td>\n      <td>NaN</td>\n      <td>NaN</td>\n      <td>7.2</td>\n      <td>боевик,драма,мелодрама</td>\n      <td>NaN</td>\n    </tr>\n    <tr>\n      <th>1</th>\n      <td>Особо важное задание</td>\n      <td>111013716</td>\n      <td>2016-09-13</td>\n      <td>Художественный</td>\n      <td>Киностудия \"Мосфильм\"</td>\n      <td>СССР</td>\n      <td>Е.Матвеев</td>\n      <td>NaN</td>\n      <td>«6+» - для детей старше 6 лет</td>\n      <td>NaN</td>\n      <td>NaN</td>\n      <td>NaN</td>\n      <td>NaN</td>\n      <td>6.6</td>\n      <td>драма,военный</td>\n      <td>NaN</td>\n    </tr>\n    <tr>\n      <th>2</th>\n      <td>Особо опасен</td>\n      <td>221038416</td>\n      <td>2016-10-10</td>\n      <td>Художественный</td>\n      <td>Юниверсал Пикчерз, Кикстарт Продакшнз, Марк Пл...</td>\n      <td>США</td>\n      <td>Тимур Бекмамбетов</td>\n      <td>Джим Лемли, Джейсон Нетер, Марк Е.Платт, Яйн Смит</td>\n      <td>«18+» - запрещено для детей</td>\n      <td>NaN</td>\n      <td>NaN</td>\n      <td>NaN</td>\n      <td>NaN</td>\n      <td>6.8</td>\n      <td>фантастика,боевик,триллер</td>\n      <td>NaN</td>\n    </tr>\n    <tr>\n      <th>3</th>\n      <td>Особо опасен</td>\n      <td>221026916</td>\n      <td>2016-06-10</td>\n      <td>Художественный</td>\n      <td>Юниверсал Пикчерз, Кикстарт Продакшнз, Марк Пл...</td>\n      <td>США</td>\n      <td>Тимур Бекмамбетов</td>\n      <td>Джим Лемли, Джейсон Нетер, Марк Е.Платт, Яйн Смит</td>\n      <td>«18+» - запрещено для детей</td>\n      <td>NaN</td>\n      <td>NaN</td>\n      <td>NaN</td>\n      <td>NaN</td>\n      <td>6.8</td>\n      <td>фантастика,боевик,триллер</td>\n      <td>NaN</td>\n    </tr>\n    <tr>\n      <th>4</th>\n      <td>Особо опасен</td>\n      <td>221030815</td>\n      <td>2015-07-29</td>\n      <td>Художественный</td>\n      <td>Юниверсал Пикчерз, Кикстарт Продакшнз, Марк Пл...</td>\n      <td>США</td>\n      <td>Тимур Бекмамбетов</td>\n      <td>Джим Лемли, Джейсон Нетер, Марк Е.Платт, Яйн Смит</td>\n      <td>«18+» - запрещено для детей</td>\n      <td>NaN</td>\n      <td>NaN</td>\n      <td>NaN</td>\n      <td>NaN</td>\n      <td>6.8</td>\n      <td>фантастика,боевик,триллер</td>\n      <td>NaN</td>\n    </tr>\n    <tr>\n      <th>5</th>\n      <td>Остановился поезд</td>\n      <td>111013816</td>\n      <td>2016-09-13</td>\n      <td>Художественный</td>\n      <td>Киностудия \"Мосфильм\"</td>\n      <td>СССР</td>\n      <td>В.Абдрашитов</td>\n      <td>NaN</td>\n      <td>«6+» - для детей старше 6 лет</td>\n      <td>NaN</td>\n      <td>NaN</td>\n      <td>NaN</td>\n      <td>NaN</td>\n      <td>7.7</td>\n      <td>драма</td>\n      <td>NaN</td>\n    </tr>\n    <tr>\n      <th>6</th>\n      <td>Любовь и голуби</td>\n      <td>111007013</td>\n      <td>2013-10-18</td>\n      <td>Художественный</td>\n      <td>Киностудия \"Мосфильм\"</td>\n      <td>СССР</td>\n      <td>В.Меньшов</td>\n      <td>NaN</td>\n      <td>«12+» - для детей старше 12 лет</td>\n      <td>NaN</td>\n      <td>NaN</td>\n      <td>NaN</td>\n      <td>NaN</td>\n      <td>8.3</td>\n      <td>мелодрама,комедия</td>\n      <td>2700.0</td>\n    </tr>\n    <tr>\n      <th>7</th>\n      <td>Любовь и сигареты</td>\n      <td>221074614</td>\n      <td>2014-12-29</td>\n      <td>Художественный</td>\n      <td>Юнайтед Артистс, Грин Стрит Филмз, Айкон Интер...</td>\n      <td>США</td>\n      <td>Джон Туртурро</td>\n      <td>Джон Пенотти, Джон Туртурро</td>\n      <td>«18+» - запрещено для детей</td>\n      <td>NaN</td>\n      <td>NaN</td>\n      <td>NaN</td>\n      <td>NaN</td>\n      <td>6.6</td>\n      <td>мюзикл,мелодрама,комедия</td>\n      <td>NaN</td>\n    </tr>\n    <tr>\n      <th>8</th>\n      <td>Отпетые мошенники.</td>\n      <td>121011416</td>\n      <td>2016-05-05</td>\n      <td>Художественный</td>\n      <td>Пульсар Продюксьон, ТФ1 Фильм</td>\n      <td>Франция</td>\n      <td>Эрик Беснард</td>\n      <td>Патрис Леду</td>\n      <td>«18+» - запрещено для детей</td>\n      <td>NaN</td>\n      <td>NaN</td>\n      <td>NaN</td>\n      <td>NaN</td>\n      <td>8.0</td>\n      <td>комедия,криминал</td>\n      <td>NaN</td>\n    </tr>\n    <tr>\n      <th>9</th>\n      <td>Отпуск за свой счет</td>\n      <td>111019114</td>\n      <td>2014-12-01</td>\n      <td>Художественный</td>\n      <td>Киностудия \"Мосфильм\", Телевидение ВНР</td>\n      <td>СССР, Венгрия</td>\n      <td>В.Титов</td>\n      <td>NaN</td>\n      <td>«12+» - для детей старше 12 лет</td>\n      <td>NaN</td>\n      <td>NaN</td>\n      <td>NaN</td>\n      <td>NaN</td>\n      <td>7.8</td>\n      <td>мелодрама,комедия</td>\n      <td>NaN</td>\n    </tr>\n  </tbody>\n</table>\n</div>"
     },
     "metadata": {},
     "output_type": "display_data"
    }
   ],
   "source": [
    "merged_mov_data['ratings'] = merged_mov_data['ratings'].replace('\\%', '',regex=True)\n",
    "merged_mov_data['ratings'] = merged_mov_data['ratings'].astype(float)\n",
    "merged_mov_data.loc[merged_mov_data['ratings'] > 10, 'ratings'] = merged_mov_data['ratings'] / 10\n",
    "display(merged_mov_data.head(10))"
   ]
  },
  {
   "cell_type": "markdown",
   "metadata": {
    "pycharm": {
     "name": "#%% md\n"
    }
   },
   "source": [
    "Преобразуем рейтинг ожидания (указан в процентах) в обычный формат рейтинга."
   ]
  },
  {
   "cell_type": "code",
   "execution_count": 9,
   "metadata": {
    "pycharm": {
     "name": "#%%\n"
    }
   },
   "outputs": [
    {
     "name": "stdout",
     "output_type": "stream",
     "text": [
      "<class 'pandas.core.frame.DataFrame'>\n",
      "Int64Index: 7484 entries, 0 to 7483\n",
      "Data columns (total 16 columns):\n",
      " #   Column                 Non-Null Count  Dtype         \n",
      "---  ------                 --------------  -----         \n",
      " 0   title                  7484 non-null   object        \n",
      " 1   puNumber               7484 non-null   int64         \n",
      " 2   show_start_date        7484 non-null   datetime64[ns]\n",
      " 3   type                   7484 non-null   object        \n",
      " 4   film_studio            7466 non-null   object        \n",
      " 5   production_country     7482 non-null   object        \n",
      " 6   director               7475 non-null   object        \n",
      " 7   producer               6917 non-null   object        \n",
      " 8   age_restriction        7484 non-null   object        \n",
      " 9   refundable_support     332 non-null    float64       \n",
      " 10  nonrefundable_support  332 non-null    float64       \n",
      " 11  budget                 332 non-null    float64       \n",
      " 12  financing_source       332 non-null    object        \n",
      " 13  ratings                6519 non-null   float64       \n",
      " 14  genres                 6510 non-null   object        \n",
      " 15  box_office             3158 non-null   float64       \n",
      "dtypes: datetime64[ns](1), float64(5), int64(1), object(9)\n",
      "memory usage: 1.2+ MB\n"
     ]
    }
   ],
   "source": [
    "merged_mov_data.info()"
   ]
  },
  {
   "cell_type": "markdown",
   "metadata": {
    "pycharm": {
     "name": "#%% md\n"
    }
   },
   "source": [
    "Посмотрим количество пропусков в процентах на тепловой карте по столбцам"
   ]
  },
  {
   "cell_type": "code",
   "execution_count": 10,
   "metadata": {
    "pycharm": {
     "name": "#%%\n"
    }
   },
   "outputs": [
    {
     "data": {
      "text/plain": "<pandas.io.formats.style.Styler at 0x11fdc00d0>",
      "text/html": "<style type=\"text/css\">\n#T_7f945_row0_col0, #T_7f945_row1_col0, #T_7f945_row2_col0, #T_7f945_row3_col0, #T_7f945_row4_col0, #T_7f945_row5_col0, #T_7f945_row6_col0, #T_7f945_row8_col0 {\n  background-color: #003c30;\n  color: #f1f1f1;\n}\n#T_7f945_row7_col0 {\n  background-color: #015d54;\n  color: #f1f1f1;\n}\n#T_7f945_row9_col0, #T_7f945_row10_col0, #T_7f945_row11_col0, #T_7f945_row12_col0 {\n  background-color: #543005;\n  color: #f1f1f1;\n}\n#T_7f945_row13_col0, #T_7f945_row14_col0 {\n  background-color: #12766e;\n  color: #f1f1f1;\n}\n#T_7f945_row15_col0 {\n  background-color: #f5e7c0;\n  color: #000000;\n}\n</style>\n<table id=\"T_7f945\">\n  <thead>\n    <tr>\n      <th class=\"blank level0\" >&nbsp;</th>\n      <th id=\"T_7f945_level0_col0\" class=\"col_heading level0 col0\" >0</th>\n    </tr>\n  </thead>\n  <tbody>\n    <tr>\n      <th id=\"T_7f945_level0_row0\" class=\"row_heading level0 row0\" >title</th>\n      <td id=\"T_7f945_row0_col0\" class=\"data row0 col0\" >0.000000</td>\n    </tr>\n    <tr>\n      <th id=\"T_7f945_level0_row1\" class=\"row_heading level0 row1\" >puNumber</th>\n      <td id=\"T_7f945_row1_col0\" class=\"data row1 col0\" >0.000000</td>\n    </tr>\n    <tr>\n      <th id=\"T_7f945_level0_row2\" class=\"row_heading level0 row2\" >show_start_date</th>\n      <td id=\"T_7f945_row2_col0\" class=\"data row2 col0\" >0.000000</td>\n    </tr>\n    <tr>\n      <th id=\"T_7f945_level0_row3\" class=\"row_heading level0 row3\" >type</th>\n      <td id=\"T_7f945_row3_col0\" class=\"data row3 col0\" >0.000000</td>\n    </tr>\n    <tr>\n      <th id=\"T_7f945_level0_row4\" class=\"row_heading level0 row4\" >film_studio</th>\n      <td id=\"T_7f945_row4_col0\" class=\"data row4 col0\" >0.240000</td>\n    </tr>\n    <tr>\n      <th id=\"T_7f945_level0_row5\" class=\"row_heading level0 row5\" >production_country</th>\n      <td id=\"T_7f945_row5_col0\" class=\"data row5 col0\" >0.030000</td>\n    </tr>\n    <tr>\n      <th id=\"T_7f945_level0_row6\" class=\"row_heading level0 row6\" >director</th>\n      <td id=\"T_7f945_row6_col0\" class=\"data row6 col0\" >0.120000</td>\n    </tr>\n    <tr>\n      <th id=\"T_7f945_level0_row7\" class=\"row_heading level0 row7\" >producer</th>\n      <td id=\"T_7f945_row7_col0\" class=\"data row7 col0\" >7.580000</td>\n    </tr>\n    <tr>\n      <th id=\"T_7f945_level0_row8\" class=\"row_heading level0 row8\" >age_restriction</th>\n      <td id=\"T_7f945_row8_col0\" class=\"data row8 col0\" >0.000000</td>\n    </tr>\n    <tr>\n      <th id=\"T_7f945_level0_row9\" class=\"row_heading level0 row9\" >refundable_support</th>\n      <td id=\"T_7f945_row9_col0\" class=\"data row9 col0\" >95.560000</td>\n    </tr>\n    <tr>\n      <th id=\"T_7f945_level0_row10\" class=\"row_heading level0 row10\" >nonrefundable_support</th>\n      <td id=\"T_7f945_row10_col0\" class=\"data row10 col0\" >95.560000</td>\n    </tr>\n    <tr>\n      <th id=\"T_7f945_level0_row11\" class=\"row_heading level0 row11\" >budget</th>\n      <td id=\"T_7f945_row11_col0\" class=\"data row11 col0\" >95.560000</td>\n    </tr>\n    <tr>\n      <th id=\"T_7f945_level0_row12\" class=\"row_heading level0 row12\" >financing_source</th>\n      <td id=\"T_7f945_row12_col0\" class=\"data row12 col0\" >95.560000</td>\n    </tr>\n    <tr>\n      <th id=\"T_7f945_level0_row13\" class=\"row_heading level0 row13\" >ratings</th>\n      <td id=\"T_7f945_row13_col0\" class=\"data row13 col0\" >12.890000</td>\n    </tr>\n    <tr>\n      <th id=\"T_7f945_level0_row14\" class=\"row_heading level0 row14\" >genres</th>\n      <td id=\"T_7f945_row14_col0\" class=\"data row14 col0\" >13.010000</td>\n    </tr>\n    <tr>\n      <th id=\"T_7f945_level0_row15\" class=\"row_heading level0 row15\" >box_office</th>\n      <td id=\"T_7f945_row15_col0\" class=\"data row15 col0\" >57.800000</td>\n    </tr>\n  </tbody>\n</table>\n"
     },
     "execution_count": 10,
     "metadata": {},
     "output_type": "execute_result"
    }
   ],
   "source": [
    "pd.DataFrame(round(merged_mov_data.isna().mean()*100,2)).style.background_gradient('BrBG_r')"
   ]
  },
  {
   "cell_type": "markdown",
   "metadata": {
    "pycharm": {
     "name": "#%% md\n"
    }
   },
   "source": [
    "Изучив данную таблицу и проверив данные можем придти к выводам:\n",
    " - Пропуски в колонках film_studio, production_country, director, producer заполнить данными крайне трудно, заполним значением 'не указан'\n",
    " - Пропуски в столбцах ..support, budget, financing_source не будем заполнять, так как фильмов с господдержкой не так много, а соответственно остальные фильмы не получали господдержки\n",
    " - Пропуски в столбце ratings оставим, потому что заполнение их медианным значением испортит достоверность данных (пропусков значительное количество)\n",
    " - Пропуски в genres заполним значением 'не указан'\n",
    " - Пропуски в box_office оставим такими как есть"
   ]
  },
  {
   "cell_type": "code",
   "execution_count": 11,
   "metadata": {
    "pycharm": {
     "name": "#%%\n"
    }
   },
   "outputs": [],
   "source": [
    "for i in ['genres', 'director', 'producer', 'production_country', 'film_studio']:\n",
    "    merged_mov_data[i] = merged_mov_data[i].fillna('не указан')"
   ]
  },
  {
   "cell_type": "markdown",
   "metadata": {
    "id": "4c6k1t9ygFyQ",
    "pycharm": {
     "name": "#%% md\n"
    }
   },
   "source": [
    "#### Изучим дубликаты в датафрейме"
   ]
  },
  {
   "cell_type": "code",
   "execution_count": 12,
   "metadata": {
    "id": "aKck8RIdgFyQ",
    "pycharm": {
     "name": "#%%\n"
    }
   },
   "outputs": [
    {
     "data": {
      "text/plain": "714"
     },
     "execution_count": 12,
     "metadata": {},
     "output_type": "execute_result"
    }
   ],
   "source": [
    "merged_mov_data['title'].duplicated().sum()"
   ]
  },
  {
   "cell_type": "markdown",
   "metadata": {
    "pycharm": {
     "name": "#%% md\n"
    }
   },
   "source": [
    "Явных дубликатов в данном наборе 714, возможно это различные прокатные удостоверения на одни и те же фильмы, найдем неявные.\n",
    "Можно найти много неявных дубликатов в колонках с текстовыми значениями, они возникают из-за разных транскрипций английских названий и других похожих факторов, но в данном случае это не очень важно.\n",
    "Проверим дубликаты в колонках title и puNumber, именно с их помощью мы отличаем фильмы."
   ]
  },
  {
   "cell_type": "code",
   "execution_count": 13,
   "metadata": {
    "pycharm": {
     "name": "#%%\n"
    }
   },
   "outputs": [],
   "source": [
    "len(merged_mov_data)\n",
    "merged_mov_data['puNumber'].nunique()\n",
    "merged_mov_data['puNumber']=merged_mov_data['puNumber'].drop_duplicates().reset_index(drop=True)"
   ]
  },
  {
   "cell_type": "code",
   "execution_count": 14,
   "metadata": {
    "pycharm": {
     "name": "#%%\n"
    }
   },
   "outputs": [
    {
     "data": {
      "text/plain": "День святого Валентина                          5\nВолшебная страна                                5\nНепокоренный                                    4\nКрасавчик-2                                     4\nДом грёз                                        4\n                                               ..\nРыба моя                                        1\nС 5 до 7. Время любовников                      1\nКак поймать монстра                             1\nВторой шанс                                     1\nМашины песенки. Серия \"Когда цветут кактусы\"    1\nName: title, Length: 6673, dtype: int64"
     },
     "execution_count": 14,
     "metadata": {},
     "output_type": "execute_result"
    }
   ],
   "source": [
    "merged_mov_data['title'] = merged_mov_data['title'].str.strip('_')\n",
    "merged_mov_data['title'] = merged_mov_data['title'].str.strip('.')\n",
    "merged_mov_data['title'] = merged_mov_data['title'].str.strip('-')\n",
    "merged_mov_data['title'] = merged_mov_data['title'].str.strip()\n",
    "merged_mov_data['title'].value_counts()"
   ]
  },
  {
   "cell_type": "code",
   "execution_count": 15,
   "metadata": {
    "pycharm": {
     "name": "#%%\n"
    }
   },
   "outputs": [],
   "source": [
    "replace_dict = [\n",
    "    '\"Уорнер Бразерс Пикчерз\" и \"Леджендари Пикчерз\": Тихоокеанский рубеж',\n",
    "    '2 + 2',\n",
    "    '300 спартанцев /По роману-комиксу Фрэнка Миллера и Линн Варли/',\n",
    "    '300 спартанцев: Расцвет империи /По произведению Фрэнка Миллера \"Ксеркс\"/',\n",
    "    '300 спартанцев: Расцвет империи /По произведению Фрэнка Миллера \"Ксеркс\"/ (на английском языке)',\n",
    "    'Агент Джонни Инглиш 2: Перезагрузка',\n",
    "    'Алиса в стране чудес /По одноименному произведению Льюиса Кэрола/',\n",
    "    'Астрал. Глава вторая',\n",
    "    'Атлантида: затерянный мир',\n",
    "    'Беглецы -',\n",
    "    'Блэйд. Троица',\n",
    "    'Большая игра / Big Game',\n",
    "    'Вероника решает умереть (2009)',\n",
    "    'Викинг 18+',\n",
    "    'Выхода нет (2015)',\n",
    "    '',\n",
    "\n",
    "]\n",
    "fine_dict = [\n",
    "    'Тихоокеанский рубеж',\n",
    "    '2+2',\n",
    "    '300 спартанцев',\n",
    "    '300 спартанцев',\n",
    "    '300 спартанцев (на английском языке)',\n",
    "    'Агент Джонни Инглиш: Перезагрузка',\n",
    "    'Алиса в стране чудес /По книгам Льюиса Кэрролла \"Алиса в стране чудес\" и \"Алиса в Зазеркалье\"/',\n",
    "    'Астрал. Глава 2',\n",
    "    'Атлантида: Затерянный мир',\n",
    "    'Беглецы',\n",
    "    'Блэйд: Троица',\n",
    "    'Большая игра',\n",
    "    'Вероника решает умереть',\n",
    "    'Викинг',\n",
    "    'Выхода нет',\n",
    "    '',\n",
    "\n",
    "]\n",
    "merged_mov_data = merged_mov_data.replace(replace_dict, fine_dict)"
   ]
  },
  {
   "cell_type": "code",
   "execution_count": 16,
   "metadata": {
    "pycharm": {
     "name": "#%%\n"
    }
   },
   "outputs": [],
   "source": [
    "merged_mov_data['title_lower'] = merged_mov_data['title'].str.lower()"
   ]
  },
  {
   "cell_type": "markdown",
   "metadata": {
    "pycharm": {
     "name": "#%% md\n"
    }
   },
   "source": [
    "С помощью удаления лишних символов в начале и конце названий, точечных замен и приведению названий в нижний регистр добились сокращения большинства дубликатов, оставшиеся представляют собой единичные случае и не влияют на дальнейшее исследование"
   ]
  },
  {
   "cell_type": "markdown",
   "metadata": {
    "id": "52fOPrEBgFyQ",
    "pycharm": {
     "name": "#%% md\n"
    }
   },
   "source": [
    "#### Изучим категориальные значения"
   ]
  },
  {
   "cell_type": "code",
   "execution_count": 17,
   "metadata": {
    "id": "PnXKIVdFgFyR",
    "pycharm": {
     "name": "#%%\n"
    }
   },
   "outputs": [
    {
     "data": {
      "text/plain": "array(['Художественный', 'Анимационный', 'Прочие', 'Документальный',\n       'Научно-популярный', ' Художественный', ' Анимационный',\n       'Музыкально-развлекательный'], dtype=object)"
     },
     "execution_count": 17,
     "metadata": {},
     "output_type": "execute_result"
    }
   ],
   "source": [
    "merged_mov_data['type'].str.strip()\n",
    "merged_mov_data['type'].unique()"
   ]
  },
  {
   "cell_type": "markdown",
   "metadata": {
    "id": "XFSN5lrEgFyR",
    "pycharm": {
     "name": "#%% md\n"
    }
   },
   "source": [
    "#### Проверим количественные значения"
   ]
  },
  {
   "cell_type": "code",
   "execution_count": 18,
   "metadata": {
    "id": "YbzClBxagFyS",
    "pycharm": {
     "name": "#%%\n"
    }
   },
   "outputs": [
    {
     "data": {
      "text/plain": "count    3.320000e+02\nmean     1.272297e+08\nstd      1.885883e+08\nmin      0.000000e+00\n25%      4.200000e+07\n50%      6.864992e+07\n75%      1.419853e+08\nmax      2.305074e+09\nName: budget, dtype: float64"
     },
     "execution_count": 18,
     "metadata": {},
     "output_type": "execute_result"
    }
   ],
   "source": [
    "merged_mov_data['budget'].describe()"
   ]
  },
  {
   "cell_type": "markdown",
   "metadata": {
    "pycharm": {
     "name": "#%% md\n"
    }
   },
   "source": [
    "В описании данных видим, что минимальное значение равно нулю, по описанию данных такого быть не может, дополнительно проверим эти строки:"
   ]
  },
  {
   "cell_type": "code",
   "execution_count": 19,
   "metadata": {
    "pycharm": {
     "name": "#%%\n"
    }
   },
   "outputs": [
    {
     "data": {
      "text/plain": "                       title     puNumber show_start_date             type  \\\n2051                     14+  111023614.0      2014-12-19   Художественный   \n2056               Дуxless 2  111000415.0      2015-01-26   Художественный   \n2470             Воин (2015)  111017315.0      2015-09-28   Художественный   \n2530                  Бармен  111009615.0      2015-05-26   Художественный   \n2613     Савва. Сердце воина  114001715.0      2015-07-21     Анимационный   \n2682          Тряпичный союз  111010215.0      2015-06-08   Художественный   \n2786      Срочно выйду замуж  111017115.0      2015-09-30   Художественный   \n2872       Помню - не помню!  111004916.0      2016-03-01   Художественный   \n3045  Любовь с ограничениями  111008216.0      2016-04-29   Художественный   \n3563       Притяжение (2016)  111018116.0      2016-12-16   Художественный   \n3673                Чудо-юдо  114001817.0      2017-06-27     Анимационный   \n3737                    Мифы  111004317.0      2017-06-07   Художественный   \n5671                   Селфи  121028417.0      2018-02-01   Художественный   \n5804              Два хвоста  111002818.0      2018-05-31     Анимационный   \n6006      Принцесса и дракон  121014118.0      2018-08-23     Анимационный   \n6321                Баба Яга  114006618.0      2018-11-08     Анимационный   \n6821     Большое путешествие  121005819.0      2019-04-20     Анимационный   \n\n                                            film_studio production_country  \\\n2051                         ООО Киностудия  \"Сентябрь\"             Россия   \n2056  ООО \"Киностудия \"Слово\", ООО \"Арт Пикчерс Студия\"             Россия   \n2470   ООО \"Форпост Продакшн\", ООО \"Арт Пикчерс Студия\"             Россия   \n2530          АО \"ВайТ Медиа\", ООО \"Арт Пикчерс Студия\"             Россия   \n2613   ООО \"Глюкоза Продакшн\", ООО \"Арт Пикчерс Студия\"             Россия   \n2682                      ООО \"Кинокомпания \"КОКТЕБЕЛЬ\"             Россия   \n2786          АО \"ВайТ Медиа\", ООО \"Арт Пикчерс Студия\"             Россия   \n2872                                    ООО \"КиноФирма\"             Россия   \n3045          АО \"ВайТ Медиа\", ООО \"Арт Пикчерс Студия\"             Россия   \n3563      ООО \"Водород 2011\",  ООО \"Арт Пикчерс Студия\"             Россия   \n3673                                    ООО \"КиноФирма\"             Россия   \n3737           ООО \"ХАЙПФИЛМ\", ООО \"Арт Пикчерс Студия\"             Россия   \n5671  ООО \"Киностудия \"Слово\", ООО \"Арт Пикчерс Студия\"             Россия   \n5804                          ООО \"ЛИЦЕНЗИОННЫЕ БРЕНДЫ\"             Россия   \n6006                          ООО \"ЛИЦЕНЗИОННЫЕ БРЕНДЫ\"             Россия   \n6321                           ООО \"Арт Пикчерс Студия\"             Россия   \n6821                          ООО \"ЛИЦЕНЗИОННЫЕ БРЕНДЫ\"             Россия   \n\n                            director  \\\n2051                        А.Зайцев   \n2056                      Р.Прыгунов   \n2470                     А.Андрианов   \n2530                    Д.Штурманова   \n2613                        М.Фадеев   \n2682                     М.Местецкий   \n2786                       С Чекалов   \n2872                     В.Ровенский   \n3045                         Д.Тюрин   \n3563                     Ф.Бондарчук   \n3673                       А.Лукичев   \n3737                    А.Молочников   \n5671                      Н.Хомерики   \n5804  В.Ровенский, Н.Лопато, В.Азеев   \n6006                      М.Нефедова   \n6321                         В.Саков   \n6821           Н.Лопато, В.Ровенский   \n\n                                               producer  \\\n2051                                О.Гранина, А.Зайцев   \n2056                 П.Ануров, Ф.Бондарчук, Д.Рудовский   \n2470                           ООО \"Арт Пикчерс Студия\"   \n2530                                        Т.Вайнштейн   \n2613                                         А.Чистяков   \n2682                              Р.Борисевич, А.Кушаев   \n2786              Ф.Бондарчук, Т.Вайнштейн, Д.Рудовский   \n2872                                    ООО \"КиноФирма\"   \n3045              Ф.Бондарчук, Т.Вайнштейн, Д.Рудовский   \n3563                           ООО \"Арт Пикчерс Студия\"   \n3673                                    ООО \"КиноФирма\"   \n3737  Ф.Бондарчук, Д.Рудовский, И.Стюарт, М.Османн, ...   \n5671                 П.Ануров, Ф.Бондарчук, Д.Рудовский   \n5804                          ООО \"ЛИЦЕНЗИОННЫЕ БРЕНДЫ\"   \n6006                          ООО \"ЛИЦЕНЗИОННЫЕ БРЕНДЫ\"   \n6321  ООО \"Арт Пикчерс Студия\", ООО \"КРИЭЙТИВ АНИМЭЙ...   \n6821                          ООО \"ЛИЦЕНЗИОННЫЕ БРЕНДЫ\"   \n\n                      age_restriction  refundable_support  \\\n2051  «16+» - для детей старше 16 лет                 0.0   \n2056  «16+» - для детей старше 16 лет                 0.0   \n2470  «12+» - для детей старше 12 лет          10000000.0   \n2530  «16+» - для детей старше 16 лет          20000000.0   \n2613    «6+» - для детей старше 6 лет          60000000.0   \n2682      «18+» - запрещено для детей                 0.0   \n2786  «16+» - для детей старше 16 лет                 0.0   \n2872  «12+» - для детей старше 12 лет                 0.0   \n3045  «16+» - для детей старше 16 лет          19000000.0   \n3563  «12+» - для детей старше 12 лет                 0.0   \n3673    «6+» - для детей старше 6 лет          20000000.0   \n3737  «16+» - для детей старше 16 лет          25000000.0   \n5671  «16+» - для детей старше 16 лет          20000000.0   \n5804    «6+» - для детей старше 6 лет          10000000.0   \n6006    «6+» - для детей старше 6 лет          40000000.0   \n6321    «6+» - для детей старше 6 лет                 0.0   \n6821    «6+» - для детей старше 6 лет          60000000.0   \n\n      nonrefundable_support  budget                  financing_source  \\\n2051             23000000.0     0.0  Министерство культуры, Фонд кино   \n2056             75000000.0     0.0                         Фонд кино   \n2470             70000000.0     0.0                         Фонд кино   \n2530                    0.0     0.0                         Фонд кино   \n2613            100000000.0     0.0                         Фонд кино   \n2682             59000000.0     0.0                         Фонд кино   \n2786             35000000.0     0.0                         Фонд кино   \n2872              6000000.0     0.0             Министерство культуры   \n3045             51000000.0     0.0                         Фонд кино   \n3563            250000000.0     0.0                         Фонд кино   \n3673             20000000.0     0.0                         Фонд кино   \n3737             20000000.0     0.0                         Фонд кино   \n5671             40000000.0     0.0                         Фонд кино   \n5804             60000000.0     0.0                         Фонд кино   \n6006             40000000.0     0.0                         Фонд кино   \n6321            138969465.0     0.0                         Фонд кино   \n6821            120000000.0     0.0                         Фонд кино   \n\n      ratings                          genres    box_office  \\\n2051      6.6                       мелодрама  1.023402e+07   \n2056      6.6                           драма  4.461635e+08   \n2470      7.8           боевик,драма,криминал  1.965724e+08   \n2530      6.2                 комедия,фэнтези  6.741897e+07   \n2613      4.6  мультфильм,приключения,фэнтези  1.844876e+08   \n2682      6.3                   комедия,драма  1.957739e+06   \n2786      5.1               комедия,мелодрама  7.293778e+07   \n2872      4.3                         комедия  1.536293e+07   \n3045      6.3               комедия,мелодрама  7.029905e+07   \n3563      5.6                      фантастика  1.038321e+09   \n3673      5.2     мультфильм,фэнтези,семейный  5.510801e+07   \n3737      4.8                         комедия  5.045195e+07   \n5671      5.8                   триллер,драма  2.251964e+08   \n5804      5.0              мультфильм,детский  1.065143e+08   \n6006      5.2      мультфильм,фэнтези,детский  8.336633e+07   \n6321      NaN                       не указан  1.334699e+06   \n6821      6.2  мультфильм,комедия,приключения  1.476068e+08   \n\n                 title_lower  \n2051                     14+  \n2056               дуxless 2  \n2470             воин (2015)  \n2530                  бармен  \n2613     савва. сердце воина  \n2682          тряпичный союз  \n2786      срочно выйду замуж  \n2872       помню - не помню!  \n3045  любовь с ограничениями  \n3563       притяжение (2016)  \n3673                чудо-юдо  \n3737                    мифы  \n5671                   селфи  \n5804              два хвоста  \n6006      принцесса и дракон  \n6321                баба яга  \n6821     большое путешествие  ",
      "text/html": "<div>\n<style scoped>\n    .dataframe tbody tr th:only-of-type {\n        vertical-align: middle;\n    }\n\n    .dataframe tbody tr th {\n        vertical-align: top;\n    }\n\n    .dataframe thead th {\n        text-align: right;\n    }\n</style>\n<table border=\"1\" class=\"dataframe\">\n  <thead>\n    <tr style=\"text-align: right;\">\n      <th></th>\n      <th>title</th>\n      <th>puNumber</th>\n      <th>show_start_date</th>\n      <th>type</th>\n      <th>film_studio</th>\n      <th>production_country</th>\n      <th>director</th>\n      <th>producer</th>\n      <th>age_restriction</th>\n      <th>refundable_support</th>\n      <th>nonrefundable_support</th>\n      <th>budget</th>\n      <th>financing_source</th>\n      <th>ratings</th>\n      <th>genres</th>\n      <th>box_office</th>\n      <th>title_lower</th>\n    </tr>\n  </thead>\n  <tbody>\n    <tr>\n      <th>2051</th>\n      <td>14+</td>\n      <td>111023614.0</td>\n      <td>2014-12-19</td>\n      <td>Художественный</td>\n      <td>ООО Киностудия  \"Сентябрь\"</td>\n      <td>Россия</td>\n      <td>А.Зайцев</td>\n      <td>О.Гранина, А.Зайцев</td>\n      <td>«16+» - для детей старше 16 лет</td>\n      <td>0.0</td>\n      <td>23000000.0</td>\n      <td>0.0</td>\n      <td>Министерство культуры, Фонд кино</td>\n      <td>6.6</td>\n      <td>мелодрама</td>\n      <td>1.023402e+07</td>\n      <td>14+</td>\n    </tr>\n    <tr>\n      <th>2056</th>\n      <td>Дуxless 2</td>\n      <td>111000415.0</td>\n      <td>2015-01-26</td>\n      <td>Художественный</td>\n      <td>ООО \"Киностудия \"Слово\", ООО \"Арт Пикчерс Студия\"</td>\n      <td>Россия</td>\n      <td>Р.Прыгунов</td>\n      <td>П.Ануров, Ф.Бондарчук, Д.Рудовский</td>\n      <td>«16+» - для детей старше 16 лет</td>\n      <td>0.0</td>\n      <td>75000000.0</td>\n      <td>0.0</td>\n      <td>Фонд кино</td>\n      <td>6.6</td>\n      <td>драма</td>\n      <td>4.461635e+08</td>\n      <td>дуxless 2</td>\n    </tr>\n    <tr>\n      <th>2470</th>\n      <td>Воин (2015)</td>\n      <td>111017315.0</td>\n      <td>2015-09-28</td>\n      <td>Художественный</td>\n      <td>ООО \"Форпост Продакшн\", ООО \"Арт Пикчерс Студия\"</td>\n      <td>Россия</td>\n      <td>А.Андрианов</td>\n      <td>ООО \"Арт Пикчерс Студия\"</td>\n      <td>«12+» - для детей старше 12 лет</td>\n      <td>10000000.0</td>\n      <td>70000000.0</td>\n      <td>0.0</td>\n      <td>Фонд кино</td>\n      <td>7.8</td>\n      <td>боевик,драма,криминал</td>\n      <td>1.965724e+08</td>\n      <td>воин (2015)</td>\n    </tr>\n    <tr>\n      <th>2530</th>\n      <td>Бармен</td>\n      <td>111009615.0</td>\n      <td>2015-05-26</td>\n      <td>Художественный</td>\n      <td>АО \"ВайТ Медиа\", ООО \"Арт Пикчерс Студия\"</td>\n      <td>Россия</td>\n      <td>Д.Штурманова</td>\n      <td>Т.Вайнштейн</td>\n      <td>«16+» - для детей старше 16 лет</td>\n      <td>20000000.0</td>\n      <td>0.0</td>\n      <td>0.0</td>\n      <td>Фонд кино</td>\n      <td>6.2</td>\n      <td>комедия,фэнтези</td>\n      <td>6.741897e+07</td>\n      <td>бармен</td>\n    </tr>\n    <tr>\n      <th>2613</th>\n      <td>Савва. Сердце воина</td>\n      <td>114001715.0</td>\n      <td>2015-07-21</td>\n      <td>Анимационный</td>\n      <td>ООО \"Глюкоза Продакшн\", ООО \"Арт Пикчерс Студия\"</td>\n      <td>Россия</td>\n      <td>М.Фадеев</td>\n      <td>А.Чистяков</td>\n      <td>«6+» - для детей старше 6 лет</td>\n      <td>60000000.0</td>\n      <td>100000000.0</td>\n      <td>0.0</td>\n      <td>Фонд кино</td>\n      <td>4.6</td>\n      <td>мультфильм,приключения,фэнтези</td>\n      <td>1.844876e+08</td>\n      <td>савва. сердце воина</td>\n    </tr>\n    <tr>\n      <th>2682</th>\n      <td>Тряпичный союз</td>\n      <td>111010215.0</td>\n      <td>2015-06-08</td>\n      <td>Художественный</td>\n      <td>ООО \"Кинокомпания \"КОКТЕБЕЛЬ\"</td>\n      <td>Россия</td>\n      <td>М.Местецкий</td>\n      <td>Р.Борисевич, А.Кушаев</td>\n      <td>«18+» - запрещено для детей</td>\n      <td>0.0</td>\n      <td>59000000.0</td>\n      <td>0.0</td>\n      <td>Фонд кино</td>\n      <td>6.3</td>\n      <td>комедия,драма</td>\n      <td>1.957739e+06</td>\n      <td>тряпичный союз</td>\n    </tr>\n    <tr>\n      <th>2786</th>\n      <td>Срочно выйду замуж</td>\n      <td>111017115.0</td>\n      <td>2015-09-30</td>\n      <td>Художественный</td>\n      <td>АО \"ВайТ Медиа\", ООО \"Арт Пикчерс Студия\"</td>\n      <td>Россия</td>\n      <td>С Чекалов</td>\n      <td>Ф.Бондарчук, Т.Вайнштейн, Д.Рудовский</td>\n      <td>«16+» - для детей старше 16 лет</td>\n      <td>0.0</td>\n      <td>35000000.0</td>\n      <td>0.0</td>\n      <td>Фонд кино</td>\n      <td>5.1</td>\n      <td>комедия,мелодрама</td>\n      <td>7.293778e+07</td>\n      <td>срочно выйду замуж</td>\n    </tr>\n    <tr>\n      <th>2872</th>\n      <td>Помню - не помню!</td>\n      <td>111004916.0</td>\n      <td>2016-03-01</td>\n      <td>Художественный</td>\n      <td>ООО \"КиноФирма\"</td>\n      <td>Россия</td>\n      <td>В.Ровенский</td>\n      <td>ООО \"КиноФирма\"</td>\n      <td>«12+» - для детей старше 12 лет</td>\n      <td>0.0</td>\n      <td>6000000.0</td>\n      <td>0.0</td>\n      <td>Министерство культуры</td>\n      <td>4.3</td>\n      <td>комедия</td>\n      <td>1.536293e+07</td>\n      <td>помню - не помню!</td>\n    </tr>\n    <tr>\n      <th>3045</th>\n      <td>Любовь с ограничениями</td>\n      <td>111008216.0</td>\n      <td>2016-04-29</td>\n      <td>Художественный</td>\n      <td>АО \"ВайТ Медиа\", ООО \"Арт Пикчерс Студия\"</td>\n      <td>Россия</td>\n      <td>Д.Тюрин</td>\n      <td>Ф.Бондарчук, Т.Вайнштейн, Д.Рудовский</td>\n      <td>«16+» - для детей старше 16 лет</td>\n      <td>19000000.0</td>\n      <td>51000000.0</td>\n      <td>0.0</td>\n      <td>Фонд кино</td>\n      <td>6.3</td>\n      <td>комедия,мелодрама</td>\n      <td>7.029905e+07</td>\n      <td>любовь с ограничениями</td>\n    </tr>\n    <tr>\n      <th>3563</th>\n      <td>Притяжение (2016)</td>\n      <td>111018116.0</td>\n      <td>2016-12-16</td>\n      <td>Художественный</td>\n      <td>ООО \"Водород 2011\",  ООО \"Арт Пикчерс Студия\"</td>\n      <td>Россия</td>\n      <td>Ф.Бондарчук</td>\n      <td>ООО \"Арт Пикчерс Студия\"</td>\n      <td>«12+» - для детей старше 12 лет</td>\n      <td>0.0</td>\n      <td>250000000.0</td>\n      <td>0.0</td>\n      <td>Фонд кино</td>\n      <td>5.6</td>\n      <td>фантастика</td>\n      <td>1.038321e+09</td>\n      <td>притяжение (2016)</td>\n    </tr>\n    <tr>\n      <th>3673</th>\n      <td>Чудо-юдо</td>\n      <td>114001817.0</td>\n      <td>2017-06-27</td>\n      <td>Анимационный</td>\n      <td>ООО \"КиноФирма\"</td>\n      <td>Россия</td>\n      <td>А.Лукичев</td>\n      <td>ООО \"КиноФирма\"</td>\n      <td>«6+» - для детей старше 6 лет</td>\n      <td>20000000.0</td>\n      <td>20000000.0</td>\n      <td>0.0</td>\n      <td>Фонд кино</td>\n      <td>5.2</td>\n      <td>мультфильм,фэнтези,семейный</td>\n      <td>5.510801e+07</td>\n      <td>чудо-юдо</td>\n    </tr>\n    <tr>\n      <th>3737</th>\n      <td>Мифы</td>\n      <td>111004317.0</td>\n      <td>2017-06-07</td>\n      <td>Художественный</td>\n      <td>ООО \"ХАЙПФИЛМ\", ООО \"Арт Пикчерс Студия\"</td>\n      <td>Россия</td>\n      <td>А.Молочников</td>\n      <td>Ф.Бондарчук, Д.Рудовский, И.Стюарт, М.Османн, ...</td>\n      <td>«16+» - для детей старше 16 лет</td>\n      <td>25000000.0</td>\n      <td>20000000.0</td>\n      <td>0.0</td>\n      <td>Фонд кино</td>\n      <td>4.8</td>\n      <td>комедия</td>\n      <td>5.045195e+07</td>\n      <td>мифы</td>\n    </tr>\n    <tr>\n      <th>5671</th>\n      <td>Селфи</td>\n      <td>121028417.0</td>\n      <td>2018-02-01</td>\n      <td>Художественный</td>\n      <td>ООО \"Киностудия \"Слово\", ООО \"Арт Пикчерс Студия\"</td>\n      <td>Россия</td>\n      <td>Н.Хомерики</td>\n      <td>П.Ануров, Ф.Бондарчук, Д.Рудовский</td>\n      <td>«16+» - для детей старше 16 лет</td>\n      <td>20000000.0</td>\n      <td>40000000.0</td>\n      <td>0.0</td>\n      <td>Фонд кино</td>\n      <td>5.8</td>\n      <td>триллер,драма</td>\n      <td>2.251964e+08</td>\n      <td>селфи</td>\n    </tr>\n    <tr>\n      <th>5804</th>\n      <td>Два хвоста</td>\n      <td>111002818.0</td>\n      <td>2018-05-31</td>\n      <td>Анимационный</td>\n      <td>ООО \"ЛИЦЕНЗИОННЫЕ БРЕНДЫ\"</td>\n      <td>Россия</td>\n      <td>В.Ровенский, Н.Лопато, В.Азеев</td>\n      <td>ООО \"ЛИЦЕНЗИОННЫЕ БРЕНДЫ\"</td>\n      <td>«6+» - для детей старше 6 лет</td>\n      <td>10000000.0</td>\n      <td>60000000.0</td>\n      <td>0.0</td>\n      <td>Фонд кино</td>\n      <td>5.0</td>\n      <td>мультфильм,детский</td>\n      <td>1.065143e+08</td>\n      <td>два хвоста</td>\n    </tr>\n    <tr>\n      <th>6006</th>\n      <td>Принцесса и дракон</td>\n      <td>121014118.0</td>\n      <td>2018-08-23</td>\n      <td>Анимационный</td>\n      <td>ООО \"ЛИЦЕНЗИОННЫЕ БРЕНДЫ\"</td>\n      <td>Россия</td>\n      <td>М.Нефедова</td>\n      <td>ООО \"ЛИЦЕНЗИОННЫЕ БРЕНДЫ\"</td>\n      <td>«6+» - для детей старше 6 лет</td>\n      <td>40000000.0</td>\n      <td>40000000.0</td>\n      <td>0.0</td>\n      <td>Фонд кино</td>\n      <td>5.2</td>\n      <td>мультфильм,фэнтези,детский</td>\n      <td>8.336633e+07</td>\n      <td>принцесса и дракон</td>\n    </tr>\n    <tr>\n      <th>6321</th>\n      <td>Баба Яга</td>\n      <td>114006618.0</td>\n      <td>2018-11-08</td>\n      <td>Анимационный</td>\n      <td>ООО \"Арт Пикчерс Студия\"</td>\n      <td>Россия</td>\n      <td>В.Саков</td>\n      <td>ООО \"Арт Пикчерс Студия\", ООО \"КРИЭЙТИВ АНИМЭЙ...</td>\n      <td>«6+» - для детей старше 6 лет</td>\n      <td>0.0</td>\n      <td>138969465.0</td>\n      <td>0.0</td>\n      <td>Фонд кино</td>\n      <td>NaN</td>\n      <td>не указан</td>\n      <td>1.334699e+06</td>\n      <td>баба яга</td>\n    </tr>\n    <tr>\n      <th>6821</th>\n      <td>Большое путешествие</td>\n      <td>121005819.0</td>\n      <td>2019-04-20</td>\n      <td>Анимационный</td>\n      <td>ООО \"ЛИЦЕНЗИОННЫЕ БРЕНДЫ\"</td>\n      <td>Россия</td>\n      <td>Н.Лопато, В.Ровенский</td>\n      <td>ООО \"ЛИЦЕНЗИОННЫЕ БРЕНДЫ\"</td>\n      <td>«6+» - для детей старше 6 лет</td>\n      <td>60000000.0</td>\n      <td>120000000.0</td>\n      <td>0.0</td>\n      <td>Фонд кино</td>\n      <td>6.2</td>\n      <td>мультфильм,комедия,приключения</td>\n      <td>1.476068e+08</td>\n      <td>большое путешествие</td>\n    </tr>\n  </tbody>\n</table>\n</div>"
     },
     "execution_count": 19,
     "metadata": {},
     "output_type": "execute_result"
    }
   ],
   "source": [
    "merged_mov_data.loc[merged_mov_data['refundable_support'] + merged_mov_data['nonrefundable_support'] >= merged_mov_data['budget']]"
   ]
  },
  {
   "cell_type": "markdown",
   "metadata": {
    "pycharm": {
     "name": "#%% md\n"
    }
   },
   "source": [
    "В строках есть господдержка, но нет общего бюджета, так не может быть, строки удалим"
   ]
  },
  {
   "cell_type": "code",
   "execution_count": 20,
   "metadata": {
    "pycharm": {
     "name": "#%%\n"
    }
   },
   "outputs": [],
   "source": [
    "merged_mov_data = merged_mov_data.loc[~(merged_mov_data['refundable_support'] + merged_mov_data['nonrefundable_support'] >= merged_mov_data['budget'])]"
   ]
  },
  {
   "cell_type": "code",
   "execution_count": 21,
   "metadata": {
    "pycharm": {
     "name": "#%%\n"
    }
   },
   "outputs": [
    {
     "data": {
      "text/plain": "count    3.150000e+02\nmean     1.340961e+08\nstd      1.912260e+08\nmin      1.446246e+07\n25%      4.615387e+07\n50%      7.337955e+07\n75%      1.500043e+08\nmax      2.305074e+09\nName: budget, dtype: float64"
     },
     "metadata": {},
     "output_type": "display_data"
    },
    {
     "data": {
      "text/plain": "<Figure size 360x576 with 1 Axes>",
      "image/png": "[encoded data removed]"
     },
     "metadata": {},
     "output_type": "display_data"
    }
   ],
   "source": [
    "display(merged_mov_data['budget'].describe())\n",
    "merged_mov_data['budget'].plot(kind='box' ,grid=True, figsize = (5, 8));"
   ]
  },
  {
   "cell_type": "code",
   "execution_count": 22,
   "metadata": {
    "pycharm": {
     "name": "#%%\n"
    }
   },
   "outputs": [],
   "source": [
    "merged_mov_data['budget'] = merged_mov_data.loc[(merged_mov_data['budget'] <= 0.4*10**9) & (merged_mov_data['budget'] >= 0.2*10**8),'budget']"
   ]
  },
  {
   "cell_type": "code",
   "execution_count": 23,
   "metadata": {
    "pycharm": {
     "name": "#%%\n"
    }
   },
   "outputs": [
    {
     "data": {
      "text/plain": "count    3.141000e+03\nmean     7.600967e+07\nstd      2.402503e+08\nmin      0.000000e+00\n25%      8.395000e+04\n50%      2.284862e+06\n75%      2.344112e+07\nmax      3.073569e+09\nName: box_office, dtype: float64"
     },
     "metadata": {},
     "output_type": "display_data"
    },
    {
     "data": {
      "text/plain": "<Figure size 360x576 with 1 Axes>",
      "image/png": "[encoded data removed]"
     },
     "metadata": {},
     "output_type": "display_data"
    }
   ],
   "source": [
    "display(merged_mov_data['box_office'].describe())\n",
    "merged_mov_data['box_office'].plot(kind='box' ,grid=True, figsize = (5, 8));"
   ]
  },
  {
   "cell_type": "code",
   "execution_count": 24,
   "metadata": {
    "pycharm": {
     "name": "#%%\n"
    }
   },
   "outputs": [],
   "source": [
    "merged_mov_data['box_office'] = merged_mov_data.loc[(merged_mov_data['box_office'] <= 0.6*10**9) & (merged_mov_data['box_office'] >= 6.7*10**4),'box_office']"
   ]
  },
  {
   "cell_type": "code",
   "execution_count": 25,
   "metadata": {
    "pycharm": {
     "name": "#%%\n"
    }
   },
   "outputs": [
    {
     "name": "stdout",
     "output_type": "stream",
     "text": [
      "Удалено данных: 0.23%\n"
     ]
    }
   ],
   "source": [
    "print(f'Удалено данных: {round(100-merged_mov_data.shape[0] / movies_data.shape[0] * 100,2)}%')"
   ]
  },
  {
   "cell_type": "markdown",
   "metadata": {
    "id": "Eu6oWp2CgFyS",
    "pycharm": {
     "name": "#%% md\n"
    }
   },
   "source": [
    "#### Добавим новые столбцы"
   ]
  },
  {
   "cell_type": "markdown",
   "metadata": {
    "id": "7GgW-UpAgFyS",
    "pycharm": {
     "name": "#%% md\n"
    }
   },
   "source": [
    "Создадим столбец с информацией о годе проката. Выделим год из даты премьеры фильма."
   ]
  },
  {
   "cell_type": "code",
   "execution_count": 26,
   "metadata": {
    "id": "I-yd1DkWgFyT",
    "pycharm": {
     "name": "#%%\n"
    }
   },
   "outputs": [
    {
     "data": {
      "text/plain": "                  title     puNumber show_start_date            type  \\\n0      Открытый простор  221048915.0      2015-11-27  Художественный   \n1  Особо важное задание  111013716.0      2016-09-13  Художественный   \n2          Особо опасен  221038416.0      2016-10-10  Художественный   \n3          Особо опасен  221026916.0      2016-06-10  Художественный   \n4          Особо опасен  221030815.0      2015-07-29  Художественный   \n\n                                         film_studio production_country  \\\n0  Тачстоун Пикчерз, Кобальт Пикчерз, Бикон Пикче...                США   \n1                              Киностудия \"Мосфильм\"               СССР   \n2  Юниверсал Пикчерз, Кикстарт Продакшнз, Марк Пл...                США   \n3  Юниверсал Пикчерз, Кикстарт Продакшнз, Марк Пл...                США   \n4  Юниверсал Пикчерз, Кикстарт Продакшнз, Марк Пл...                США   \n\n            director                                           producer  \\\n0      Кевин Костнер          Дэвид Валдес, Кевин Костнер, Джейк Эбертс   \n1          Е.Матвеев                                          не указан   \n2  Тимур Бекмамбетов  Джим Лемли, Джейсон Нетер, Марк Е.Платт, Яйн Смит   \n3  Тимур Бекмамбетов  Джим Лемли, Джейсон Нетер, Марк Е.Платт, Яйн Смит   \n4  Тимур Бекмамбетов  Джим Лемли, Джейсон Нетер, Марк Е.Платт, Яйн Смит   \n\n                 age_restriction  refundable_support  nonrefundable_support  \\\n0    «18+» - запрещено для детей                 NaN                    NaN   \n1  «6+» - для детей старше 6 лет                 NaN                    NaN   \n2    «18+» - запрещено для детей                 NaN                    NaN   \n3    «18+» - запрещено для детей                 NaN                    NaN   \n4    «18+» - запрещено для детей                 NaN                    NaN   \n\n   budget financing_source  ratings                     genres  box_office  \\\n0     NaN              NaN      7.2     боевик,драма,мелодрама         NaN   \n1     NaN              NaN      6.6              драма,военный         NaN   \n2     NaN              NaN      6.8  фантастика,боевик,триллер         NaN   \n3     NaN              NaN      6.8  фантастика,боевик,триллер         NaN   \n4     NaN              NaN      6.8  фантастика,боевик,триллер         NaN   \n\n            title_lower  show_start_year  \n0      открытый простор             2015  \n1  особо важное задание             2016  \n2          особо опасен             2016  \n3          особо опасен             2016  \n4          особо опасен             2015  ",
      "text/html": "<div>\n<style scoped>\n    .dataframe tbody tr th:only-of-type {\n        vertical-align: middle;\n    }\n\n    .dataframe tbody tr th {\n        vertical-align: top;\n    }\n\n    .dataframe thead th {\n        text-align: right;\n    }\n</style>\n<table border=\"1\" class=\"dataframe\">\n  <thead>\n    <tr style=\"text-align: right;\">\n      <th></th>\n      <th>title</th>\n      <th>puNumber</th>\n      <th>show_start_date</th>\n      <th>type</th>\n      <th>film_studio</th>\n      <th>production_country</th>\n      <th>director</th>\n      <th>producer</th>\n      <th>age_restriction</th>\n      <th>refundable_support</th>\n      <th>nonrefundable_support</th>\n      <th>budget</th>\n      <th>financing_source</th>\n      <th>ratings</th>\n      <th>genres</th>\n      <th>box_office</th>\n      <th>title_lower</th>\n      <th>show_start_year</th>\n    </tr>\n  </thead>\n  <tbody>\n    <tr>\n      <th>0</th>\n      <td>Открытый простор</td>\n      <td>221048915.0</td>\n      <td>2015-11-27</td>\n      <td>Художественный</td>\n      <td>Тачстоун Пикчерз, Кобальт Пикчерз, Бикон Пикче...</td>\n      <td>США</td>\n      <td>Кевин Костнер</td>\n      <td>Дэвид Валдес, Кевин Костнер, Джейк Эбертс</td>\n      <td>«18+» - запрещено для детей</td>\n      <td>NaN</td>\n      <td>NaN</td>\n      <td>NaN</td>\n      <td>NaN</td>\n      <td>7.2</td>\n      <td>боевик,драма,мелодрама</td>\n      <td>NaN</td>\n      <td>открытый простор</td>\n      <td>2015</td>\n    </tr>\n    <tr>\n      <th>1</th>\n      <td>Особо важное задание</td>\n      <td>111013716.0</td>\n      <td>2016-09-13</td>\n      <td>Художественный</td>\n      <td>Киностудия \"Мосфильм\"</td>\n      <td>СССР</td>\n      <td>Е.Матвеев</td>\n      <td>не указан</td>\n      <td>«6+» - для детей старше 6 лет</td>\n      <td>NaN</td>\n      <td>NaN</td>\n      <td>NaN</td>\n      <td>NaN</td>\n      <td>6.6</td>\n      <td>драма,военный</td>\n      <td>NaN</td>\n      <td>особо важное задание</td>\n      <td>2016</td>\n    </tr>\n    <tr>\n      <th>2</th>\n      <td>Особо опасен</td>\n      <td>221038416.0</td>\n      <td>2016-10-10</td>\n      <td>Художественный</td>\n      <td>Юниверсал Пикчерз, Кикстарт Продакшнз, Марк Пл...</td>\n      <td>США</td>\n      <td>Тимур Бекмамбетов</td>\n      <td>Джим Лемли, Джейсон Нетер, Марк Е.Платт, Яйн Смит</td>\n      <td>«18+» - запрещено для детей</td>\n      <td>NaN</td>\n      <td>NaN</td>\n      <td>NaN</td>\n      <td>NaN</td>\n      <td>6.8</td>\n      <td>фантастика,боевик,триллер</td>\n      <td>NaN</td>\n      <td>особо опасен</td>\n      <td>2016</td>\n    </tr>\n    <tr>\n      <th>3</th>\n      <td>Особо опасен</td>\n      <td>221026916.0</td>\n      <td>2016-06-10</td>\n      <td>Художественный</td>\n      <td>Юниверсал Пикчерз, Кикстарт Продакшнз, Марк Пл...</td>\n      <td>США</td>\n      <td>Тимур Бекмамбетов</td>\n      <td>Джим Лемли, Джейсон Нетер, Марк Е.Платт, Яйн Смит</td>\n      <td>«18+» - запрещено для детей</td>\n      <td>NaN</td>\n      <td>NaN</td>\n      <td>NaN</td>\n      <td>NaN</td>\n      <td>6.8</td>\n      <td>фантастика,боевик,триллер</td>\n      <td>NaN</td>\n      <td>особо опасен</td>\n      <td>2016</td>\n    </tr>\n    <tr>\n      <th>4</th>\n      <td>Особо опасен</td>\n      <td>221030815.0</td>\n      <td>2015-07-29</td>\n      <td>Художественный</td>\n      <td>Юниверсал Пикчерз, Кикстарт Продакшнз, Марк Пл...</td>\n      <td>США</td>\n      <td>Тимур Бекмамбетов</td>\n      <td>Джим Лемли, Джейсон Нетер, Марк Е.Платт, Яйн Смит</td>\n      <td>«18+» - запрещено для детей</td>\n      <td>NaN</td>\n      <td>NaN</td>\n      <td>NaN</td>\n      <td>NaN</td>\n      <td>6.8</td>\n      <td>фантастика,боевик,триллер</td>\n      <td>NaN</td>\n      <td>особо опасен</td>\n      <td>2015</td>\n    </tr>\n  </tbody>\n</table>\n</div>"
     },
     "execution_count": 26,
     "metadata": {},
     "output_type": "execute_result"
    }
   ],
   "source": [
    "merged_mov_data['show_start_year'] = merged_mov_data['show_start_date'].dt.year\n",
    "merged_mov_data.head()"
   ]
  },
  {
   "cell_type": "markdown",
   "metadata": {
    "id": "nFTDLDYOgFyT",
    "pycharm": {
     "name": "#%% md\n"
    }
   },
   "source": [
    "Создадим два столбца: с именем и фамилией главного режиссёра и основным жанром фильма. В столбцы войдут первые значения из списка режиссёров и жанров соответственно."
   ]
  },
  {
   "cell_type": "code",
   "execution_count": 27,
   "metadata": {
    "id": "LSbRZKbMgFyU",
    "pycharm": {
     "name": "#%%\n"
    }
   },
   "outputs": [
    {
     "data": {
      "text/plain": "                                             title     puNumber  \\\n0                                 Открытый простор  221048915.0   \n1                             Особо важное задание  111013716.0   \n2                                     Особо опасен  221038416.0   \n3                                     Особо опасен  221026916.0   \n4                                     Особо опасен  221030815.0   \n...                                            ...          ...   \n7479     Сад художника: Американский импрессионизм  124010819.0   \n7480                               Звериная ярость  124010619.0   \n7481     Щенячий патруль: Скорей спешим на помощь!  124010719.0   \n7482      Машины песенки. Серия \"Испанские мотивы\"          NaN   \n7483  Машины песенки. Серия \"Когда цветут кактусы\"          NaN   \n\n     show_start_date             type  \\\n0         2015-11-27   Художественный   \n1         2016-09-13   Художественный   \n2         2016-10-10   Художественный   \n3         2016-06-10   Художественный   \n4         2015-07-29   Художественный   \n...              ...              ...   \n7479      2019-12-23           Прочие   \n7480      2019-12-24   Художественный   \n7481      2019-12-28   Художественный   \n7482      2019-12-30     Анимационный   \n7483      2019-12-30     Анимационный   \n\n                                            film_studio  \\\n0     Тачстоун Пикчерз, Кобальт Пикчерз, Бикон Пикче...   \n1                                 Киностудия \"Мосфильм\"   \n2     Юниверсал Пикчерз, Кикстарт Продакшнз, Марк Пл...   \n3     Юниверсал Пикчерз, Кикстарт Продакшнз, Марк Пл...   \n4     Юниверсал Пикчерз, Кикстарт Продакшнз, Марк Пл...   \n...                                                 ...   \n7479                               Севен Артс Продакшнз   \n7480  Дэниел Гродник Продакшнз, Вандерфилм Медиа Кор...   \n7481           Никелодеон Анимейшн Студиос, Спин Мастер   \n7482           Анимаккорд Лтд., ООО Студия \"АНИМАККОРД\"   \n7483           Анимаккорд Лтд., ООО Студия \"АНИМАККОРД\"   \n\n           production_country           director  \\\n0                         США      Кевин Костнер   \n1                        СССР          Е.Матвеев   \n2                         США  Тимур Бекмамбетов   \n3                         США  Тимур Бекмамбетов   \n4                         США  Тимур Бекмамбетов   \n...                       ...                ...   \n7479           Великобритания        Фил Грабски   \n7480                      США         Ник Пауэлл   \n7481             США - Канада   Чарльз Е.Бастьен   \n7482  Республика Кипр, Россия           А.Беляев   \n7483  Республика Кипр, Россия           И.Трусов   \n\n                                               producer  \\\n0             Дэвид Валдес, Кевин Костнер, Джейк Эбертс   \n1                                             не указан   \n2     Джим Лемли, Джейсон Нетер, Марк Е.Платт, Яйн Смит   \n3     Джим Лемли, Джейсон Нетер, Марк Е.Платт, Яйн Смит   \n4     Джим Лемли, Джейсон Нетер, Марк Е.Платт, Яйн Смит   \n...                                                 ...   \n7479                                        Фил Грабски   \n7480  Джефф Боулер, Дэниэл Гродник, Луильо Руис, Брэ...   \n7481                                     Дженнифер Додж   \n7482                                          Д.Ловейко   \n7483                                          Д.Ловейко   \n\n                             age_restriction  refundable_support  \\\n0                «18+» - запрещено для детей                 NaN   \n1              «6+» - для детей старше 6 лет                 NaN   \n2                «18+» - запрещено для детей                 NaN   \n3                «18+» - запрещено для детей                 NaN   \n4                «18+» - запрещено для детей                 NaN   \n...                                      ...                 ...   \n7479         «12+» - для детей старше 12 лет                 NaN   \n7480         «16+» - для детей старше 16 лет                 NaN   \n7481  «0+» - для любой зрительской аудитории                 NaN   \n7482  «0+» - для любой зрительской аудитории                 NaN   \n7483  «0+» - для любой зрительской аудитории                 NaN   \n\n      nonrefundable_support  budget financing_source  ratings  \\\n0                       NaN     NaN              NaN      7.2   \n1                       NaN     NaN              NaN      6.6   \n2                       NaN     NaN              NaN      6.8   \n3                       NaN     NaN              NaN      6.8   \n4                       NaN     NaN              NaN      6.8   \n...                     ...     ...              ...      ...   \n7479                    NaN     NaN              NaN      NaN   \n7480                    NaN     NaN              NaN      5.4   \n7481                    NaN     NaN              NaN      NaN   \n7482                    NaN     NaN              NaN      NaN   \n7483                    NaN     NaN              NaN      6.3   \n\n                         genres  box_office  \\\n0        боевик,драма,мелодрама         NaN   \n1                 драма,военный         NaN   \n2     фантастика,боевик,триллер         NaN   \n3     фантастика,боевик,триллер         NaN   \n4     фантастика,боевик,триллер         NaN   \n...                         ...         ...   \n7479                  не указан         NaN   \n7480             боевик,триллер         NaN   \n7481                  не указан         NaN   \n7482                  не указан         NaN   \n7483            комедия,вестерн         NaN   \n\n                                       title_lower  show_start_year  \\\n0                                 открытый простор             2015   \n1                             особо важное задание             2016   \n2                                     особо опасен             2016   \n3                                     особо опасен             2016   \n4                                     особо опасен             2015   \n...                                            ...              ...   \n7479     сад художника: американский импрессионизм             2019   \n7480                               звериная ярость             2019   \n7481     щенячий патруль: скорей спешим на помощь!             2019   \n7482      машины песенки. серия \"испанские мотивы\"             2019   \n7483  машины песенки. серия \"когда цветут кактусы\"             2019   \n\n       general_director general_genre  \n0         Кевин Костнер        боевик  \n1             Е.Матвеев         драма  \n2     Тимур Бекмамбетов    фантастика  \n3     Тимур Бекмамбетов    фантастика  \n4     Тимур Бекмамбетов    фантастика  \n...                 ...           ...  \n7479        Фил Грабски     не указан  \n7480         Ник Пауэлл        боевик  \n7481   Чарльз Е.Бастьен     не указан  \n7482           А.Беляев     не указан  \n7483           И.Трусов       комедия  \n\n[7467 rows x 20 columns]",
      "text/html": "<div>\n<style scoped>\n    .dataframe tbody tr th:only-of-type {\n        vertical-align: middle;\n    }\n\n    .dataframe tbody tr th {\n        vertical-align: top;\n    }\n\n    .dataframe thead th {\n        text-align: right;\n    }\n</style>\n<table border=\"1\" class=\"dataframe\">\n  <thead>\n    <tr style=\"text-align: right;\">\n      <th></th>\n      <th>title</th>\n      <th>puNumber</th>\n      <th>show_start_date</th>\n      <th>type</th>\n      <th>film_studio</th>\n      <th>production_country</th>\n      <th>director</th>\n      <th>producer</th>\n      <th>age_restriction</th>\n      <th>refundable_support</th>\n      <th>nonrefundable_support</th>\n      <th>budget</th>\n      <th>financing_source</th>\n      <th>ratings</th>\n      <th>genres</th>\n      <th>box_office</th>\n      <th>title_lower</th>\n      <th>show_start_year</th>\n      <th>general_director</th>\n      <th>general_genre</th>\n    </tr>\n  </thead>\n  <tbody>\n    <tr>\n      <th>0</th>\n      <td>Открытый простор</td>\n      <td>221048915.0</td>\n      <td>2015-11-27</td>\n      <td>Художественный</td>\n      <td>Тачстоун Пикчерз, Кобальт Пикчерз, Бикон Пикче...</td>\n      <td>США</td>\n      <td>Кевин Костнер</td>\n      <td>Дэвид Валдес, Кевин Костнер, Джейк Эбертс</td>\n      <td>«18+» - запрещено для детей</td>\n      <td>NaN</td>\n      <td>NaN</td>\n      <td>NaN</td>\n      <td>NaN</td>\n      <td>7.2</td>\n      <td>боевик,драма,мелодрама</td>\n      <td>NaN</td>\n      <td>открытый простор</td>\n      <td>2015</td>\n      <td>Кевин Костнер</td>\n      <td>боевик</td>\n    </tr>\n    <tr>\n      <th>1</th>\n      <td>Особо важное задание</td>\n      <td>111013716.0</td>\n      <td>2016-09-13</td>\n      <td>Художественный</td>\n      <td>Киностудия \"Мосфильм\"</td>\n      <td>СССР</td>\n      <td>Е.Матвеев</td>\n      <td>не указан</td>\n      <td>«6+» - для детей старше 6 лет</td>\n      <td>NaN</td>\n      <td>NaN</td>\n      <td>NaN</td>\n      <td>NaN</td>\n      <td>6.6</td>\n      <td>драма,военный</td>\n      <td>NaN</td>\n      <td>особо важное задание</td>\n      <td>2016</td>\n      <td>Е.Матвеев</td>\n      <td>драма</td>\n    </tr>\n    <tr>\n      <th>2</th>\n      <td>Особо опасен</td>\n      <td>221038416.0</td>\n      <td>2016-10-10</td>\n      <td>Художественный</td>\n      <td>Юниверсал Пикчерз, Кикстарт Продакшнз, Марк Пл...</td>\n      <td>США</td>\n      <td>Тимур Бекмамбетов</td>\n      <td>Джим Лемли, Джейсон Нетер, Марк Е.Платт, Яйн Смит</td>\n      <td>«18+» - запрещено для детей</td>\n      <td>NaN</td>\n      <td>NaN</td>\n      <td>NaN</td>\n      <td>NaN</td>\n      <td>6.8</td>\n      <td>фантастика,боевик,триллер</td>\n      <td>NaN</td>\n      <td>особо опасен</td>\n      <td>2016</td>\n      <td>Тимур Бекмамбетов</td>\n      <td>фантастика</td>\n    </tr>\n    <tr>\n      <th>3</th>\n      <td>Особо опасен</td>\n      <td>221026916.0</td>\n      <td>2016-06-10</td>\n      <td>Художественный</td>\n      <td>Юниверсал Пикчерз, Кикстарт Продакшнз, Марк Пл...</td>\n      <td>США</td>\n      <td>Тимур Бекмамбетов</td>\n      <td>Джим Лемли, Джейсон Нетер, Марк Е.Платт, Яйн Смит</td>\n      <td>«18+» - запрещено для детей</td>\n      <td>NaN</td>\n      <td>NaN</td>\n      <td>NaN</td>\n      <td>NaN</td>\n      <td>6.8</td>\n      <td>фантастика,боевик,триллер</td>\n      <td>NaN</td>\n      <td>особо опасен</td>\n      <td>2016</td>\n      <td>Тимур Бекмамбетов</td>\n      <td>фантастика</td>\n    </tr>\n    <tr>\n      <th>4</th>\n      <td>Особо опасен</td>\n      <td>221030815.0</td>\n      <td>2015-07-29</td>\n      <td>Художественный</td>\n      <td>Юниверсал Пикчерз, Кикстарт Продакшнз, Марк Пл...</td>\n      <td>США</td>\n      <td>Тимур Бекмамбетов</td>\n      <td>Джим Лемли, Джейсон Нетер, Марк Е.Платт, Яйн Смит</td>\n      <td>«18+» - запрещено для детей</td>\n      <td>NaN</td>\n      <td>NaN</td>\n      <td>NaN</td>\n      <td>NaN</td>\n      <td>6.8</td>\n      <td>фантастика,боевик,триллер</td>\n      <td>NaN</td>\n      <td>особо опасен</td>\n      <td>2015</td>\n      <td>Тимур Бекмамбетов</td>\n      <td>фантастика</td>\n    </tr>\n    <tr>\n      <th>...</th>\n      <td>...</td>\n      <td>...</td>\n      <td>...</td>\n      <td>...</td>\n      <td>...</td>\n      <td>...</td>\n      <td>...</td>\n      <td>...</td>\n      <td>...</td>\n      <td>...</td>\n      <td>...</td>\n      <td>...</td>\n      <td>...</td>\n      <td>...</td>\n      <td>...</td>\n      <td>...</td>\n      <td>...</td>\n      <td>...</td>\n      <td>...</td>\n      <td>...</td>\n    </tr>\n    <tr>\n      <th>7479</th>\n      <td>Сад художника: Американский импрессионизм</td>\n      <td>124010819.0</td>\n      <td>2019-12-23</td>\n      <td>Прочие</td>\n      <td>Севен Артс Продакшнз</td>\n      <td>Великобритания</td>\n      <td>Фил Грабски</td>\n      <td>Фил Грабски</td>\n      <td>«12+» - для детей старше 12 лет</td>\n      <td>NaN</td>\n      <td>NaN</td>\n      <td>NaN</td>\n      <td>NaN</td>\n      <td>NaN</td>\n      <td>не указан</td>\n      <td>NaN</td>\n      <td>сад художника: американский импрессионизм</td>\n      <td>2019</td>\n      <td>Фил Грабски</td>\n      <td>не указан</td>\n    </tr>\n    <tr>\n      <th>7480</th>\n      <td>Звериная ярость</td>\n      <td>124010619.0</td>\n      <td>2019-12-24</td>\n      <td>Художественный</td>\n      <td>Дэниел Гродник Продакшнз, Вандерфилм Медиа Кор...</td>\n      <td>США</td>\n      <td>Ник Пауэлл</td>\n      <td>Джефф Боулер, Дэниэл Гродник, Луильо Руис, Брэ...</td>\n      <td>«16+» - для детей старше 16 лет</td>\n      <td>NaN</td>\n      <td>NaN</td>\n      <td>NaN</td>\n      <td>NaN</td>\n      <td>5.4</td>\n      <td>боевик,триллер</td>\n      <td>NaN</td>\n      <td>звериная ярость</td>\n      <td>2019</td>\n      <td>Ник Пауэлл</td>\n      <td>боевик</td>\n    </tr>\n    <tr>\n      <th>7481</th>\n      <td>Щенячий патруль: Скорей спешим на помощь!</td>\n      <td>124010719.0</td>\n      <td>2019-12-28</td>\n      <td>Художественный</td>\n      <td>Никелодеон Анимейшн Студиос, Спин Мастер</td>\n      <td>США - Канада</td>\n      <td>Чарльз Е.Бастьен</td>\n      <td>Дженнифер Додж</td>\n      <td>«0+» - для любой зрительской аудитории</td>\n      <td>NaN</td>\n      <td>NaN</td>\n      <td>NaN</td>\n      <td>NaN</td>\n      <td>NaN</td>\n      <td>не указан</td>\n      <td>NaN</td>\n      <td>щенячий патруль: скорей спешим на помощь!</td>\n      <td>2019</td>\n      <td>Чарльз Е.Бастьен</td>\n      <td>не указан</td>\n    </tr>\n    <tr>\n      <th>7482</th>\n      <td>Машины песенки. Серия \"Испанские мотивы\"</td>\n      <td>NaN</td>\n      <td>2019-12-30</td>\n      <td>Анимационный</td>\n      <td>Анимаккорд Лтд., ООО Студия \"АНИМАККОРД\"</td>\n      <td>Республика Кипр, Россия</td>\n      <td>А.Беляев</td>\n      <td>Д.Ловейко</td>\n      <td>«0+» - для любой зрительской аудитории</td>\n      <td>NaN</td>\n      <td>NaN</td>\n      <td>NaN</td>\n      <td>NaN</td>\n      <td>NaN</td>\n      <td>не указан</td>\n      <td>NaN</td>\n      <td>машины песенки. серия \"испанские мотивы\"</td>\n      <td>2019</td>\n      <td>А.Беляев</td>\n      <td>не указан</td>\n    </tr>\n    <tr>\n      <th>7483</th>\n      <td>Машины песенки. Серия \"Когда цветут кактусы\"</td>\n      <td>NaN</td>\n      <td>2019-12-30</td>\n      <td>Анимационный</td>\n      <td>Анимаккорд Лтд., ООО Студия \"АНИМАККОРД\"</td>\n      <td>Республика Кипр, Россия</td>\n      <td>И.Трусов</td>\n      <td>Д.Ловейко</td>\n      <td>«0+» - для любой зрительской аудитории</td>\n      <td>NaN</td>\n      <td>NaN</td>\n      <td>NaN</td>\n      <td>NaN</td>\n      <td>6.3</td>\n      <td>комедия,вестерн</td>\n      <td>NaN</td>\n      <td>машины песенки. серия \"когда цветут кактусы\"</td>\n      <td>2019</td>\n      <td>И.Трусов</td>\n      <td>комедия</td>\n    </tr>\n  </tbody>\n</table>\n<p>7467 rows × 20 columns</p>\n</div>"
     },
     "execution_count": 27,
     "metadata": {},
     "output_type": "execute_result"
    }
   ],
   "source": [
    "def gen_first_item(item):\n",
    "    return item.split(',',1)[0]\n",
    "\n",
    "\n",
    "merged_mov_data['general_director'] = merged_mov_data.apply(lambda x: gen_first_item(x['director']), axis=1)\n",
    "merged_mov_data['general_genre'] = merged_mov_data.apply(lambda x: gen_first_item(x['genres']), axis=1)\n",
    "\n",
    "merged_mov_data"
   ]
  },
  {
   "cell_type": "markdown",
   "metadata": {
    "id": "1FsCXHwdgFyU",
    "pycharm": {
     "name": "#%% md\n"
    }
   },
   "source": [
    "Посчитаем, какую долю от общего бюджета фильма составляет государственная поддержка."
   ]
  },
  {
   "cell_type": "code",
   "execution_count": 28,
   "metadata": {
    "id": "LV6qFuZLgFyV",
    "pycharm": {
     "name": "#%%\n"
    }
   },
   "outputs": [
    {
     "data": {
      "text/plain": "                    title     puNumber show_start_date            type  \\\n1280        Пока еще жива  111005313.0      2013-10-11  Художественный   \n1447  Бесславные придурки  111003314.0      2014-03-28  Художественный   \n1497            Невидимки  111004213.0      2013-09-10  Художественный   \n1523                БЕРЦЫ  111004314.0      2014-05-05  Художественный   \n1791             Братья Ч  111004414.0      2014-04-23  Художественный   \n\n                                            film_studio production_country  \\\n1280  АНО содействия развитию кинематографии \"Ангел-...             Россия   \n1447                         ООО \"Компания \"АТК-Студио\"             Россия   \n1497                        ООО \"Компания \"РЕАЛ-ДАКОТА\"             Россия   \n1523                             ООО \"Студия \"Пассажир\"             Россия   \n1791                             ООО \"Студия \"Пассажир\"             Россия   \n\n                                  director  \\\n1280                            А.Атанесян   \n1447                             А.Якимчук   \n1497              Р.Давлетьяров, С.Комаров   \n1523  Е.Миндадзе (псевдоним Катя Шагалова)   \n1791                              М.Угаров   \n\n                                       producer  \\\n1280           А.Атанесян, М.Бабаханов, Р.Бутко   \n1447                                 А.Тютрюмов   \n1497  Р.Давлетьяров, А.Котелевский, А.Олейников   \n1523                                 Л.Антонова   \n1791                     А.Миндадзе, Л.Антонова   \n\n                      age_restriction  refundable_support  ...       budget  \\\n1280  «16+» - для детей старше 16 лет                 0.0  ...   79411900.0   \n1447  «12+» - для детей старше 12 лет                 0.0  ...   37142857.0   \n1497  «12+» - для детей старше 12 лет                 0.0  ...  176023490.0   \n1523  «16+» - для детей старше 16 лет                 0.0  ...   40574140.0   \n1791  «16+» - для детей старше 16 лет                 0.0  ...   40015122.0   \n\n           financing_source ratings              genres  box_office  \\\n1280  Министерство культуры     8.1     драма,мелодрама    365353.6   \n1447  Министерство культуры     NaN           не указан         NaN   \n1497              Фонд кино     5.3  комедия,фантастика  19957031.5   \n1523  Министерство культуры     4.2               драма         NaN   \n1791  Министерство культуры     6.4               драма    232100.0   \n\n              title_lower show_start_year  \\\n1280        пока еще жива            2013   \n1447  бесславные придурки            2014   \n1497            невидимки            2013   \n1523                берцы            2014   \n1791             братья ч            2014   \n\n                          general_director general_genre gov_support  \n1280                            А.Атанесян         драма        0.33  \n1447                             А.Якимчук     не указан        0.70  \n1497                         Р.Давлетьяров       комедия        0.61  \n1523  Е.Миндадзе (псевдоним Катя Шагалова)         драма        0.69  \n1791                              М.Угаров         драма        0.62  \n\n[5 rows x 21 columns]",
      "text/html": "<div>\n<style scoped>\n    .dataframe tbody tr th:only-of-type {\n        vertical-align: middle;\n    }\n\n    .dataframe tbody tr th {\n        vertical-align: top;\n    }\n\n    .dataframe thead th {\n        text-align: right;\n    }\n</style>\n<table border=\"1\" class=\"dataframe\">\n  <thead>\n    <tr style=\"text-align: right;\">\n      <th></th>\n      <th>title</th>\n      <th>puNumber</th>\n      <th>show_start_date</th>\n      <th>type</th>\n      <th>film_studio</th>\n      <th>production_country</th>\n      <th>director</th>\n      <th>producer</th>\n      <th>age_restriction</th>\n      <th>refundable_support</th>\n      <th>...</th>\n      <th>budget</th>\n      <th>financing_source</th>\n      <th>ratings</th>\n      <th>genres</th>\n      <th>box_office</th>\n      <th>title_lower</th>\n      <th>show_start_year</th>\n      <th>general_director</th>\n      <th>general_genre</th>\n      <th>gov_support</th>\n    </tr>\n  </thead>\n  <tbody>\n    <tr>\n      <th>1280</th>\n      <td>Пока еще жива</td>\n      <td>111005313.0</td>\n      <td>2013-10-11</td>\n      <td>Художественный</td>\n      <td>АНО содействия развитию кинематографии \"Ангел-...</td>\n      <td>Россия</td>\n      <td>А.Атанесян</td>\n      <td>А.Атанесян, М.Бабаханов, Р.Бутко</td>\n      <td>«16+» - для детей старше 16 лет</td>\n      <td>0.0</td>\n      <td>...</td>\n      <td>79411900.0</td>\n      <td>Министерство культуры</td>\n      <td>8.1</td>\n      <td>драма,мелодрама</td>\n      <td>365353.6</td>\n      <td>пока еще жива</td>\n      <td>2013</td>\n      <td>А.Атанесян</td>\n      <td>драма</td>\n      <td>0.33</td>\n    </tr>\n    <tr>\n      <th>1447</th>\n      <td>Бесславные придурки</td>\n      <td>111003314.0</td>\n      <td>2014-03-28</td>\n      <td>Художественный</td>\n      <td>ООО \"Компания \"АТК-Студио\"</td>\n      <td>Россия</td>\n      <td>А.Якимчук</td>\n      <td>А.Тютрюмов</td>\n      <td>«12+» - для детей старше 12 лет</td>\n      <td>0.0</td>\n      <td>...</td>\n      <td>37142857.0</td>\n      <td>Министерство культуры</td>\n      <td>NaN</td>\n      <td>не указан</td>\n      <td>NaN</td>\n      <td>бесславные придурки</td>\n      <td>2014</td>\n      <td>А.Якимчук</td>\n      <td>не указан</td>\n      <td>0.70</td>\n    </tr>\n    <tr>\n      <th>1497</th>\n      <td>Невидимки</td>\n      <td>111004213.0</td>\n      <td>2013-09-10</td>\n      <td>Художественный</td>\n      <td>ООО \"Компания \"РЕАЛ-ДАКОТА\"</td>\n      <td>Россия</td>\n      <td>Р.Давлетьяров, С.Комаров</td>\n      <td>Р.Давлетьяров, А.Котелевский, А.Олейников</td>\n      <td>«12+» - для детей старше 12 лет</td>\n      <td>0.0</td>\n      <td>...</td>\n      <td>176023490.0</td>\n      <td>Фонд кино</td>\n      <td>5.3</td>\n      <td>комедия,фантастика</td>\n      <td>19957031.5</td>\n      <td>невидимки</td>\n      <td>2013</td>\n      <td>Р.Давлетьяров</td>\n      <td>комедия</td>\n      <td>0.61</td>\n    </tr>\n    <tr>\n      <th>1523</th>\n      <td>БЕРЦЫ</td>\n      <td>111004314.0</td>\n      <td>2014-05-05</td>\n      <td>Художественный</td>\n      <td>ООО \"Студия \"Пассажир\"</td>\n      <td>Россия</td>\n      <td>Е.Миндадзе (псевдоним Катя Шагалова)</td>\n      <td>Л.Антонова</td>\n      <td>«16+» - для детей старше 16 лет</td>\n      <td>0.0</td>\n      <td>...</td>\n      <td>40574140.0</td>\n      <td>Министерство культуры</td>\n      <td>4.2</td>\n      <td>драма</td>\n      <td>NaN</td>\n      <td>берцы</td>\n      <td>2014</td>\n      <td>Е.Миндадзе (псевдоним Катя Шагалова)</td>\n      <td>драма</td>\n      <td>0.69</td>\n    </tr>\n    <tr>\n      <th>1791</th>\n      <td>Братья Ч</td>\n      <td>111004414.0</td>\n      <td>2014-04-23</td>\n      <td>Художественный</td>\n      <td>ООО \"Студия \"Пассажир\"</td>\n      <td>Россия</td>\n      <td>М.Угаров</td>\n      <td>А.Миндадзе, Л.Антонова</td>\n      <td>«16+» - для детей старше 16 лет</td>\n      <td>0.0</td>\n      <td>...</td>\n      <td>40015122.0</td>\n      <td>Министерство культуры</td>\n      <td>6.4</td>\n      <td>драма</td>\n      <td>232100.0</td>\n      <td>братья ч</td>\n      <td>2014</td>\n      <td>М.Угаров</td>\n      <td>драма</td>\n      <td>0.62</td>\n    </tr>\n  </tbody>\n</table>\n<p>5 rows × 21 columns</p>\n</div>"
     },
     "execution_count": 28,
     "metadata": {},
     "output_type": "execute_result"
    }
   ],
   "source": [
    "merged_mov_data['gov_support'] = round((merged_mov_data['refundable_support'] + merged_mov_data['nonrefundable_support'])/merged_mov_data['budget'] ,2)\n",
    "\n",
    "merged_mov_data.loc[merged_mov_data['gov_support'].notna()].head()"
   ]
  },
  {
   "cell_type": "code",
   "execution_count": 29,
   "metadata": {
    "pycharm": {
     "name": "#%%\n"
    }
   },
   "outputs": [],
   "source": [
    "# display(merged_mov_data)"
   ]
  },
  {
   "cell_type": "markdown",
   "metadata": {
    "id": "6t4EukPLgFyV",
    "pycharm": {
     "name": "#%% md\n"
    }
   },
   "source": [
    "### Исследовательский анализ данных\n"
   ]
  },
  {
   "cell_type": "markdown",
   "metadata": {
    "id": "vAH8WCzugFyV",
    "pycharm": {
     "name": "#%% md\n"
    }
   },
   "source": [
    "Посмотрим, сколько фильмов выходило в прокат каждый год."
   ]
  },
  {
   "cell_type": "code",
   "execution_count": 30,
   "metadata": {
    "pycharm": {
     "name": "#%%\n"
    }
   },
   "outputs": [
    {
     "data": {
      "text/plain": "<Figure size 504x288 with 1 Axes>",
      "image/png": "[encoded data removed]"
     },
     "metadata": {},
     "output_type": "display_data"
    }
   ],
   "source": [
    "pd.pivot_table(merged_mov_data, values=('title', 'box_office'), index='show_start_year', aggfunc='count').plot(kind='bar', figsize=(7, 4), fontsize=15);"
   ]
  },
  {
   "cell_type": "code",
   "execution_count": 31,
   "metadata": {
    "pycharm": {
     "name": "#%%\n"
    }
   },
   "outputs": [
    {
     "data": {
      "text/plain": "                 box_office  title   part\nshow_start_year                          \n2010                      3    985  0.003\n2011                      8    622  0.013\n2012                     14    592  0.024\n2013                     20    630  0.032\n2014                    118    805  0.147\n2015                    394    699  0.564\n2016                    446    815  0.547\n2017                    324    503  0.644\n2018                    443    887  0.499\n2019                    503    929  0.541",
      "text/html": "<div>\n<style scoped>\n    .dataframe tbody tr th:only-of-type {\n        vertical-align: middle;\n    }\n\n    .dataframe tbody tr th {\n        vertical-align: top;\n    }\n\n    .dataframe thead th {\n        text-align: right;\n    }\n</style>\n<table border=\"1\" class=\"dataframe\">\n  <thead>\n    <tr style=\"text-align: right;\">\n      <th></th>\n      <th>box_office</th>\n      <th>title</th>\n      <th>part</th>\n    </tr>\n    <tr>\n      <th>show_start_year</th>\n      <th></th>\n      <th></th>\n      <th></th>\n    </tr>\n  </thead>\n  <tbody>\n    <tr>\n      <th>2010</th>\n      <td>3</td>\n      <td>985</td>\n      <td>0.003</td>\n    </tr>\n    <tr>\n      <th>2011</th>\n      <td>8</td>\n      <td>622</td>\n      <td>0.013</td>\n    </tr>\n    <tr>\n      <th>2012</th>\n      <td>14</td>\n      <td>592</td>\n      <td>0.024</td>\n    </tr>\n    <tr>\n      <th>2013</th>\n      <td>20</td>\n      <td>630</td>\n      <td>0.032</td>\n    </tr>\n    <tr>\n      <th>2014</th>\n      <td>118</td>\n      <td>805</td>\n      <td>0.147</td>\n    </tr>\n    <tr>\n      <th>2015</th>\n      <td>394</td>\n      <td>699</td>\n      <td>0.564</td>\n    </tr>\n    <tr>\n      <th>2016</th>\n      <td>446</td>\n      <td>815</td>\n      <td>0.547</td>\n    </tr>\n    <tr>\n      <th>2017</th>\n      <td>324</td>\n      <td>503</td>\n      <td>0.644</td>\n    </tr>\n    <tr>\n      <th>2018</th>\n      <td>443</td>\n      <td>887</td>\n      <td>0.499</td>\n    </tr>\n    <tr>\n      <th>2019</th>\n      <td>503</td>\n      <td>929</td>\n      <td>0.541</td>\n    </tr>\n  </tbody>\n</table>\n</div>"
     },
     "metadata": {},
     "output_type": "display_data"
    }
   ],
   "source": [
    "i = pd.pivot_table(merged_mov_data, values=('title', 'box_office'), index='show_start_year', aggfunc='count') #ревьюеру: используем переменную i, чтобы не плодить лишние переменные, не нашел способа как это сделать по другому))\n",
    "i['part'] = round(i['box_office']/i['title'],3)\n",
    "display(i)"
   ]
  },
  {
   "cell_type": "markdown",
   "metadata": {
    "id": "BEOdcIrIgFyW",
    "pycharm": {
     "name": "#%% md\n"
    }
   },
   "source": [
    "Изучим, как менялась динамика проката по годам. В каком году сумма сборов была минимальной и максимальной."
   ]
  },
  {
   "cell_type": "code",
   "execution_count": 32,
   "metadata": {
    "pycharm": {
     "name": "#%%\n"
    }
   },
   "outputs": [
    {
     "data": {
      "text/plain": "show_start_year\n2010    1.860441e+06\n2011    1.333028e+07\n2012    5.853808e+06\n2013    2.858943e+07\n2014    4.483087e+09\n2015    2.206094e+10\n2016    2.253652e+10\n2017    1.881076e+10\n2018    2.346007e+10\n2019    2.179149e+10\nName: box_office, dtype: float64"
     },
     "execution_count": 32,
     "metadata": {},
     "output_type": "execute_result"
    }
   ],
   "source": [
    "merged_mov_data.groupby('show_start_year')['box_office'].sum()"
   ]
  },
  {
   "cell_type": "code",
   "execution_count": 33,
   "metadata": {
    "id": "tfEhofYvgFyX",
    "pycharm": {
     "name": "#%%\n"
    }
   },
   "outputs": [
    {
     "data": {
      "text/plain": "<Figure size 864x432 with 1 Axes>",
      "image/png": "[encoded data removed]"
     },
     "metadata": {},
     "output_type": "display_data"
    }
   ],
   "source": [
    "(merged_mov_data.groupby('show_start_year')['box_office']\n",
    " .sum()\n",
    " .plot(\n",
    "    style='o-',\n",
    "    y='mean' ,\n",
    "    grid=True,\n",
    "    figsize=(12, 6),\n",
    "    ylabel='',\n",
    "    xlabel='',\n",
    "    fontsize = 12)\n",
    ");"
   ]
  },
  {
   "cell_type": "markdown",
   "metadata": {
    "pycharm": {
     "name": "#%% md\n"
    }
   },
   "source": [
    "Анализируя график и сводную таблицу выше, можем сделать вывод:\n",
    "Самые большие сборы были в 2018 году, а самые низкие сборы - в 2010\n",
    "Полнее всего в данных представлены 2018-2019 года."
   ]
  },
  {
   "cell_type": "markdown",
   "metadata": {
    "id": "G-7qS-N-gFyY",
    "pycharm": {
     "name": "#%% md\n"
    }
   },
   "source": [
    "С помощью сводной таблицы посчитаем среднюю и медианную сумму сборов для каждого года."
   ]
  },
  {
   "cell_type": "code",
   "execution_count": 34,
   "metadata": {
    "id": "jmp-rgg9gFyY",
    "pycharm": {
     "name": "#%%\n"
    }
   },
   "outputs": [
    {
     "data": {
      "text/plain": "                         mean      median\n                   box_office  box_office\nshow_start_year                          \n2010             6.201470e+05   245630.00\n2011             1.666285e+06   100107.50\n2012             4.181291e+05   214278.00\n2013             1.429471e+06   142907.75\n2014             3.799226e+07   838900.50\n2015             5.599224e+07  6772856.25\n2016             5.053031e+07  4793164.25\n2017             5.805790e+07  8214761.00\n2018             5.295727e+07  8028592.00\n2019             4.332304e+07  4367482.86",
      "text/html": "<div>\n<style scoped>\n    .dataframe tbody tr th:only-of-type {\n        vertical-align: middle;\n    }\n\n    .dataframe tbody tr th {\n        vertical-align: top;\n    }\n\n    .dataframe thead tr th {\n        text-align: left;\n    }\n\n    .dataframe thead tr:last-of-type th {\n        text-align: right;\n    }\n</style>\n<table border=\"1\" class=\"dataframe\">\n  <thead>\n    <tr>\n      <th></th>\n      <th>mean</th>\n      <th>median</th>\n    </tr>\n    <tr>\n      <th></th>\n      <th>box_office</th>\n      <th>box_office</th>\n    </tr>\n    <tr>\n      <th>show_start_year</th>\n      <th></th>\n      <th></th>\n    </tr>\n  </thead>\n  <tbody>\n    <tr>\n      <th>2010</th>\n      <td>6.201470e+05</td>\n      <td>245630.00</td>\n    </tr>\n    <tr>\n      <th>2011</th>\n      <td>1.666285e+06</td>\n      <td>100107.50</td>\n    </tr>\n    <tr>\n      <th>2012</th>\n      <td>4.181291e+05</td>\n      <td>214278.00</td>\n    </tr>\n    <tr>\n      <th>2013</th>\n      <td>1.429471e+06</td>\n      <td>142907.75</td>\n    </tr>\n    <tr>\n      <th>2014</th>\n      <td>3.799226e+07</td>\n      <td>838900.50</td>\n    </tr>\n    <tr>\n      <th>2015</th>\n      <td>5.599224e+07</td>\n      <td>6772856.25</td>\n    </tr>\n    <tr>\n      <th>2016</th>\n      <td>5.053031e+07</td>\n      <td>4793164.25</td>\n    </tr>\n    <tr>\n      <th>2017</th>\n      <td>5.805790e+07</td>\n      <td>8214761.00</td>\n    </tr>\n    <tr>\n      <th>2018</th>\n      <td>5.295727e+07</td>\n      <td>8028592.00</td>\n    </tr>\n    <tr>\n      <th>2019</th>\n      <td>4.332304e+07</td>\n      <td>4367482.86</td>\n    </tr>\n  </tbody>\n</table>\n</div>"
     },
     "execution_count": 34,
     "metadata": {},
     "output_type": "execute_result"
    }
   ],
   "source": [
    "pd.pivot_table(merged_mov_data, values='box_office', index='show_start_year', aggfunc=['mean', 'median'])"
   ]
  },
  {
   "cell_type": "markdown",
   "metadata": {
    "pycharm": {
     "name": "#%% md\n"
    }
   },
   "source": [
    "Видим, что в 2010-2013 годах были рекордно низкие сборы, возможно это связано с тем, что кинотеатры не передавали данные о всех продажах в то время."
   ]
  },
  {
   "cell_type": "markdown",
   "metadata": {
    "id": "Ok89WFwJgFyZ",
    "pycharm": {
     "name": "#%% md\n"
    }
   },
   "source": [
    "Определим, влияет ли возрастное ограничение аудитории («6+», «12+», «16+», «18+» и т. д.) на сборы фильма в прокате в период с 2015 по 2019 год.\n",
    "Фильмы с каким возрастным ограничением собрали больше всего денег в прокате?"
   ]
  },
  {
   "cell_type": "code",
   "execution_count": 35,
   "metadata": {
    "pycharm": {
     "name": "#%%\n"
    }
   },
   "outputs": [
    {
     "data": {
      "text/plain": "                  title     puNumber show_start_date            type  \\\n0      Открытый простор  221048915.0      2015-11-27  Художественный   \n1  Особо важное задание  111013716.0      2016-09-13  Художественный   \n2          Особо опасен  221038416.0      2016-10-10  Художественный   \n3          Особо опасен  221026916.0      2016-06-10  Художественный   \n4          Особо опасен  221030815.0      2015-07-29  Художественный   \n\n                                         film_studio production_country  \\\n0  Тачстоун Пикчерз, Кобальт Пикчерз, Бикон Пикче...                США   \n1                              Киностудия \"Мосфильм\"               СССР   \n2  Юниверсал Пикчерз, Кикстарт Продакшнз, Марк Пл...                США   \n3  Юниверсал Пикчерз, Кикстарт Продакшнз, Марк Пл...                США   \n4  Юниверсал Пикчерз, Кикстарт Продакшнз, Марк Пл...                США   \n\n            director                                           producer  \\\n0      Кевин Костнер          Дэвид Валдес, Кевин Костнер, Джейк Эбертс   \n1          Е.Матвеев                                          не указан   \n2  Тимур Бекмамбетов  Джим Лемли, Джейсон Нетер, Марк Е.Платт, Яйн Смит   \n3  Тимур Бекмамбетов  Джим Лемли, Джейсон Нетер, Марк Е.Платт, Яйн Смит   \n4  Тимур Бекмамбетов  Джим Лемли, Джейсон Нетер, Марк Е.Платт, Яйн Смит   \n\n                 age_restriction  refundable_support  ...  financing_source  \\\n0    «18+» - запрещено для детей                 NaN  ...               NaN   \n1  «6+» - для детей старше 6 лет                 NaN  ...               NaN   \n2    «18+» - запрещено для детей                 NaN  ...               NaN   \n3    «18+» - запрещено для детей                 NaN  ...               NaN   \n4    «18+» - запрещено для детей                 NaN  ...               NaN   \n\n   ratings                     genres  box_office           title_lower  \\\n0      7.2     боевик,драма,мелодрама         NaN      открытый простор   \n1      6.6              драма,военный         NaN  особо важное задание   \n2      6.8  фантастика,боевик,триллер         NaN          особо опасен   \n3      6.8  фантастика,боевик,триллер         NaN          особо опасен   \n4      6.8  фантастика,боевик,триллер         NaN          особо опасен   \n\n   show_start_year   general_director  general_genre gov_support  \\\n0             2015      Кевин Костнер         боевик         NaN   \n1             2016          Е.Матвеев          драма         NaN   \n2             2016  Тимур Бекмамбетов     фантастика         NaN   \n3             2016  Тимур Бекмамбетов     фантастика         NaN   \n4             2015  Тимур Бекмамбетов     фантастика         NaN   \n\n  cut_age_restriction  \n0                 18+  \n1                  6+  \n2                 18+  \n3                 18+  \n4                 18+  \n\n[5 rows x 22 columns]",
      "text/html": "<div>\n<style scoped>\n    .dataframe tbody tr th:only-of-type {\n        vertical-align: middle;\n    }\n\n    .dataframe tbody tr th {\n        vertical-align: top;\n    }\n\n    .dataframe thead th {\n        text-align: right;\n    }\n</style>\n<table border=\"1\" class=\"dataframe\">\n  <thead>\n    <tr style=\"text-align: right;\">\n      <th></th>\n      <th>title</th>\n      <th>puNumber</th>\n      <th>show_start_date</th>\n      <th>type</th>\n      <th>film_studio</th>\n      <th>production_country</th>\n      <th>director</th>\n      <th>producer</th>\n      <th>age_restriction</th>\n      <th>refundable_support</th>\n      <th>...</th>\n      <th>financing_source</th>\n      <th>ratings</th>\n      <th>genres</th>\n      <th>box_office</th>\n      <th>title_lower</th>\n      <th>show_start_year</th>\n      <th>general_director</th>\n      <th>general_genre</th>\n      <th>gov_support</th>\n      <th>cut_age_restriction</th>\n    </tr>\n  </thead>\n  <tbody>\n    <tr>\n      <th>0</th>\n      <td>Открытый простор</td>\n      <td>221048915.0</td>\n      <td>2015-11-27</td>\n      <td>Художественный</td>\n      <td>Тачстоун Пикчерз, Кобальт Пикчерз, Бикон Пикче...</td>\n      <td>США</td>\n      <td>Кевин Костнер</td>\n      <td>Дэвид Валдес, Кевин Костнер, Джейк Эбертс</td>\n      <td>«18+» - запрещено для детей</td>\n      <td>NaN</td>\n      <td>...</td>\n      <td>NaN</td>\n      <td>7.2</td>\n      <td>боевик,драма,мелодрама</td>\n      <td>NaN</td>\n      <td>открытый простор</td>\n      <td>2015</td>\n      <td>Кевин Костнер</td>\n      <td>боевик</td>\n      <td>NaN</td>\n      <td>18+</td>\n    </tr>\n    <tr>\n      <th>1</th>\n      <td>Особо важное задание</td>\n      <td>111013716.0</td>\n      <td>2016-09-13</td>\n      <td>Художественный</td>\n      <td>Киностудия \"Мосфильм\"</td>\n      <td>СССР</td>\n      <td>Е.Матвеев</td>\n      <td>не указан</td>\n      <td>«6+» - для детей старше 6 лет</td>\n      <td>NaN</td>\n      <td>...</td>\n      <td>NaN</td>\n      <td>6.6</td>\n      <td>драма,военный</td>\n      <td>NaN</td>\n      <td>особо важное задание</td>\n      <td>2016</td>\n      <td>Е.Матвеев</td>\n      <td>драма</td>\n      <td>NaN</td>\n      <td>6+</td>\n    </tr>\n    <tr>\n      <th>2</th>\n      <td>Особо опасен</td>\n      <td>221038416.0</td>\n      <td>2016-10-10</td>\n      <td>Художественный</td>\n      <td>Юниверсал Пикчерз, Кикстарт Продакшнз, Марк Пл...</td>\n      <td>США</td>\n      <td>Тимур Бекмамбетов</td>\n      <td>Джим Лемли, Джейсон Нетер, Марк Е.Платт, Яйн Смит</td>\n      <td>«18+» - запрещено для детей</td>\n      <td>NaN</td>\n      <td>...</td>\n      <td>NaN</td>\n      <td>6.8</td>\n      <td>фантастика,боевик,триллер</td>\n      <td>NaN</td>\n      <td>особо опасен</td>\n      <td>2016</td>\n      <td>Тимур Бекмамбетов</td>\n      <td>фантастика</td>\n      <td>NaN</td>\n      <td>18+</td>\n    </tr>\n    <tr>\n      <th>3</th>\n      <td>Особо опасен</td>\n      <td>221026916.0</td>\n      <td>2016-06-10</td>\n      <td>Художественный</td>\n      <td>Юниверсал Пикчерз, Кикстарт Продакшнз, Марк Пл...</td>\n      <td>США</td>\n      <td>Тимур Бекмамбетов</td>\n      <td>Джим Лемли, Джейсон Нетер, Марк Е.Платт, Яйн Смит</td>\n      <td>«18+» - запрещено для детей</td>\n      <td>NaN</td>\n      <td>...</td>\n      <td>NaN</td>\n      <td>6.8</td>\n      <td>фантастика,боевик,триллер</td>\n      <td>NaN</td>\n      <td>особо опасен</td>\n      <td>2016</td>\n      <td>Тимур Бекмамбетов</td>\n      <td>фантастика</td>\n      <td>NaN</td>\n      <td>18+</td>\n    </tr>\n    <tr>\n      <th>4</th>\n      <td>Особо опасен</td>\n      <td>221030815.0</td>\n      <td>2015-07-29</td>\n      <td>Художественный</td>\n      <td>Юниверсал Пикчерз, Кикстарт Продакшнз, Марк Пл...</td>\n      <td>США</td>\n      <td>Тимур Бекмамбетов</td>\n      <td>Джим Лемли, Джейсон Нетер, Марк Е.Платт, Яйн Смит</td>\n      <td>«18+» - запрещено для детей</td>\n      <td>NaN</td>\n      <td>...</td>\n      <td>NaN</td>\n      <td>6.8</td>\n      <td>фантастика,боевик,триллер</td>\n      <td>NaN</td>\n      <td>особо опасен</td>\n      <td>2015</td>\n      <td>Тимур Бекмамбетов</td>\n      <td>фантастика</td>\n      <td>NaN</td>\n      <td>18+</td>\n    </tr>\n  </tbody>\n</table>\n<p>5 rows × 22 columns</p>\n</div>"
     },
     "metadata": {},
     "output_type": "display_data"
    }
   ],
   "source": [
    "merged_mov_data['cut_age_restriction'] = merged_mov_data['age_restriction'].str.split('»').str[0].str.strip('«')\n",
    "display(merged_mov_data.head())"
   ]
  },
  {
   "cell_type": "code",
   "execution_count": 36,
   "metadata": {
    "id": "jsSbEqfjgFya",
    "pycharm": {
     "name": "#%%\n"
    }
   },
   "outputs": [
    {
     "data": {
      "text/plain": "<Figure size 864x432 with 1 Axes>",
      "image/png": "[encoded data removed]"
     },
     "metadata": {},
     "output_type": "display_data"
    }
   ],
   "source": [
    "\n",
    "(merged_mov_data\n",
    " .loc[merged_mov_data['show_start_year'] >= 2015]\n",
    " .pivot_table\n",
    "    (\n",
    "    values='box_office',\n",
    "    index=['show_start_year',\n",
    "           'cut_age_restriction'],\n",
    "    aggfunc=['sum']\n",
    "    )\n",
    " .plot(kind='bar', figsize=(12, 6), fontsize=15)\n",
    ");"
   ]
  },
  {
   "cell_type": "markdown",
   "metadata": {
    "pycharm": {
     "name": "#%% md\n"
    }
   },
   "source": [
    "Анализируем график и видим, что возрастное ограничение действительно влияет на кассовые сборы.\n",
    "Чаще всего смотрят фильмы 12+ и 16+, скорее всего картина меняется год от года, потому что выходит больше или меньше различных фильмов с близкими возрастными ограничениями. Чуть реже смотрят фильмы 6+, еще реже фильмы только для взрослых (18+). Фильмы без возрастных ограничений (0+) из года в год смотрят реже всего."
   ]
  },
  {
   "cell_type": "markdown",
   "metadata": {
    "id": "l_Kg6Ku4gFya",
    "pycharm": {
     "name": "#%% md\n"
    }
   },
   "source": [
    "### Исследуем фильмы, которые получили государственную поддержку\n",
    "\n",
    "Посмотрим, сколько выделяют средств на поддержку кино. Проверим, хорошо ли окупаются такие фильмы, какой у них рейтинг."
   ]
  },
  {
   "cell_type": "code",
   "execution_count": 37,
   "metadata": {
    "pycharm": {
     "name": "#%%\n"
    }
   },
   "outputs": [],
   "source": [
    "gov_support_films = merged_mov_data.loc[merged_mov_data['budget'].notna()]"
   ]
  },
  {
   "cell_type": "markdown",
   "metadata": {
    "pycharm": {
     "name": "#%% md\n"
    }
   },
   "source": [
    "Посмотрим, сколько выделяют средств на поддержку кино, каких средств больше, возвратных или невозвратных, а также долю господдержки.\n"
   ]
  },
  {
   "cell_type": "code",
   "execution_count": 38,
   "metadata": {
    "pycharm": {
     "name": "#%%\n"
    }
   },
   "outputs": [
    {
     "data": {
      "text/plain": "<Figure size 864x432 with 1 Axes>",
      "image/png": "[encoded data removed]"
     },
     "metadata": {},
     "output_type": "display_data"
    }
   ],
   "source": [
    "(gov_support_films\n",
    " .pivot_table\n",
    "    (\n",
    "     values=['refundable_support','nonrefundable_support','budget'],\n",
    "     index='show_start_year',\n",
    "     aggfunc='mean'\n",
    "    )\n",
    " .plot(kind='bar', figsize=(12, 6), fontsize=15)\n",
    " );"
   ]
  },
  {
   "cell_type": "markdown",
   "metadata": {
    "pycharm": {
     "name": "#%% md\n"
    }
   },
   "source": [
    "На гистограмме показано, что в 2013 году было выделено больше всего денег государственной поддержки, при этом она была невозвратной. Можно предположить, что в 2014 году был пилотный запуск программы государственной поддержки кино. После этого были проанализированы полученные данные и дальше государственная поддержка развивалась постепенно, добавилась возвратная часть. Можем видеть плавный рост объема выделенных средств с 2014 по 2017 год, далее 2018-2019 года с небольшим увеличением объема финансирования.\n",
    "Основная часть государственного финансирования - невозвратные средства, при этом постепенно увеличиваясь закладывается и возвратная часть (около одной четверти невозвратного финансирования).\n",
    "Не считая 2013 года, где доля господдержки была около 55%, в среднем финансируется 30-50% затрат на производство картины."
   ]
  },
  {
   "cell_type": "markdown",
   "metadata": {
    "pycharm": {
     "name": "#%% md\n"
    }
   },
   "source": [
    "Проверим, сколько фильмов с господдержкой выпускали в разные года:"
   ]
  },
  {
   "cell_type": "code",
   "execution_count": 39,
   "metadata": {
    "pycharm": {
     "name": "#%%\n"
    }
   },
   "outputs": [
    {
     "data": {
      "text/plain": "                 budget\nshow_start_year        \n2013                  2\n2014                 15\n2015                 77\n2016                 54\n2017                 33\n2018                 51\n2019                 62",
      "text/html": "<div>\n<style scoped>\n    .dataframe tbody tr th:only-of-type {\n        vertical-align: middle;\n    }\n\n    .dataframe tbody tr th {\n        vertical-align: top;\n    }\n\n    .dataframe thead th {\n        text-align: right;\n    }\n</style>\n<table border=\"1\" class=\"dataframe\">\n  <thead>\n    <tr style=\"text-align: right;\">\n      <th></th>\n      <th>budget</th>\n    </tr>\n    <tr>\n      <th>show_start_year</th>\n      <th></th>\n    </tr>\n  </thead>\n  <tbody>\n    <tr>\n      <th>2013</th>\n      <td>2</td>\n    </tr>\n    <tr>\n      <th>2014</th>\n      <td>15</td>\n    </tr>\n    <tr>\n      <th>2015</th>\n      <td>77</td>\n    </tr>\n    <tr>\n      <th>2016</th>\n      <td>54</td>\n    </tr>\n    <tr>\n      <th>2017</th>\n      <td>33</td>\n    </tr>\n    <tr>\n      <th>2018</th>\n      <td>51</td>\n    </tr>\n    <tr>\n      <th>2019</th>\n      <td>62</td>\n    </tr>\n  </tbody>\n</table>\n</div>"
     },
     "metadata": {},
     "output_type": "display_data"
    },
    {
     "data": {
      "text/plain": "<Figure size 864x432 with 1 Axes>",
      "image/png": "[encoded data removed]"
     },
     "metadata": {},
     "output_type": "display_data"
    }
   ],
   "source": [
    "i = gov_support_films.pivot_table(\n",
    "    values=['budget'],\n",
    "    index='show_start_year',\n",
    "    aggfunc='count'\n",
    "    )\n",
    "display(i)\n",
    "i.plot(kind='bar', figsize=(12, 6), fontsize=15);\n",
    "\n"
   ]
  },
  {
   "cell_type": "markdown",
   "metadata": {
    "pycharm": {
     "name": "#%% md\n"
    }
   },
   "source": [
    "Из графика и сводной таблицы видим, что в 2013 было всего 2 профинансированных государством фильма.\n",
    "В 2014 программа поддержки сработала еще на 15 картинах.\n",
    "С 2015 года программу запустили на полную мощность, появилось значительное количество картин с господдержкой, больше всего в 2015 и 2019х годах."
   ]
  },
  {
   "cell_type": "markdown",
   "metadata": {
    "pycharm": {
     "name": "#%% md\n"
    }
   },
   "source": [
    "Проверим, как хорошо окупаются такие фильмы\n"
   ]
  },
  {
   "cell_type": "code",
   "execution_count": 40,
   "metadata": {
    "pycharm": {
     "name": "#%%\n"
    }
   },
   "outputs": [
    {
     "data": {
      "text/plain": "<Figure size 864x432 with 1 Axes>",
      "image/png": "[encoded data removed]"
     },
     "metadata": {},
     "output_type": "display_data"
    }
   ],
   "source": [
    "(gov_support_films\n",
    " .pivot_table\n",
    "    (\n",
    "    values=['budget','box_office'],\n",
    "    index='show_start_year',\n",
    "    aggfunc=['mean']\n",
    "    )\n",
    ".plot(kind='bar', figsize=(12, 6), fontsize=15)\n",
    ");"
   ]
  },
  {
   "cell_type": "markdown",
   "metadata": {
    "pycharm": {
     "name": "#%% md\n"
    }
   },
   "source": [
    "Анализируя график и сводную таблицу можем наблюдать, что в среднем, фильмы с государственной поддержкой окупаются редко, так, в среднем кассовые сборы были меньше, чем бюджет фильма."
   ]
  },
  {
   "cell_type": "markdown",
   "metadata": {
    "pycharm": {
     "name": "#%% md\n"
    }
   },
   "source": [
    "Проанализируем рейтинг фильмов с господдержкой"
   ]
  },
  {
   "cell_type": "code",
   "execution_count": 41,
   "metadata": {
    "pycharm": {
     "name": "#%%\n"
    }
   },
   "outputs": [
    {
     "data": {
      "text/plain": "<Figure size 864x432 with 1 Axes>",
      "image/png": "[encoded data removed]"
     },
     "metadata": {},
     "output_type": "display_data"
    }
   ],
   "source": [
    "(gov_support_films\n",
    " .pivot_table\n",
    "     (\n",
    "     values=['ratings'],\n",
    "     index='show_start_year',\n",
    "     aggfunc=['median']\n",
    " )\n",
    " .plot(style=('o-'), figsize=(12, 6), fontsize=15)\n",
    " );"
   ]
  },
  {
   "cell_type": "code",
   "execution_count": 42,
   "metadata": {
    "pycharm": {
     "name": "#%%\n"
    }
   },
   "outputs": [
    {
     "data": {
      "text/plain": "6.2"
     },
     "execution_count": 42,
     "metadata": {},
     "output_type": "execute_result"
    }
   ],
   "source": [
    "gov_support_films['ratings'].median()"
   ]
  },
  {
   "cell_type": "markdown",
   "metadata": {
    "pycharm": {
     "name": "#%% md\n"
    }
   },
   "source": [
    "Медианный рейтинг фильмов с государственной поддержкой достаточно хороший, около 6.2 из 10, но при этом нельзя его назвать высоким, на графике видим падение пользовательских оценок к 2016 году, далее качество фильмов, по субъективным оценкам начало повышаться."
   ]
  },
  {
   "cell_type": "code",
   "execution_count": 43,
   "metadata": {
    "pycharm": {
     "name": "#%%\n"
    }
   },
   "outputs": [
    {
     "data": {
      "text/plain": "Text(0.5, 1.0, 'Correlation heatmap')"
     },
     "execution_count": 43,
     "metadata": {},
     "output_type": "execute_result"
    },
    {
     "data": {
      "text/plain": "<Figure size 1152x360 with 2 Axes>",
      "image/png": "[encoded data removed]"
     },
     "metadata": {},
     "output_type": "display_data"
    }
   ],
   "source": [
    "corr_columns = ['ratings', 'budget', 'box_office', 'nonrefundable_support']\n",
    "plt.figure(figsize = (16,5))\n",
    "seaborn.heatmap(gov_support_films[corr_columns].corr(), vmin=-1, vmax=1, annot=True, cmap='ocean_r').set_title('Correlation heatmap', fontdict={'fontsize':18})"
   ]
  },
  {
   "cell_type": "code",
   "execution_count": 44,
   "metadata": {
    "pycharm": {
     "name": "#%%\n"
    }
   },
   "outputs": [
    {
     "data": {
      "text/plain": "<Figure size 1080x432 with 1 Axes>",
      "image/png": "[encoded data removed]"
     },
     "metadata": {},
     "output_type": "display_data"
    }
   ],
   "source": [
    "(gov_support_films\n",
    " .pivot_table\n",
    "     (\n",
    "     values=['budget'],\n",
    "     index='general_director',\n",
    "     aggfunc=['mean']\n",
    " )\n",
    " .sort_values(by=('mean','budget'), ascending=False)\n",
    " .head(30)\n",
    " .plot(kind='bar', figsize=(15, 6), fontsize=15)\n",
    " );"
   ]
  },
  {
   "cell_type": "markdown",
   "metadata": {
    "pycharm": {
     "name": "#%% md\n"
    }
   },
   "source": [
    "Получили топ-30 режиссеров, по бюджету среди фильмовс государственной поддержкой"
   ]
  },
  {
   "cell_type": "code",
   "execution_count": 45,
   "metadata": {
    "pycharm": {
     "name": "#%%\n"
    }
   },
   "outputs": [
    {
     "data": {
      "text/plain": "<Figure size 1080x432 with 1 Axes>",
      "image/png": "[encoded data removed]"
     },
     "metadata": {},
     "output_type": "display_data"
    }
   ],
   "source": [
    "(gov_support_films\n",
    " .pivot_table\n",
    "     (\n",
    "     values=['budget', 'nonrefundable_support'],\n",
    "     index='general_genre',\n",
    "     aggfunc=['mean']\n",
    " )\n",
    " .sort_values(by=('mean','budget'), ascending=False)\n",
    " .head(15)\n",
    " .plot(kind='bar', figsize=(15, 6), fontsize=15)\n",
    " );"
   ]
  },
  {
   "cell_type": "markdown",
   "metadata": {
    "pycharm": {
     "name": "#%% md\n"
    }
   },
   "source": [
    "Исходя из графика выше, можно понять, что самые большие затраты забирают на себя мультфильмы, далее идут биографические фильмы, а также исторические и военные. Как правило, фильмы с господдержкой выпускаются именно в этих жанрах. Удивительно, что большая часть господдержки идет на фильмы в жанре \"криминал\"."
   ]
  },
  {
   "cell_type": "markdown",
   "metadata": {
    "id": "V2gYwMcPgFyd",
    "pycharm": {
     "name": "#%% md\n"
    }
   },
   "source": [
    "### Напишите общий вывод\n"
   ]
  },
  {
   "cell_type": "markdown",
   "metadata": {
    "id": "AYRg3dzXgFye",
    "pycharm": {
     "name": "#%% md\n"
    }
   },
   "source": [
    "#### В ходе исследования были проведены:\n",
    " - Объединение двух датасетов в один, для анализа полученных данных;\n",
    " - Преобразованы типы данных, устранены пропуски там, где это необходимо;\n",
    " - Проверены дубликаты, устранены проблемы в категориальных и количественных данных;\n",
    " - Добавлены необходимые столбцы в объединенный датасет;\n",
    " - В ходе исследовательского анализа были сделаны выводы, что полнее всего в данных представлены 2018 и 2019 года, а в 2018 году сумма сборов была максимальной (почти 50 млн рублей);\n",
    " - Самые успешные в прокате фильмы имеют возрастное ограничение 12+ или 16+;\n",
    " - Также был исследован сегмент фильмов с государственной поддержкой, были определены периоды, когда государственная поддержка была большой, какого типа была поддержка (возвратной или невозвратной), определен рейтинг фильмов с господдержкой.\n",
    "\n",
    "При исследовании фильмов с господдержкой были выявлены следующие факты: \n",
    " - Рейтинг фильмов до 2016 года стремительно падал, сейчас доверие людей к фильмам с государственной поддержкой возвращается, растут рейтинги, повышается качество фильмов;\n",
    " - На данный момент, используя полученные данные, можно сделать вывод, что почти все фильмы с господдержкой убыточны, при этом хаотичность размеров убытков год от года уменьшается, что говорит о положительной динамике и лучшем планировании при кинопроизводстве;\n",
    " - Бюджет фильмов с 2017 года растет плавно, без всплесков, это свидетельствует о правильном направлении планирования бюджетов; \n"
   ]
  }
 ],
 "metadata": {
  "ExecuteTimeLog": [
   {
    "duration": 537,
    "start_time": "2021-07-07T10:12:08.634Z"
   },
   {
    "duration": 206,
    "start_time": "2021-07-07T10:12:30.191Z"
   },
   {
    "duration": 227,
    "start_time": "2021-07-07T10:12:33.078Z"
   },
   {
    "duration": 153,
    "start_time": "2021-07-07T10:13:42.146Z"
   },
   {
    "duration": 233,
    "start_time": "2021-07-07T10:30:09.252Z"
   },
   {
    "duration": 19,
    "start_time": "2021-07-07T10:30:15.577Z"
   },
   {
    "duration": 18,
    "start_time": "2021-07-07T10:30:57.348Z"
   },
   {
    "duration": 19,
    "start_time": "2021-07-07T10:31:17.452Z"
   },
   {
    "duration": 21,
    "start_time": "2021-07-07T10:31:32.227Z"
   },
   {
    "duration": 27,
    "start_time": "2021-07-07T10:32:06.588Z"
   },
   {
    "duration": 23,
    "start_time": "2021-07-07T10:32:43.645Z"
   },
   {
    "duration": 24,
    "start_time": "2021-07-07T10:33:06.948Z"
   },
   {
    "duration": 7,
    "start_time": "2021-07-07T10:33:28.558Z"
   },
   {
    "duration": 23,
    "start_time": "2021-07-07T10:33:43.761Z"
   },
   {
    "duration": 28,
    "start_time": "2021-07-07T10:34:13.466Z"
   },
   {
    "duration": 23,
    "start_time": "2021-07-07T10:35:56.187Z"
   },
   {
    "duration": 6,
    "start_time": "2021-07-07T10:36:48.182Z"
   },
   {
    "duration": 14,
    "start_time": "2021-07-07T10:37:49.641Z"
   },
   {
    "duration": 6,
    "start_time": "2021-07-07T10:38:06.694Z"
   },
   {
    "duration": 6,
    "start_time": "2021-07-07T10:38:13.493Z"
   },
   {
    "duration": 19,
    "start_time": "2021-07-07T10:38:44.056Z"
   },
   {
    "duration": 186,
    "start_time": "2021-07-07T10:48:35.618Z"
   },
   {
    "duration": 24,
    "start_time": "2021-07-07T10:48:51.498Z"
   },
   {
    "duration": 20,
    "start_time": "2021-07-07T10:48:59.415Z"
   },
   {
    "duration": 20,
    "start_time": "2021-07-07T10:53:02.195Z"
   },
   {
    "duration": 188,
    "start_time": "2021-07-07T10:54:40.486Z"
   },
   {
    "duration": 115,
    "start_time": "2021-07-07T10:54:52.552Z"
   },
   {
    "duration": 214,
    "start_time": "2021-07-07T10:54:56.354Z"
   },
   {
    "duration": 47,
    "start_time": "2021-07-07T10:54:58.282Z"
   },
   {
    "duration": 217,
    "start_time": "2021-07-07T10:59:16.075Z"
   },
   {
    "duration": 51,
    "start_time": "2021-07-07T10:59:16.243Z"
   },
   {
    "duration": 578,
    "start_time": "2021-07-07T10:59:18.774Z"
   },
   {
    "duration": 161,
    "start_time": "2021-07-07T10:59:21.238Z"
   },
   {
    "duration": 59,
    "start_time": "2021-07-07T10:59:21.453Z"
   },
   {
    "duration": 3,
    "start_time": "2021-07-07T11:02:10.786Z"
   },
   {
    "duration": 13,
    "start_time": "2021-07-07T11:07:07.722Z"
   },
   {
    "duration": 26,
    "start_time": "2021-07-07T11:07:17.958Z"
   },
   {
    "duration": 22,
    "start_time": "2021-07-07T11:08:17.939Z"
   },
   {
    "duration": 212,
    "start_time": "2021-07-07T11:08:19.665Z"
   },
   {
    "duration": 21,
    "start_time": "2021-07-07T11:08:29.945Z"
   },
   {
    "duration": 31,
    "start_time": "2021-07-07T11:08:38.899Z"
   },
   {
    "duration": 23,
    "start_time": "2021-07-07T11:08:54.527Z"
   },
   {
    "duration": 8,
    "start_time": "2021-07-07T11:18:55.974Z"
   },
   {
    "duration": 7,
    "start_time": "2021-07-07T11:19:03.639Z"
   },
   {
    "duration": 7,
    "start_time": "2021-07-07T11:19:06.444Z"
   },
   {
    "duration": 578,
    "start_time": "2021-07-07T12:09:59.576Z"
   },
   {
    "duration": 195,
    "start_time": "2021-07-07T12:10:00.156Z"
   },
   {
    "duration": 115,
    "start_time": "2021-07-07T12:10:00.353Z"
   },
   {
    "duration": 3,
    "start_time": "2021-07-07T12:10:00.470Z"
   },
   {
    "duration": 32,
    "start_time": "2021-07-07T12:10:00.474Z"
   },
   {
    "duration": 23,
    "start_time": "2021-07-07T12:10:00.508Z"
   },
   {
    "duration": 19,
    "start_time": "2021-07-07T12:10:00.533Z"
   },
   {
    "duration": 44,
    "start_time": "2021-07-07T12:10:00.553Z"
   },
   {
    "duration": 7,
    "start_time": "2021-07-07T12:10:00.600Z"
   },
   {
    "duration": 7,
    "start_time": "2021-07-07T12:19:45.761Z"
   },
   {
    "duration": 21,
    "start_time": "2021-07-07T12:21:35.482Z"
   },
   {
    "duration": 21,
    "start_time": "2021-07-07T12:29:23.569Z"
   },
   {
    "duration": 525,
    "start_time": "2021-07-07T12:29:44.542Z"
   },
   {
    "duration": 214,
    "start_time": "2021-07-07T12:29:45.069Z"
   },
   {
    "duration": 92,
    "start_time": "2021-07-07T12:29:45.285Z"
   },
   {
    "duration": 3,
    "start_time": "2021-07-07T12:29:45.379Z"
   },
   {
    "duration": 28,
    "start_time": "2021-07-07T12:29:45.384Z"
   },
   {
    "duration": 23,
    "start_time": "2021-07-07T12:29:45.413Z"
   },
   {
    "duration": 21,
    "start_time": "2021-07-07T12:29:45.437Z"
   },
   {
    "duration": 41,
    "start_time": "2021-07-07T12:29:45.460Z"
   },
   {
    "duration": 7,
    "start_time": "2021-07-07T12:29:45.502Z"
   },
   {
    "duration": 20,
    "start_time": "2021-07-07T12:29:45.511Z"
   },
   {
    "duration": 12,
    "start_time": "2021-07-07T12:34:02.800Z"
   },
   {
    "duration": 7,
    "start_time": "2021-07-07T12:35:10.479Z"
   },
   {
    "duration": 8,
    "start_time": "2021-07-07T12:35:22.440Z"
   },
   {
    "duration": 6,
    "start_time": "2021-07-07T12:35:35.649Z"
   },
   {
    "duration": 6,
    "start_time": "2021-07-07T12:35:43.107Z"
   },
   {
    "duration": 22,
    "start_time": "2021-07-07T12:38:03.029Z"
   },
   {
    "duration": 10,
    "start_time": "2021-07-07T12:38:06.592Z"
   },
   {
    "duration": 563,
    "start_time": "2021-07-07T12:38:46.493Z"
   },
   {
    "duration": 265,
    "start_time": "2021-07-07T12:38:47.058Z"
   },
   {
    "duration": 94,
    "start_time": "2021-07-07T12:38:47.325Z"
   },
   {
    "duration": 3,
    "start_time": "2021-07-07T12:38:47.422Z"
   },
   {
    "duration": 30,
    "start_time": "2021-07-07T12:38:47.427Z"
   },
   {
    "duration": 16,
    "start_time": "2021-07-07T12:38:53.305Z"
   },
   {
    "duration": 10,
    "start_time": "2021-07-07T12:38:53.499Z"
   },
   {
    "duration": 8,
    "start_time": "2021-07-07T12:39:48.161Z"
   },
   {
    "duration": 27,
    "start_time": "2021-07-07T12:41:17.629Z"
   },
   {
    "duration": 17,
    "start_time": "2021-07-07T12:41:17.867Z"
   },
   {
    "duration": 21,
    "start_time": "2021-07-07T12:41:19.310Z"
   },
   {
    "duration": 7,
    "start_time": "2021-07-07T12:41:19.544Z"
   },
   {
    "duration": 20,
    "start_time": "2021-07-07T12:41:20.504Z"
   },
   {
    "duration": 554,
    "start_time": "2021-07-07T12:56:23.696Z"
   },
   {
    "duration": 200,
    "start_time": "2021-07-07T12:56:25.234Z"
   },
   {
    "duration": 119,
    "start_time": "2021-07-07T12:56:25.480Z"
   },
   {
    "duration": 4,
    "start_time": "2021-07-07T12:56:25.762Z"
   },
   {
    "duration": 26,
    "start_time": "2021-07-07T12:56:27.172Z"
   },
   {
    "duration": 12,
    "start_time": "2021-07-07T12:56:29.051Z"
   },
   {
    "duration": 10,
    "start_time": "2021-07-07T12:56:29.291Z"
   },
   {
    "duration": 8,
    "start_time": "2021-07-07T12:56:29.623Z"
   },
   {
    "duration": 28,
    "start_time": "2021-07-07T12:56:32.137Z"
   },
   {
    "duration": 19,
    "start_time": "2021-07-07T12:56:39.785Z"
   },
   {
    "duration": 20,
    "start_time": "2021-07-07T12:56:44.297Z"
   },
   {
    "duration": 7,
    "start_time": "2021-07-07T12:56:45.392Z"
   },
   {
    "duration": 23,
    "start_time": "2021-07-07T12:56:46.615Z"
   },
   {
    "duration": 4,
    "start_time": "2021-07-07T12:57:06.625Z"
   },
   {
    "duration": 32,
    "start_time": "2021-07-07T12:57:36.690Z"
   },
   {
    "duration": 18,
    "start_time": "2021-07-07T12:58:00.149Z"
   },
   {
    "duration": 15,
    "start_time": "2021-07-07T12:59:16.793Z"
   },
   {
    "duration": 7,
    "start_time": "2021-07-07T13:19:22.624Z"
   },
   {
    "duration": 6,
    "start_time": "2021-07-07T14:17:33.527Z"
   },
   {
    "duration": 9,
    "start_time": "2021-07-07T14:17:48.409Z"
   },
   {
    "duration": 8,
    "start_time": "2021-07-07T14:20:13.060Z"
   },
   {
    "duration": 8,
    "start_time": "2021-07-07T14:20:37.957Z"
   },
   {
    "duration": 8,
    "start_time": "2021-07-07T14:20:47.470Z"
   },
   {
    "duration": 9,
    "start_time": "2021-07-07T14:20:54.503Z"
   },
   {
    "duration": 10,
    "start_time": "2021-07-07T14:28:57.763Z"
   },
   {
    "duration": 3,
    "start_time": "2021-07-07T14:30:23.377Z"
   },
   {
    "duration": 3,
    "start_time": "2021-07-07T14:30:36.489Z"
   },
   {
    "duration": 103,
    "start_time": "2021-07-07T14:30:52.351Z"
   },
   {
    "duration": 8,
    "start_time": "2021-07-07T14:30:54.763Z"
   },
   {
    "duration": 8,
    "start_time": "2021-07-07T14:31:29.301Z"
   },
   {
    "duration": 13,
    "start_time": "2021-07-07T14:31:44.516Z"
   },
   {
    "duration": 7,
    "start_time": "2021-07-07T14:33:10.972Z"
   },
   {
    "duration": 11,
    "start_time": "2021-07-07T14:33:27.780Z"
   },
   {
    "duration": 8,
    "start_time": "2021-07-07T14:34:44.588Z"
   },
   {
    "duration": 57,
    "start_time": "2021-07-07T14:35:59.042Z"
   },
   {
    "duration": 3,
    "start_time": "2021-07-07T14:36:28.168Z"
   },
   {
    "duration": 5,
    "start_time": "2021-07-07T14:36:46.254Z"
   },
   {
    "duration": 4,
    "start_time": "2021-07-07T14:36:52.714Z"
   },
   {
    "duration": 3,
    "start_time": "2021-07-07T14:36:56.612Z"
   },
   {
    "duration": 4,
    "start_time": "2021-07-07T14:36:57.049Z"
   },
   {
    "duration": 3,
    "start_time": "2021-07-07T14:39:21.214Z"
   },
   {
    "duration": 7,
    "start_time": "2021-07-07T14:39:52.406Z"
   },
   {
    "duration": 11,
    "start_time": "2021-07-07T14:39:58.576Z"
   },
   {
    "duration": 9,
    "start_time": "2021-07-07T14:40:26.301Z"
   },
   {
    "duration": 10,
    "start_time": "2021-07-07T14:40:31.704Z"
   },
   {
    "duration": 11,
    "start_time": "2021-07-07T14:40:36.249Z"
   },
   {
    "duration": 10,
    "start_time": "2021-07-07T14:40:39.783Z"
   },
   {
    "duration": 9,
    "start_time": "2021-07-07T14:40:48.558Z"
   },
   {
    "duration": 10,
    "start_time": "2021-07-07T14:40:57.143Z"
   },
   {
    "duration": 9,
    "start_time": "2021-07-07T14:41:06.074Z"
   },
   {
    "duration": 4324,
    "start_time": "2021-07-07T14:41:22.004Z"
   },
   {
    "duration": 11,
    "start_time": "2021-07-07T14:41:33.392Z"
   },
   {
    "duration": 9,
    "start_time": "2021-07-07T14:41:39.288Z"
   },
   {
    "duration": 569,
    "start_time": "2021-07-07T14:42:14.387Z"
   },
   {
    "duration": 197,
    "start_time": "2021-07-07T14:42:14.959Z"
   },
   {
    "duration": 84,
    "start_time": "2021-07-07T14:42:16.052Z"
   },
   {
    "duration": 4,
    "start_time": "2021-07-07T14:42:16.900Z"
   },
   {
    "duration": 27,
    "start_time": "2021-07-07T14:42:19.898Z"
   },
   {
    "duration": 12,
    "start_time": "2021-07-07T14:42:21.577Z"
   },
   {
    "duration": 9,
    "start_time": "2021-07-07T14:42:21.813Z"
   },
   {
    "duration": 9,
    "start_time": "2021-07-07T14:42:22.569Z"
   },
   {
    "duration": 29,
    "start_time": "2021-07-07T14:42:25.837Z"
   },
   {
    "duration": 20,
    "start_time": "2021-07-07T14:42:27.003Z"
   },
   {
    "duration": 21,
    "start_time": "2021-07-07T14:42:28.767Z"
   },
   {
    "duration": 7,
    "start_time": "2021-07-07T14:42:29.838Z"
   },
   {
    "duration": 4,
    "start_time": "2021-07-07T14:43:25.493Z"
   },
   {
    "duration": 7,
    "start_time": "2021-07-07T14:43:26.573Z"
   },
   {
    "duration": 10,
    "start_time": "2021-07-07T14:43:31.639Z"
   },
   {
    "duration": 9,
    "start_time": "2021-07-07T14:43:32.046Z"
   },
   {
    "duration": 10,
    "start_time": "2021-07-07T14:43:33.301Z"
   },
   {
    "duration": 12,
    "start_time": "2021-07-07T14:43:33.658Z"
   },
   {
    "duration": 8,
    "start_time": "2021-07-07T14:43:34.552Z"
   },
   {
    "duration": 9,
    "start_time": "2021-07-07T14:43:35.058Z"
   },
   {
    "duration": 12,
    "start_time": "2021-07-07T14:43:35.914Z"
   },
   {
    "duration": 17,
    "start_time": "2021-07-07T14:45:34.368Z"
   },
   {
    "duration": 512,
    "start_time": "2021-07-07T14:51:58.236Z"
   },
   {
    "duration": 223,
    "start_time": "2021-07-07T14:51:58.750Z"
   },
   {
    "duration": 93,
    "start_time": "2021-07-07T14:51:58.977Z"
   },
   {
    "duration": 4,
    "start_time": "2021-07-07T14:51:59.071Z"
   },
   {
    "duration": 37,
    "start_time": "2021-07-07T14:51:59.077Z"
   },
   {
    "duration": 18,
    "start_time": "2021-07-07T14:51:59.116Z"
   },
   {
    "duration": 10,
    "start_time": "2021-07-07T14:51:59.137Z"
   },
   {
    "duration": 8,
    "start_time": "2021-07-07T14:51:59.149Z"
   },
   {
    "duration": 54,
    "start_time": "2021-07-07T14:51:59.158Z"
   },
   {
    "duration": 18,
    "start_time": "2021-07-07T14:51:59.213Z"
   },
   {
    "duration": 22,
    "start_time": "2021-07-07T14:51:59.232Z"
   },
   {
    "duration": 36,
    "start_time": "2021-07-07T14:51:59.255Z"
   },
   {
    "duration": 7,
    "start_time": "2021-07-07T14:51:59.293Z"
   },
   {
    "duration": 10,
    "start_time": "2021-07-07T14:51:59.302Z"
   },
   {
    "duration": 9,
    "start_time": "2021-07-07T14:51:59.313Z"
   },
   {
    "duration": 11,
    "start_time": "2021-07-07T14:51:59.324Z"
   },
   {
    "duration": 8,
    "start_time": "2021-07-07T14:51:59.337Z"
   },
   {
    "duration": 46,
    "start_time": "2021-07-07T14:51:59.347Z"
   },
   {
    "duration": 22,
    "start_time": "2021-07-07T14:51:59.395Z"
   },
   {
    "duration": 24,
    "start_time": "2021-07-07T14:57:32.911Z"
   },
   {
    "duration": 7,
    "start_time": "2021-07-07T14:58:22.070Z"
   },
   {
    "duration": 4,
    "start_time": "2021-07-07T14:59:11.239Z"
   },
   {
    "duration": 25,
    "start_time": "2021-07-07T15:07:22.208Z"
   },
   {
    "duration": 16,
    "start_time": "2021-07-07T15:08:25.560Z"
   },
   {
    "duration": 15,
    "start_time": "2021-07-07T15:08:40.647Z"
   },
   {
    "duration": 14,
    "start_time": "2021-07-07T15:08:46.669Z"
   },
   {
    "duration": 533,
    "start_time": "2021-07-07T15:18:07.440Z"
   },
   {
    "duration": 173,
    "start_time": "2021-07-07T15:18:07.974Z"
   },
   {
    "duration": 84,
    "start_time": "2021-07-07T15:18:08.149Z"
   },
   {
    "duration": 3,
    "start_time": "2021-07-07T15:18:08.235Z"
   },
   {
    "duration": 30,
    "start_time": "2021-07-07T15:18:08.240Z"
   },
   {
    "duration": 22,
    "start_time": "2021-07-07T15:18:08.272Z"
   },
   {
    "duration": 11,
    "start_time": "2021-07-07T15:18:08.295Z"
   },
   {
    "duration": 11,
    "start_time": "2021-07-07T15:18:08.309Z"
   },
   {
    "duration": 40,
    "start_time": "2021-07-07T15:18:08.322Z"
   },
   {
    "duration": 42,
    "start_time": "2021-07-07T15:18:08.364Z"
   },
   {
    "duration": 22,
    "start_time": "2021-07-07T15:18:08.408Z"
   },
   {
    "duration": 5,
    "start_time": "2021-07-07T15:18:08.432Z"
   },
   {
    "duration": 13,
    "start_time": "2021-07-07T15:18:08.439Z"
   },
   {
    "duration": 9,
    "start_time": "2021-07-07T15:18:08.454Z"
   },
   {
    "duration": 32,
    "start_time": "2021-07-07T15:18:08.465Z"
   },
   {
    "duration": 10,
    "start_time": "2021-07-07T15:18:08.501Z"
   },
   {
    "duration": 7,
    "start_time": "2021-07-07T15:18:08.513Z"
   },
   {
    "duration": 11,
    "start_time": "2021-07-07T15:18:08.521Z"
   },
   {
    "duration": 17,
    "start_time": "2021-07-07T15:18:08.534Z"
   },
   {
    "duration": 44,
    "start_time": "2021-07-07T15:18:08.553Z"
   },
   {
    "duration": 22,
    "start_time": "2021-07-07T15:18:08.599Z"
   },
   {
    "duration": 61,
    "start_time": "2021-07-07T15:18:08.622Z"
   },
   {
    "duration": 7,
    "start_time": "2021-07-07T15:18:39.457Z"
   },
   {
    "duration": 5,
    "start_time": "2021-07-07T16:05:17.020Z"
   },
   {
    "duration": 5,
    "start_time": "2021-07-07T16:51:28.794Z"
   },
   {
    "duration": 546,
    "start_time": "2021-07-07T16:52:26.306Z"
   },
   {
    "duration": 203,
    "start_time": "2021-07-07T16:52:27.523Z"
   },
   {
    "duration": 85,
    "start_time": "2021-07-07T16:52:27.736Z"
   },
   {
    "duration": 4,
    "start_time": "2021-07-07T16:52:27.899Z"
   },
   {
    "duration": 25,
    "start_time": "2021-07-07T16:52:28.674Z"
   },
   {
    "duration": 8,
    "start_time": "2021-07-07T16:52:32.956Z"
   },
   {
    "duration": 18,
    "start_time": "2021-07-07T16:52:35.616Z"
   },
   {
    "duration": 6,
    "start_time": "2021-07-07T16:52:36.913Z"
   },
   {
    "duration": 11,
    "start_time": "2021-07-07T16:52:40.258Z"
   },
   {
    "duration": 10,
    "start_time": "2021-07-07T16:52:46.251Z"
   },
   {
    "duration": 8,
    "start_time": "2021-07-07T16:52:47.182Z"
   },
   {
    "duration": 27,
    "start_time": "2021-07-07T16:53:20.391Z"
   },
   {
    "duration": 20,
    "start_time": "2021-07-07T16:53:22.022Z"
   },
   {
    "duration": 23,
    "start_time": "2021-07-07T16:53:23.690Z"
   },
   {
    "duration": 8,
    "start_time": "2021-07-07T16:53:24.261Z"
   },
   {
    "duration": 4,
    "start_time": "2021-07-07T16:53:38.733Z"
   },
   {
    "duration": 7,
    "start_time": "2021-07-07T16:53:40.445Z"
   },
   {
    "duration": 11,
    "start_time": "2021-07-07T16:53:41.348Z"
   },
   {
    "duration": 13,
    "start_time": "2021-07-07T16:53:45.250Z"
   },
   {
    "duration": 12,
    "start_time": "2021-07-07T16:53:45.467Z"
   },
   {
    "duration": 4,
    "start_time": "2021-07-07T16:55:32.704Z"
   },
   {
    "duration": 12,
    "start_time": "2021-07-07T16:55:49.012Z"
   },
   {
    "duration": 18,
    "start_time": "2021-07-07T16:55:49.547Z"
   },
   {
    "duration": 611,
    "start_time": "2021-07-07T16:58:35.156Z"
   },
   {
    "duration": 200,
    "start_time": "2021-07-07T16:58:35.770Z"
   },
   {
    "duration": 86,
    "start_time": "2021-07-07T16:58:35.972Z"
   },
   {
    "duration": 3,
    "start_time": "2021-07-07T16:58:36.060Z"
   },
   {
    "duration": 27,
    "start_time": "2021-07-07T16:58:36.065Z"
   },
   {
    "duration": 8,
    "start_time": "2021-07-07T16:58:36.094Z"
   },
   {
    "duration": 17,
    "start_time": "2021-07-07T16:58:36.103Z"
   },
   {
    "duration": 5,
    "start_time": "2021-07-07T16:58:36.123Z"
   },
   {
    "duration": 11,
    "start_time": "2021-07-07T16:58:36.130Z"
   },
   {
    "duration": 7,
    "start_time": "2021-07-07T16:58:36.143Z"
   },
   {
    "duration": 37,
    "start_time": "2021-07-07T16:58:36.152Z"
   },
   {
    "duration": 27,
    "start_time": "2021-07-07T16:58:36.191Z"
   },
   {
    "duration": 19,
    "start_time": "2021-07-07T16:58:36.219Z"
   },
   {
    "duration": 49,
    "start_time": "2021-07-07T16:58:36.240Z"
   },
   {
    "duration": 6,
    "start_time": "2021-07-07T16:58:36.291Z"
   },
   {
    "duration": 3,
    "start_time": "2021-07-07T16:58:36.299Z"
   },
   {
    "duration": 13,
    "start_time": "2021-07-07T16:58:36.304Z"
   },
   {
    "duration": 10,
    "start_time": "2021-07-07T16:58:36.319Z"
   },
   {
    "duration": 10,
    "start_time": "2021-07-07T16:58:36.331Z"
   },
   {
    "duration": 44,
    "start_time": "2021-07-07T16:58:36.343Z"
   },
   {
    "duration": 4,
    "start_time": "2021-07-07T16:58:36.388Z"
   },
   {
    "duration": 13,
    "start_time": "2021-07-07T16:58:36.394Z"
   },
   {
    "duration": 16,
    "start_time": "2021-07-07T16:58:36.410Z"
   },
   {
    "duration": 8,
    "start_time": "2021-07-07T17:02:31.629Z"
   },
   {
    "duration": 8,
    "start_time": "2021-07-07T17:02:34.308Z"
   },
   {
    "duration": 6,
    "start_time": "2021-07-07T17:05:13.483Z"
   },
   {
    "duration": 17,
    "start_time": "2021-07-07T17:05:20.606Z"
   },
   {
    "duration": 7,
    "start_time": "2021-07-07T17:05:34.638Z"
   },
   {
    "duration": 3,
    "start_time": "2021-07-07T17:06:31.883Z"
   },
   {
    "duration": 570,
    "start_time": "2021-07-07T17:06:37.165Z"
   },
   {
    "duration": 174,
    "start_time": "2021-07-07T17:06:37.737Z"
   },
   {
    "duration": 47,
    "start_time": "2021-07-07T17:06:37.913Z"
   },
   {
    "duration": 3,
    "start_time": "2021-07-07T17:06:37.962Z"
   },
   {
    "duration": 27,
    "start_time": "2021-07-07T17:06:37.967Z"
   },
   {
    "duration": 7,
    "start_time": "2021-07-07T17:06:37.996Z"
   },
   {
    "duration": 16,
    "start_time": "2021-07-07T17:06:38.005Z"
   },
   {
    "duration": 6,
    "start_time": "2021-07-07T17:06:38.024Z"
   },
   {
    "duration": 12,
    "start_time": "2021-07-07T17:06:38.031Z"
   },
   {
    "duration": 41,
    "start_time": "2021-07-07T17:06:38.045Z"
   },
   {
    "duration": 8,
    "start_time": "2021-07-07T17:06:38.088Z"
   },
   {
    "duration": 26,
    "start_time": "2021-07-07T17:06:38.098Z"
   },
   {
    "duration": 17,
    "start_time": "2021-07-07T17:06:38.126Z"
   },
   {
    "duration": 43,
    "start_time": "2021-07-07T17:06:38.144Z"
   },
   {
    "duration": 6,
    "start_time": "2021-07-07T17:06:38.188Z"
   },
   {
    "duration": 5,
    "start_time": "2021-07-07T17:06:38.195Z"
   },
   {
    "duration": 9,
    "start_time": "2021-07-07T17:06:38.201Z"
   },
   {
    "duration": 12,
    "start_time": "2021-07-07T17:06:38.212Z"
   },
   {
    "duration": 11,
    "start_time": "2021-07-07T17:06:38.226Z"
   },
   {
    "duration": 47,
    "start_time": "2021-07-07T17:06:38.239Z"
   },
   {
    "duration": 4,
    "start_time": "2021-07-07T17:06:38.288Z"
   },
   {
    "duration": 13,
    "start_time": "2021-07-07T17:06:38.293Z"
   },
   {
    "duration": 5,
    "start_time": "2021-07-07T17:06:38.309Z"
   },
   {
    "duration": 18,
    "start_time": "2021-07-07T17:06:38.325Z"
   },
   {
    "duration": 20,
    "start_time": "2021-07-07T17:07:02.805Z"
   },
   {
    "duration": 19,
    "start_time": "2021-07-07T17:07:08.527Z"
   },
   {
    "duration": 19,
    "start_time": "2021-07-07T17:07:12.758Z"
   },
   {
    "duration": 22,
    "start_time": "2021-07-07T17:07:17.497Z"
   },
   {
    "duration": 19,
    "start_time": "2021-07-07T17:07:19.645Z"
   },
   {
    "duration": 10,
    "start_time": "2021-07-07T17:07:34.239Z"
   },
   {
    "duration": 17,
    "start_time": "2021-07-07T17:07:54.144Z"
   },
   {
    "duration": 14,
    "start_time": "2021-07-07T17:08:14.357Z"
   },
   {
    "duration": 616,
    "start_time": "2021-07-07T17:08:45.254Z"
   },
   {
    "duration": 178,
    "start_time": "2021-07-07T17:08:45.872Z"
   },
   {
    "duration": 60,
    "start_time": "2021-07-07T17:08:46.054Z"
   },
   {
    "duration": 3,
    "start_time": "2021-07-07T17:08:46.116Z"
   },
   {
    "duration": 26,
    "start_time": "2021-07-07T17:08:46.121Z"
   },
   {
    "duration": 7,
    "start_time": "2021-07-07T17:08:46.149Z"
   },
   {
    "duration": 17,
    "start_time": "2021-07-07T17:08:46.158Z"
   },
   {
    "duration": 14,
    "start_time": "2021-07-07T17:08:46.176Z"
   },
   {
    "duration": 17,
    "start_time": "2021-07-07T17:08:46.193Z"
   },
   {
    "duration": 9,
    "start_time": "2021-07-07T17:08:46.211Z"
   },
   {
    "duration": 21,
    "start_time": "2021-07-07T17:08:46.221Z"
   },
   {
    "duration": 49,
    "start_time": "2021-07-07T17:08:46.244Z"
   },
   {
    "duration": 24,
    "start_time": "2021-07-07T17:08:46.295Z"
   },
   {
    "duration": 22,
    "start_time": "2021-07-07T17:08:46.321Z"
   },
   {
    "duration": 6,
    "start_time": "2021-07-07T17:08:46.345Z"
   },
   {
    "duration": 5,
    "start_time": "2021-07-07T17:08:46.353Z"
   },
   {
    "duration": 13,
    "start_time": "2021-07-07T17:08:46.386Z"
   },
   {
    "duration": 12,
    "start_time": "2021-07-07T17:08:46.402Z"
   },
   {
    "duration": 10,
    "start_time": "2021-07-07T17:08:46.415Z"
   },
   {
    "duration": 7,
    "start_time": "2021-07-07T17:08:46.427Z"
   },
   {
    "duration": 8,
    "start_time": "2021-07-07T17:08:46.435Z"
   },
   {
    "duration": 68,
    "start_time": "2021-07-07T17:08:46.446Z"
   },
   {
    "duration": 13,
    "start_time": "2021-07-07T17:08:46.516Z"
   },
   {
    "duration": 78,
    "start_time": "2021-07-07T17:08:46.530Z"
   },
   {
    "duration": 40,
    "start_time": "2021-07-07T17:09:08.185Z"
   },
   {
    "duration": 16,
    "start_time": "2021-07-07T17:09:19.324Z"
   },
   {
    "duration": 21,
    "start_time": "2021-07-07T17:09:23.290Z"
   },
   {
    "duration": 13,
    "start_time": "2021-07-07T17:09:54.812Z"
   },
   {
    "duration": 13,
    "start_time": "2021-07-07T17:10:02.039Z"
   },
   {
    "duration": 10,
    "start_time": "2021-07-07T17:10:29.632Z"
   },
   {
    "duration": 13,
    "start_time": "2021-07-07T17:10:52.372Z"
   },
   {
    "duration": 13,
    "start_time": "2021-07-07T17:11:17.270Z"
   },
   {
    "duration": 13,
    "start_time": "2021-07-07T17:14:59.284Z"
   },
   {
    "duration": 547,
    "start_time": "2021-07-07T17:18:52.403Z"
   },
   {
    "duration": 163,
    "start_time": "2021-07-07T17:18:52.952Z"
   },
   {
    "duration": 44,
    "start_time": "2021-07-07T17:18:53.117Z"
   },
   {
    "duration": 3,
    "start_time": "2021-07-07T17:18:53.162Z"
   },
   {
    "duration": 26,
    "start_time": "2021-07-07T17:18:53.167Z"
   },
   {
    "duration": 6,
    "start_time": "2021-07-07T17:18:53.195Z"
   },
   {
    "duration": 15,
    "start_time": "2021-07-07T17:18:53.203Z"
   },
   {
    "duration": 5,
    "start_time": "2021-07-07T17:18:53.220Z"
   },
   {
    "duration": 11,
    "start_time": "2021-07-07T17:18:53.228Z"
   },
   {
    "duration": 9,
    "start_time": "2021-07-07T17:18:53.241Z"
   },
   {
    "duration": 41,
    "start_time": "2021-07-07T17:18:53.252Z"
   },
   {
    "duration": 33,
    "start_time": "2021-07-07T17:18:53.295Z"
   },
   {
    "duration": 19,
    "start_time": "2021-07-07T17:18:53.330Z"
   },
   {
    "duration": 49,
    "start_time": "2021-07-07T17:18:53.350Z"
   },
   {
    "duration": 5,
    "start_time": "2021-07-07T17:18:53.401Z"
   },
   {
    "duration": 5,
    "start_time": "2021-07-07T17:18:53.408Z"
   },
   {
    "duration": 11,
    "start_time": "2021-07-07T17:18:53.414Z"
   },
   {
    "duration": 9,
    "start_time": "2021-07-07T17:18:53.427Z"
   },
   {
    "duration": 10,
    "start_time": "2021-07-07T17:18:53.437Z"
   },
   {
    "duration": 39,
    "start_time": "2021-07-07T17:18:53.448Z"
   },
   {
    "duration": 26,
    "start_time": "2021-07-07T17:18:55.799Z"
   },
   {
    "duration": 598,
    "start_time": "2021-07-07T17:20:17.862Z"
   },
   {
    "duration": 161,
    "start_time": "2021-07-07T17:20:18.462Z"
   },
   {
    "duration": 45,
    "start_time": "2021-07-07T17:20:18.626Z"
   },
   {
    "duration": 4,
    "start_time": "2021-07-07T17:20:18.673Z"
   },
   {
    "duration": 38,
    "start_time": "2021-07-07T17:20:26.877Z"
   },
   {
    "duration": 7,
    "start_time": "2021-07-07T17:20:37.405Z"
   },
   {
    "duration": 19,
    "start_time": "2021-07-07T17:20:51.534Z"
   },
   {
    "duration": 5,
    "start_time": "2021-07-07T17:20:57.228Z"
   },
   {
    "duration": 7,
    "start_time": "2021-07-07T17:21:08.235Z"
   },
   {
    "duration": 19,
    "start_time": "2021-07-07T17:21:42.158Z"
   },
   {
    "duration": 14,
    "start_time": "2021-07-07T17:21:50.225Z"
   },
   {
    "duration": 22,
    "start_time": "2021-07-07T17:22:54.104Z"
   },
   {
    "duration": 5,
    "start_time": "2021-07-07T17:22:56.371Z"
   },
   {
    "duration": 14,
    "start_time": "2021-07-07T17:22:58.316Z"
   },
   {
    "duration": 5,
    "start_time": "2021-07-07T17:22:58.493Z"
   },
   {
    "duration": 35,
    "start_time": "2021-07-07T17:22:59.666Z"
   },
   {
    "duration": 6,
    "start_time": "2021-07-07T17:23:02.410Z"
   },
   {
    "duration": 611,
    "start_time": "2021-07-07T17:24:59.664Z"
   },
   {
    "duration": 178,
    "start_time": "2021-07-07T17:25:01.945Z"
   },
   {
    "duration": 47,
    "start_time": "2021-07-07T17:25:02.125Z"
   },
   {
    "duration": 2,
    "start_time": "2021-07-07T17:25:07.903Z"
   },
   {
    "duration": 254,
    "start_time": "2021-07-07T17:25:08.232Z"
   },
   {
    "duration": 182,
    "start_time": "2021-07-07T17:25:08.671Z"
   },
   {
    "duration": 6,
    "start_time": "2021-07-07T17:25:13.104Z"
   },
   {
    "duration": 36,
    "start_time": "2021-07-07T17:25:13.662Z"
   },
   {
    "duration": 7,
    "start_time": "2021-07-07T17:25:14.528Z"
   },
   {
    "duration": 24,
    "start_time": "2021-07-07T17:25:27.982Z"
   },
   {
    "duration": 3,
    "start_time": "2021-07-07T17:25:48.982Z"
   },
   {
    "duration": 165,
    "start_time": "2021-07-07T17:25:48.987Z"
   },
   {
    "duration": 50,
    "start_time": "2021-07-07T17:25:49.154Z"
   },
   {
    "duration": 4,
    "start_time": "2021-07-07T17:25:49.206Z"
   },
   {
    "duration": 26,
    "start_time": "2021-07-07T17:25:49.212Z"
   },
   {
    "duration": 7,
    "start_time": "2021-07-07T17:25:49.240Z"
   },
   {
    "duration": 16,
    "start_time": "2021-07-07T17:25:49.249Z"
   },
   {
    "duration": 22,
    "start_time": "2021-07-07T17:25:49.266Z"
   },
   {
    "duration": 16,
    "start_time": "2021-07-07T17:25:49.291Z"
   },
   {
    "duration": 9,
    "start_time": "2021-07-07T17:25:49.309Z"
   },
   {
    "duration": 7,
    "start_time": "2021-07-07T17:25:49.319Z"
   },
   {
    "duration": 28,
    "start_time": "2021-07-07T17:25:49.328Z"
   },
   {
    "duration": 44,
    "start_time": "2021-07-07T17:25:49.357Z"
   },
   {
    "duration": 22,
    "start_time": "2021-07-07T17:25:49.403Z"
   },
   {
    "duration": 7,
    "start_time": "2021-07-07T17:25:49.427Z"
   },
   {
    "duration": 3,
    "start_time": "2021-07-07T17:25:49.436Z"
   },
   {
    "duration": 44,
    "start_time": "2021-07-07T17:25:49.441Z"
   },
   {
    "duration": 12,
    "start_time": "2021-07-07T17:25:49.488Z"
   },
   {
    "duration": 13,
    "start_time": "2021-07-07T17:25:49.502Z"
   },
   {
    "duration": 10,
    "start_time": "2021-07-07T17:25:49.516Z"
   },
   {
    "duration": 62,
    "start_time": "2021-07-07T17:25:49.527Z"
   },
   {
    "duration": 26,
    "start_time": "2021-07-07T17:26:51.809Z"
   },
   {
    "duration": 26,
    "start_time": "2021-07-07T17:26:55.759Z"
   },
   {
    "duration": 26,
    "start_time": "2021-07-07T17:27:04.501Z"
   },
   {
    "duration": 25,
    "start_time": "2021-07-07T17:28:24.859Z"
   },
   {
    "duration": 21,
    "start_time": "2021-07-07T17:28:55.250Z"
   },
   {
    "duration": 21,
    "start_time": "2021-07-07T17:28:58.885Z"
   },
   {
    "duration": 7,
    "start_time": "2021-07-07T17:45:40.972Z"
   },
   {
    "duration": 13,
    "start_time": "2021-07-07T17:45:42.529Z"
   },
   {
    "duration": 27,
    "start_time": "2021-07-07T17:45:51.026Z"
   },
   {
    "duration": 518,
    "start_time": "2021-07-07T17:46:15.532Z"
   },
   {
    "duration": 235,
    "start_time": "2021-07-07T17:46:16.053Z"
   },
   {
    "duration": 80,
    "start_time": "2021-07-07T17:46:16.292Z"
   },
   {
    "duration": 5,
    "start_time": "2021-07-07T17:46:16.373Z"
   },
   {
    "duration": 26,
    "start_time": "2021-07-07T17:46:16.380Z"
   },
   {
    "duration": 7,
    "start_time": "2021-07-07T17:46:16.408Z"
   },
   {
    "duration": 16,
    "start_time": "2021-07-07T17:46:16.418Z"
   },
   {
    "duration": 5,
    "start_time": "2021-07-07T17:46:16.436Z"
   },
   {
    "duration": 13,
    "start_time": "2021-07-07T17:46:16.442Z"
   },
   {
    "duration": 35,
    "start_time": "2021-07-07T17:46:16.456Z"
   },
   {
    "duration": 8,
    "start_time": "2021-07-07T17:46:16.493Z"
   },
   {
    "duration": 28,
    "start_time": "2021-07-07T17:46:16.502Z"
   },
   {
    "duration": 17,
    "start_time": "2021-07-07T17:46:16.532Z"
   },
   {
    "duration": 44,
    "start_time": "2021-07-07T17:46:16.551Z"
   },
   {
    "duration": 6,
    "start_time": "2021-07-07T17:46:16.597Z"
   },
   {
    "duration": 4,
    "start_time": "2021-07-07T17:46:16.605Z"
   },
   {
    "duration": 9,
    "start_time": "2021-07-07T17:46:16.610Z"
   },
   {
    "duration": 9,
    "start_time": "2021-07-07T17:46:16.621Z"
   },
   {
    "duration": 10,
    "start_time": "2021-07-07T17:46:16.632Z"
   },
   {
    "duration": 43,
    "start_time": "2021-07-07T17:46:16.644Z"
   },
   {
    "duration": 26,
    "start_time": "2021-07-07T17:46:16.689Z"
   },
   {
    "duration": 19,
    "start_time": "2021-07-07T17:46:16.718Z"
   },
   {
    "duration": 8,
    "start_time": "2021-07-07T17:46:16.738Z"
   },
   {
    "duration": 43,
    "start_time": "2021-07-07T17:46:16.747Z"
   },
   {
    "duration": 19,
    "start_time": "2021-07-07T17:46:16.791Z"
   },
   {
    "duration": 9,
    "start_time": "2021-07-07T17:46:16.812Z"
   },
   {
    "duration": 60,
    "start_time": "2021-07-07T17:46:16.822Z"
   },
   {
    "duration": -8,
    "start_time": "2021-07-07T17:46:16.892Z"
   },
   {
    "duration": 12,
    "start_time": "2021-07-07T17:48:47.707Z"
   },
   {
    "duration": 553,
    "start_time": "2021-07-07T18:10:09.350Z"
   },
   {
    "duration": 230,
    "start_time": "2021-07-07T18:10:09.905Z"
   },
   {
    "duration": 97,
    "start_time": "2021-07-07T18:10:10.137Z"
   },
   {
    "duration": 5,
    "start_time": "2021-07-07T18:10:10.236Z"
   },
   {
    "duration": 29,
    "start_time": "2021-07-07T18:10:10.242Z"
   },
   {
    "duration": 7,
    "start_time": "2021-07-07T18:10:10.272Z"
   },
   {
    "duration": 15,
    "start_time": "2021-07-07T18:10:10.281Z"
   },
   {
    "duration": 4,
    "start_time": "2021-07-07T18:10:10.299Z"
   },
   {
    "duration": 14,
    "start_time": "2021-07-07T18:10:10.305Z"
   },
   {
    "duration": 8,
    "start_time": "2021-07-07T18:10:10.321Z"
   },
   {
    "duration": 8,
    "start_time": "2021-07-07T18:10:10.331Z"
   },
   {
    "duration": 56,
    "start_time": "2021-07-07T18:10:10.341Z"
   },
   {
    "duration": 19,
    "start_time": "2021-07-07T18:10:10.399Z"
   },
   {
    "duration": 23,
    "start_time": "2021-07-07T18:10:10.419Z"
   },
   {
    "duration": 6,
    "start_time": "2021-07-07T18:10:10.444Z"
   },
   {
    "duration": 9,
    "start_time": "2021-07-07T18:10:10.451Z"
   },
   {
    "duration": 30,
    "start_time": "2021-07-07T18:10:10.462Z"
   },
   {
    "duration": 9,
    "start_time": "2021-07-07T18:10:10.494Z"
   },
   {
    "duration": 14,
    "start_time": "2021-07-07T18:10:10.505Z"
   },
   {
    "duration": 7,
    "start_time": "2021-07-07T18:10:10.521Z"
   },
   {
    "duration": 26,
    "start_time": "2021-07-07T18:10:10.530Z"
   },
   {
    "duration": 44,
    "start_time": "2021-07-07T18:10:10.558Z"
   },
   {
    "duration": 7,
    "start_time": "2021-07-07T18:10:10.605Z"
   },
   {
    "duration": 11,
    "start_time": "2021-07-07T18:10:10.614Z"
   },
   {
    "duration": 19,
    "start_time": "2021-07-07T18:10:10.626Z"
   },
   {
    "duration": 44,
    "start_time": "2021-07-07T18:10:10.646Z"
   },
   {
    "duration": 516,
    "start_time": "2021-07-07T18:14:00.826Z"
   },
   {
    "duration": 230,
    "start_time": "2021-07-07T18:14:01.344Z"
   },
   {
    "duration": 105,
    "start_time": "2021-07-07T18:14:01.576Z"
   },
   {
    "duration": 5,
    "start_time": "2021-07-07T18:14:01.683Z"
   },
   {
    "duration": 46,
    "start_time": "2021-07-07T18:14:01.690Z"
   },
   {
    "duration": 7,
    "start_time": "2021-07-07T18:14:01.738Z"
   },
   {
    "duration": 20,
    "start_time": "2021-07-07T18:14:01.747Z"
   },
   {
    "duration": 16,
    "start_time": "2021-07-07T18:14:01.769Z"
   },
   {
    "duration": 14,
    "start_time": "2021-07-07T18:14:01.787Z"
   },
   {
    "duration": 15,
    "start_time": "2021-07-07T18:14:01.803Z"
   },
   {
    "duration": 12,
    "start_time": "2021-07-07T18:14:01.820Z"
   },
   {
    "duration": 35,
    "start_time": "2021-07-07T18:14:01.833Z"
   },
   {
    "duration": 31,
    "start_time": "2021-07-07T18:14:01.869Z"
   },
   {
    "duration": 37,
    "start_time": "2021-07-07T18:14:01.902Z"
   },
   {
    "duration": 8,
    "start_time": "2021-07-07T18:14:01.942Z"
   },
   {
    "duration": 16,
    "start_time": "2021-07-07T18:14:01.952Z"
   },
   {
    "duration": 13,
    "start_time": "2021-07-07T18:14:01.970Z"
   },
   {
    "duration": 32,
    "start_time": "2021-07-07T18:14:01.985Z"
   },
   {
    "duration": 11,
    "start_time": "2021-07-07T18:14:02.019Z"
   },
   {
    "duration": 22,
    "start_time": "2021-07-07T18:14:02.031Z"
   },
   {
    "duration": 27,
    "start_time": "2021-07-07T18:14:02.055Z"
   },
   {
    "duration": 18,
    "start_time": "2021-07-07T18:14:02.084Z"
   },
   {
    "duration": 18,
    "start_time": "2021-07-07T18:14:02.106Z"
   },
   {
    "duration": 11,
    "start_time": "2021-07-07T18:14:02.126Z"
   },
   {
    "duration": 21,
    "start_time": "2021-07-07T18:14:02.138Z"
   },
   {
    "duration": 32,
    "start_time": "2021-07-07T18:14:02.161Z"
   },
   {
    "duration": 28,
    "start_time": "2021-07-07T18:14:44.295Z"
   },
   {
    "duration": 6,
    "start_time": "2021-07-07T18:15:05.834Z"
   },
   {
    "duration": 511,
    "start_time": "2021-07-07T18:15:41.541Z"
   },
   {
    "duration": 183,
    "start_time": "2021-07-07T18:15:42.054Z"
   },
   {
    "duration": 50,
    "start_time": "2021-07-07T18:15:42.239Z"
   },
   {
    "duration": 5,
    "start_time": "2021-07-07T18:15:42.291Z"
   },
   {
    "duration": 48,
    "start_time": "2021-07-07T18:15:42.297Z"
   },
   {
    "duration": 8,
    "start_time": "2021-07-07T18:15:42.346Z"
   },
   {
    "duration": 17,
    "start_time": "2021-07-07T18:15:42.356Z"
   },
   {
    "duration": 15,
    "start_time": "2021-07-07T18:15:42.375Z"
   },
   {
    "duration": 12,
    "start_time": "2021-07-07T18:15:42.392Z"
   },
   {
    "duration": 7,
    "start_time": "2021-07-07T18:15:42.406Z"
   },
   {
    "duration": 7,
    "start_time": "2021-07-07T18:15:42.415Z"
   },
   {
    "duration": 29,
    "start_time": "2021-07-07T18:15:42.423Z"
   },
   {
    "duration": 43,
    "start_time": "2021-07-07T18:15:42.453Z"
   },
   {
    "duration": 18,
    "start_time": "2021-07-07T18:15:42.497Z"
   },
   {
    "duration": 6,
    "start_time": "2021-07-07T18:15:42.516Z"
   },
   {
    "duration": 3,
    "start_time": "2021-07-07T18:15:42.523Z"
   },
   {
    "duration": 18,
    "start_time": "2021-07-07T18:15:42.528Z"
   },
   {
    "duration": 10,
    "start_time": "2021-07-07T18:15:42.547Z"
   },
   {
    "duration": 36,
    "start_time": "2021-07-07T18:15:42.559Z"
   },
   {
    "duration": 8,
    "start_time": "2021-07-07T18:15:42.597Z"
   },
   {
    "duration": 28,
    "start_time": "2021-07-07T18:15:42.606Z"
   },
   {
    "duration": 52,
    "start_time": "2021-07-07T18:15:42.635Z"
   },
   {
    "duration": 7,
    "start_time": "2021-07-07T18:15:42.690Z"
   },
   {
    "duration": 10,
    "start_time": "2021-07-07T18:15:42.699Z"
   },
   {
    "duration": 19,
    "start_time": "2021-07-07T18:15:42.711Z"
   },
   {
    "duration": 9,
    "start_time": "2021-07-07T18:15:42.732Z"
   },
   {
    "duration": 5,
    "start_time": "2021-07-07T18:15:42.743Z"
   },
   {
    "duration": 1450,
    "start_time": "2021-07-07T18:15:51.984Z"
   },
   {
    "duration": 161,
    "start_time": "2021-07-07T18:15:53.435Z"
   },
   {
    "duration": 124,
    "start_time": "2021-07-07T18:15:53.598Z"
   },
   {
    "duration": 5,
    "start_time": "2021-07-07T18:15:53.724Z"
   },
   {
    "duration": 34,
    "start_time": "2021-07-07T18:15:53.730Z"
   },
   {
    "duration": 7,
    "start_time": "2021-07-07T18:15:53.765Z"
   },
   {
    "duration": 15,
    "start_time": "2021-07-07T18:15:53.773Z"
   },
   {
    "duration": 5,
    "start_time": "2021-07-07T18:15:53.791Z"
   },
   {
    "duration": 19,
    "start_time": "2021-07-07T18:15:53.798Z"
   },
   {
    "duration": 9,
    "start_time": "2021-07-07T18:15:53.818Z"
   },
   {
    "duration": 19,
    "start_time": "2021-07-07T18:15:53.828Z"
   },
   {
    "duration": 27,
    "start_time": "2021-07-07T18:15:53.848Z"
   },
   {
    "duration": 16,
    "start_time": "2021-07-07T18:15:53.884Z"
   },
   {
    "duration": 29,
    "start_time": "2021-07-07T18:15:53.901Z"
   },
   {
    "duration": 5,
    "start_time": "2021-07-07T18:15:53.932Z"
   },
   {
    "duration": 15,
    "start_time": "2021-07-07T18:15:53.939Z"
   },
   {
    "duration": 13,
    "start_time": "2021-07-07T18:15:53.956Z"
   },
   {
    "duration": 20,
    "start_time": "2021-07-07T18:15:53.971Z"
   },
   {
    "duration": 14,
    "start_time": "2021-07-07T18:15:53.992Z"
   },
   {
    "duration": 9,
    "start_time": "2021-07-07T18:15:54.009Z"
   },
   {
    "duration": 28,
    "start_time": "2021-07-07T18:15:54.020Z"
   },
   {
    "duration": 50,
    "start_time": "2021-07-07T18:15:54.051Z"
   },
   {
    "duration": 8,
    "start_time": "2021-07-07T18:15:54.105Z"
   },
   {
    "duration": 11,
    "start_time": "2021-07-07T18:15:54.115Z"
   },
   {
    "duration": 20,
    "start_time": "2021-07-07T18:15:54.128Z"
   },
   {
    "duration": 13,
    "start_time": "2021-07-07T18:15:54.184Z"
   },
   {
    "duration": 7,
    "start_time": "2021-07-07T18:15:54.199Z"
   },
   {
    "duration": 7,
    "start_time": "2021-07-07T18:17:08.042Z"
   },
   {
    "duration": 8,
    "start_time": "2021-07-07T18:17:21.008Z"
   },
   {
    "duration": 7,
    "start_time": "2021-07-07T18:17:29.003Z"
   },
   {
    "duration": 8,
    "start_time": "2021-07-07T18:17:32.492Z"
   },
   {
    "duration": 9,
    "start_time": "2021-07-07T18:17:41.758Z"
   },
   {
    "duration": 255,
    "start_time": "2021-07-07T18:20:20.897Z"
   },
   {
    "duration": 173,
    "start_time": "2021-07-07T18:20:26.636Z"
   },
   {
    "duration": 7,
    "start_time": "2021-07-07T18:21:47.164Z"
   },
   {
    "duration": 254,
    "start_time": "2021-07-07T18:23:08.703Z"
   },
   {
    "duration": 21,
    "start_time": "2021-07-07T18:23:22.506Z"
   },
   {
    "duration": 315,
    "start_time": "2021-07-07T18:25:54.801Z"
   },
   {
    "duration": 34,
    "start_time": "2021-07-07T18:26:51.817Z"
   },
   {
    "duration": 327,
    "start_time": "2021-07-07T18:26:56.147Z"
   },
   {
    "duration": 342,
    "start_time": "2021-07-07T18:27:15.887Z"
   },
   {
    "duration": 302,
    "start_time": "2021-07-07T18:28:18.569Z"
   },
   {
    "duration": 226,
    "start_time": "2021-07-07T18:29:20.879Z"
   },
   {
    "duration": 207,
    "start_time": "2021-07-07T18:29:58.114Z"
   },
   {
    "duration": 140,
    "start_time": "2021-07-07T18:32:04.372Z"
   },
   {
    "duration": 158,
    "start_time": "2021-07-07T18:32:32.508Z"
   },
   {
    "duration": 145,
    "start_time": "2021-07-07T18:32:41.365Z"
   },
   {
    "duration": 132,
    "start_time": "2021-07-07T18:32:45.199Z"
   },
   {
    "duration": 11,
    "start_time": "2021-07-07T18:35:24.679Z"
   },
   {
    "duration": 268,
    "start_time": "2021-07-07T18:36:16.145Z"
   },
   {
    "duration": 227,
    "start_time": "2021-07-07T18:37:04.918Z"
   },
   {
    "duration": 3,
    "start_time": "2021-07-07T18:37:33.012Z"
   },
   {
    "duration": 671,
    "start_time": "2021-07-07T18:37:38.295Z"
   },
   {
    "duration": 54,
    "start_time": "2021-07-07T18:37:53.406Z"
   },
   {
    "duration": 631,
    "start_time": "2021-07-07T18:37:56.463Z"
   },
   {
    "duration": 19,
    "start_time": "2021-07-07T18:39:40.535Z"
   },
   {
    "duration": 20,
    "start_time": "2021-07-07T18:40:12.236Z"
   },
   {
    "duration": 633,
    "start_time": "2021-07-07T18:42:00.398Z"
   },
   {
    "duration": 218,
    "start_time": "2021-07-07T18:42:01.033Z"
   },
   {
    "duration": 49,
    "start_time": "2021-07-07T18:42:01.253Z"
   },
   {
    "duration": 5,
    "start_time": "2021-07-07T18:42:01.303Z"
   },
   {
    "duration": 27,
    "start_time": "2021-07-07T18:42:01.310Z"
   },
   {
    "duration": 8,
    "start_time": "2021-07-07T18:42:01.339Z"
   },
   {
    "duration": 20,
    "start_time": "2021-07-07T18:42:01.348Z"
   },
   {
    "duration": 6,
    "start_time": "2021-07-07T18:42:01.386Z"
   },
   {
    "duration": 16,
    "start_time": "2021-07-07T18:42:01.394Z"
   },
   {
    "duration": 9,
    "start_time": "2021-07-07T18:42:01.411Z"
   },
   {
    "duration": 11,
    "start_time": "2021-07-07T18:42:01.421Z"
   },
   {
    "duration": 31,
    "start_time": "2021-07-07T18:42:01.434Z"
   },
   {
    "duration": 18,
    "start_time": "2021-07-07T18:42:01.485Z"
   },
   {
    "duration": 23,
    "start_time": "2021-07-07T18:42:01.505Z"
   },
   {
    "duration": 6,
    "start_time": "2021-07-07T18:42:01.530Z"
   },
   {
    "duration": 10,
    "start_time": "2021-07-07T18:42:01.538Z"
   },
   {
    "duration": 13,
    "start_time": "2021-07-07T18:42:01.550Z"
   },
   {
    "duration": 24,
    "start_time": "2021-07-07T18:42:01.564Z"
   },
   {
    "duration": 20,
    "start_time": "2021-07-07T18:42:01.590Z"
   },
   {
    "duration": 8,
    "start_time": "2021-07-07T18:42:01.611Z"
   },
   {
    "duration": 31,
    "start_time": "2021-07-07T18:42:01.620Z"
   },
   {
    "duration": 39,
    "start_time": "2021-07-07T18:42:01.653Z"
   },
   {
    "duration": 8,
    "start_time": "2021-07-07T18:42:01.696Z"
   },
   {
    "duration": 13,
    "start_time": "2021-07-07T18:42:01.705Z"
   },
   {
    "duration": 20,
    "start_time": "2021-07-07T18:42:01.720Z"
   },
   {
    "duration": 12,
    "start_time": "2021-07-07T18:42:01.741Z"
   },
   {
    "duration": 35,
    "start_time": "2021-07-07T18:42:01.755Z"
   },
   {
    "duration": 14,
    "start_time": "2021-07-07T18:42:01.792Z"
   },
   {
    "duration": 188,
    "start_time": "2021-07-07T18:42:01.808Z"
   },
   {
    "duration": 19,
    "start_time": "2021-07-07T18:42:01.998Z"
   },
   {
    "duration": 175,
    "start_time": "2021-07-07T18:42:02.019Z"
   },
   {
    "duration": 134,
    "start_time": "2021-07-07T18:42:02.196Z"
   },
   {
    "duration": 10,
    "start_time": "2021-07-07T18:42:02.331Z"
   },
   {
    "duration": 19,
    "start_time": "2021-07-07T18:42:02.343Z"
   },
   {
    "duration": 628,
    "start_time": "2021-07-07T18:46:30.701Z"
   },
   {
    "duration": 183,
    "start_time": "2021-07-07T18:46:31.331Z"
   },
   {
    "duration": 48,
    "start_time": "2021-07-07T18:46:31.516Z"
   },
   {
    "duration": 5,
    "start_time": "2021-07-07T18:46:31.566Z"
   },
   {
    "duration": 28,
    "start_time": "2021-07-07T18:46:31.572Z"
   },
   {
    "duration": 8,
    "start_time": "2021-07-07T18:46:31.602Z"
   },
   {
    "duration": 19,
    "start_time": "2021-07-07T18:46:31.611Z"
   },
   {
    "duration": 6,
    "start_time": "2021-07-07T18:46:31.633Z"
   },
   {
    "duration": 17,
    "start_time": "2021-07-07T18:46:31.642Z"
   },
   {
    "duration": 10,
    "start_time": "2021-07-07T18:46:31.684Z"
   },
   {
    "duration": 9,
    "start_time": "2021-07-07T18:46:31.695Z"
   },
   {
    "duration": 28,
    "start_time": "2021-07-07T18:46:31.705Z"
   },
   {
    "duration": 18,
    "start_time": "2021-07-07T18:46:31.735Z"
   },
   {
    "duration": 48,
    "start_time": "2021-07-07T18:46:31.755Z"
   },
   {
    "duration": 6,
    "start_time": "2021-07-07T18:46:31.804Z"
   },
   {
    "duration": 4,
    "start_time": "2021-07-07T18:46:31.812Z"
   },
   {
    "duration": 9,
    "start_time": "2021-07-07T18:46:31.817Z"
   },
   {
    "duration": 10,
    "start_time": "2021-07-07T18:46:31.827Z"
   },
   {
    "duration": 12,
    "start_time": "2021-07-07T18:46:31.838Z"
   },
   {
    "duration": 39,
    "start_time": "2021-07-07T18:46:31.851Z"
   },
   {
    "duration": 24,
    "start_time": "2021-07-07T18:46:31.892Z"
   },
   {
    "duration": 15,
    "start_time": "2021-07-07T18:46:31.918Z"
   },
   {
    "duration": 7,
    "start_time": "2021-07-07T18:46:31.936Z"
   },
   {
    "duration": 8,
    "start_time": "2021-07-07T18:46:31.944Z"
   },
   {
    "duration": 19,
    "start_time": "2021-07-07T18:46:31.984Z"
   },
   {
    "duration": 10,
    "start_time": "2021-07-07T18:46:32.004Z"
   },
   {
    "duration": 5,
    "start_time": "2021-07-07T18:46:32.016Z"
   },
   {
    "duration": 9,
    "start_time": "2021-07-07T18:46:32.023Z"
   },
   {
    "duration": 199,
    "start_time": "2021-07-07T18:46:32.033Z"
   },
   {
    "duration": 19,
    "start_time": "2021-07-07T18:46:32.234Z"
   },
   {
    "duration": 159,
    "start_time": "2021-07-07T18:46:32.255Z"
   },
   {
    "duration": 134,
    "start_time": "2021-07-07T18:46:32.416Z"
   },
   {
    "duration": 10,
    "start_time": "2021-07-07T18:46:32.552Z"
   },
   {
    "duration": 34,
    "start_time": "2021-07-07T18:46:32.563Z"
   },
   {
    "duration": 1039,
    "start_time": "2021-07-08T08:41:09.419Z"
   },
   {
    "duration": 333,
    "start_time": "2021-07-08T08:41:10.459Z"
   },
   {
    "duration": 173,
    "start_time": "2021-07-08T08:41:10.794Z"
   },
   {
    "duration": 5,
    "start_time": "2021-07-08T08:41:10.968Z"
   },
   {
    "duration": 25,
    "start_time": "2021-07-08T08:41:10.975Z"
   },
   {
    "duration": 9,
    "start_time": "2021-07-08T08:41:11.002Z"
   },
   {
    "duration": 18,
    "start_time": "2021-07-08T08:41:11.013Z"
   },
   {
    "duration": 6,
    "start_time": "2021-07-08T08:41:11.033Z"
   },
   {
    "duration": 44,
    "start_time": "2021-07-08T08:41:11.042Z"
   },
   {
    "duration": 10,
    "start_time": "2021-07-08T08:41:11.088Z"
   },
   {
    "duration": 9,
    "start_time": "2021-07-08T08:41:11.100Z"
   },
   {
    "duration": 27,
    "start_time": "2021-07-08T08:41:11.111Z"
   },
   {
    "duration": 46,
    "start_time": "2021-07-08T08:41:11.140Z"
   },
   {
    "duration": 17,
    "start_time": "2021-07-08T08:41:11.187Z"
   },
   {
    "duration": 6,
    "start_time": "2021-07-08T08:41:11.206Z"
   },
   {
    "duration": 5,
    "start_time": "2021-07-08T08:41:11.213Z"
   },
   {
    "duration": 10,
    "start_time": "2021-07-08T08:41:11.219Z"
   },
   {
    "duration": 9,
    "start_time": "2021-07-08T08:41:11.230Z"
   },
   {
    "duration": 45,
    "start_time": "2021-07-08T08:41:11.241Z"
   },
   {
    "duration": 7,
    "start_time": "2021-07-08T08:41:11.287Z"
   },
   {
    "duration": 24,
    "start_time": "2021-07-08T08:41:11.296Z"
   },
   {
    "duration": 16,
    "start_time": "2021-07-08T08:41:11.322Z"
   },
   {
    "duration": 7,
    "start_time": "2021-07-08T08:41:11.341Z"
   },
   {
    "duration": 41,
    "start_time": "2021-07-08T08:41:11.349Z"
   },
   {
    "duration": 17,
    "start_time": "2021-07-08T08:41:11.391Z"
   },
   {
    "duration": 9,
    "start_time": "2021-07-08T08:41:11.410Z"
   },
   {
    "duration": 5,
    "start_time": "2021-07-08T08:41:11.421Z"
   },
   {
    "duration": 6,
    "start_time": "2021-07-08T08:41:11.428Z"
   },
   {
    "duration": 198,
    "start_time": "2021-07-08T08:41:11.435Z"
   },
   {
    "duration": 18,
    "start_time": "2021-07-08T08:41:11.635Z"
   },
   {
    "duration": 155,
    "start_time": "2021-07-08T08:41:11.655Z"
   },
   {
    "duration": 138,
    "start_time": "2021-07-08T08:41:11.811Z"
   },
   {
    "duration": 10,
    "start_time": "2021-07-08T08:41:11.950Z"
   },
   {
    "duration": 29,
    "start_time": "2021-07-08T08:41:11.961Z"
   },
   {
    "duration": 171,
    "start_time": "2021-07-08T08:47:44.522Z"
   },
   {
    "duration": 124,
    "start_time": "2021-07-08T08:47:46.872Z"
   },
   {
    "duration": 191,
    "start_time": "2021-07-08T08:47:58.148Z"
   },
   {
    "duration": 191,
    "start_time": "2021-07-08T08:48:07.412Z"
   },
   {
    "duration": 261,
    "start_time": "2021-07-08T08:48:10.385Z"
   },
   {
    "duration": 255,
    "start_time": "2021-07-08T08:48:14.494Z"
   },
   {
    "duration": 219,
    "start_time": "2021-07-08T08:48:22.752Z"
   },
   {
    "duration": 173,
    "start_time": "2021-07-08T08:49:06.395Z"
   },
   {
    "duration": 180,
    "start_time": "2021-07-08T08:49:21.011Z"
   },
   {
    "duration": 6,
    "start_time": "2021-07-08T08:50:31.697Z"
   },
   {
    "duration": 10,
    "start_time": "2021-07-08T08:50:47.394Z"
   },
   {
    "duration": 11,
    "start_time": "2021-07-08T08:53:49.332Z"
   },
   {
    "duration": 171,
    "start_time": "2021-07-08T08:54:28.408Z"
   },
   {
    "duration": 636,
    "start_time": "2021-07-08T09:02:48.385Z"
   },
   {
    "duration": 227,
    "start_time": "2021-07-08T09:02:49.023Z"
   },
   {
    "duration": 104,
    "start_time": "2021-07-08T09:02:49.252Z"
   },
   {
    "duration": 5,
    "start_time": "2021-07-08T09:02:49.358Z"
   },
   {
    "duration": 27,
    "start_time": "2021-07-08T09:02:49.365Z"
   },
   {
    "duration": 8,
    "start_time": "2021-07-08T09:02:49.394Z"
   },
   {
    "duration": 18,
    "start_time": "2021-07-08T09:02:49.404Z"
   },
   {
    "duration": 6,
    "start_time": "2021-07-08T09:02:49.424Z"
   },
   {
    "duration": 11,
    "start_time": "2021-07-08T09:02:49.433Z"
   },
   {
    "duration": 13,
    "start_time": "2021-07-08T09:02:49.485Z"
   },
   {
    "duration": 9,
    "start_time": "2021-07-08T09:02:49.500Z"
   },
   {
    "duration": 38,
    "start_time": "2021-07-08T09:02:49.511Z"
   },
   {
    "duration": 42,
    "start_time": "2021-07-08T09:02:49.551Z"
   },
   {
    "duration": 21,
    "start_time": "2021-07-08T09:02:49.594Z"
   },
   {
    "duration": 6,
    "start_time": "2021-07-08T09:02:49.616Z"
   },
   {
    "duration": 3,
    "start_time": "2021-07-08T09:02:49.623Z"
   },
   {
    "duration": 9,
    "start_time": "2021-07-08T09:02:49.628Z"
   },
   {
    "duration": 52,
    "start_time": "2021-07-08T09:02:49.638Z"
   },
   {
    "duration": 11,
    "start_time": "2021-07-08T09:02:49.692Z"
   },
   {
    "duration": 8,
    "start_time": "2021-07-08T09:02:49.704Z"
   },
   {
    "duration": 27,
    "start_time": "2021-07-08T09:02:49.713Z"
   },
   {
    "duration": 59,
    "start_time": "2021-07-08T09:02:49.741Z"
   },
   {
    "duration": 8,
    "start_time": "2021-07-08T09:02:49.803Z"
   },
   {
    "duration": 14,
    "start_time": "2021-07-08T09:02:49.813Z"
   },
   {
    "duration": 20,
    "start_time": "2021-07-08T09:02:49.829Z"
   },
   {
    "duration": 44,
    "start_time": "2021-07-08T09:02:49.851Z"
   },
   {
    "duration": 14,
    "start_time": "2021-07-08T09:02:49.896Z"
   },
   {
    "duration": 221,
    "start_time": "2021-07-08T09:02:49.912Z"
   },
   {
    "duration": 6,
    "start_time": "2021-07-08T09:02:50.134Z"
   },
   {
    "duration": 206,
    "start_time": "2021-07-08T09:02:50.142Z"
   },
   {
    "duration": 19,
    "start_time": "2021-07-08T09:02:50.350Z"
   },
   {
    "duration": 21,
    "start_time": "2021-07-08T09:02:50.370Z"
   },
   {
    "duration": 20,
    "start_time": "2021-07-08T09:02:50.393Z"
   },
   {
    "duration": 5,
    "start_time": "2021-07-08T09:02:50.414Z"
   },
   {
    "duration": 5,
    "start_time": "2021-07-08T09:03:34.173Z"
   },
   {
    "duration": 6,
    "start_time": "2021-07-08T09:04:49.062Z"
   },
   {
    "duration": 9,
    "start_time": "2021-07-08T09:04:50.118Z"
   },
   {
    "duration": 14,
    "start_time": "2021-07-08T09:04:58.512Z"
   },
   {
    "duration": 9,
    "start_time": "2021-07-08T09:05:10.988Z"
   },
   {
    "duration": 11,
    "start_time": "2021-07-08T09:05:11.743Z"
   },
   {
    "duration": 7,
    "start_time": "2021-07-08T09:05:25.677Z"
   },
   {
    "duration": 13,
    "start_time": "2021-07-08T09:05:47.189Z"
   },
   {
    "duration": 13,
    "start_time": "2021-07-08T09:05:54.755Z"
   },
   {
    "duration": 4,
    "start_time": "2021-07-08T09:06:29.189Z"
   },
   {
    "duration": 244,
    "start_time": "2021-07-08T09:06:29.195Z"
   },
   {
    "duration": 91,
    "start_time": "2021-07-08T09:06:29.441Z"
   },
   {
    "duration": 4,
    "start_time": "2021-07-08T09:06:29.534Z"
   },
   {
    "duration": 28,
    "start_time": "2021-07-08T09:06:29.540Z"
   },
   {
    "duration": 6,
    "start_time": "2021-07-08T09:06:29.570Z"
   },
   {
    "duration": 18,
    "start_time": "2021-07-08T09:06:29.578Z"
   },
   {
    "duration": 5,
    "start_time": "2021-07-08T09:06:29.597Z"
   },
   {
    "duration": 13,
    "start_time": "2021-07-08T09:06:29.605Z"
   },
   {
    "duration": 8,
    "start_time": "2021-07-08T09:06:29.620Z"
   },
   {
    "duration": 7,
    "start_time": "2021-07-08T09:06:29.630Z"
   },
   {
    "duration": 63,
    "start_time": "2021-07-08T09:06:29.639Z"
   },
   {
    "duration": 17,
    "start_time": "2021-07-08T09:06:29.704Z"
   },
   {
    "duration": 20,
    "start_time": "2021-07-08T09:06:29.723Z"
   },
   {
    "duration": 6,
    "start_time": "2021-07-08T09:06:29.745Z"
   },
   {
    "duration": 3,
    "start_time": "2021-07-08T09:06:29.752Z"
   },
   {
    "duration": 7,
    "start_time": "2021-07-08T09:06:29.785Z"
   },
   {
    "duration": 11,
    "start_time": "2021-07-08T09:06:29.794Z"
   },
   {
    "duration": 15,
    "start_time": "2021-07-08T09:06:29.807Z"
   },
   {
    "duration": 8,
    "start_time": "2021-07-08T09:06:29.823Z"
   },
   {
    "duration": 70,
    "start_time": "2021-07-08T09:06:29.832Z"
   },
   {
    "duration": 17,
    "start_time": "2021-07-08T09:06:29.903Z"
   },
   {
    "duration": 9,
    "start_time": "2021-07-08T09:06:29.921Z"
   },
   {
    "duration": 9,
    "start_time": "2021-07-08T09:06:29.932Z"
   },
   {
    "duration": 57,
    "start_time": "2021-07-08T09:06:29.942Z"
   },
   {
    "duration": 11,
    "start_time": "2021-07-08T09:06:30.001Z"
   },
   {
    "duration": 19,
    "start_time": "2021-07-08T09:06:30.016Z"
   },
   {
    "duration": 217,
    "start_time": "2021-07-08T09:06:30.037Z"
   },
   {
    "duration": 6,
    "start_time": "2021-07-08T09:06:30.255Z"
   },
   {
    "duration": 205,
    "start_time": "2021-07-08T09:06:30.263Z"
   },
   {
    "duration": 27,
    "start_time": "2021-07-08T09:06:30.470Z"
   },
   {
    "duration": 11,
    "start_time": "2021-07-08T09:06:30.500Z"
   },
   {
    "duration": 31,
    "start_time": "2021-07-08T09:06:30.513Z"
   },
   {
    "duration": 18,
    "start_time": "2021-07-08T09:06:30.546Z"
   },
   {
    "duration": 11,
    "start_time": "2021-07-08T09:06:30.566Z"
   },
   {
    "duration": 19,
    "start_time": "2021-07-08T09:06:30.579Z"
   },
   {
    "duration": 20,
    "start_time": "2021-07-08T09:06:49.466Z"
   },
   {
    "duration": 9,
    "start_time": "2021-07-08T09:06:51.994Z"
   },
   {
    "duration": 20,
    "start_time": "2021-07-08T09:06:52.273Z"
   },
   {
    "duration": 246,
    "start_time": "2021-07-08T09:10:21.272Z"
   },
   {
    "duration": 84,
    "start_time": "2021-07-08T09:10:21.436Z"
   },
   {
    "duration": 7,
    "start_time": "2021-07-08T09:10:37.608Z"
   },
   {
    "duration": 189,
    "start_time": "2021-07-08T09:10:38.573Z"
   },
   {
    "duration": 185,
    "start_time": "2021-07-08T09:10:53.181Z"
   },
   {
    "duration": 11,
    "start_time": "2021-07-08T09:10:59.549Z"
   },
   {
    "duration": 42,
    "start_time": "2021-07-08T09:10:59.709Z"
   },
   {
    "duration": 12,
    "start_time": "2021-07-08T09:11:02.857Z"
   },
   {
    "duration": 28,
    "start_time": "2021-07-08T09:11:10.062Z"
   },
   {
    "duration": 249,
    "start_time": "2021-07-08T09:11:37.388Z"
   },
   {
    "duration": 232,
    "start_time": "2021-07-08T09:11:49.485Z"
   },
   {
    "duration": 453,
    "start_time": "2021-07-08T09:12:01.546Z"
   },
   {
    "duration": 440,
    "start_time": "2021-07-08T09:12:12.347Z"
   },
   {
    "duration": 213,
    "start_time": "2021-07-08T09:13:32.196Z"
   },
   {
    "duration": 172,
    "start_time": "2021-07-08T09:14:07.400Z"
   },
   {
    "duration": 185,
    "start_time": "2021-07-08T09:14:14.905Z"
   },
   {
    "duration": 209,
    "start_time": "2021-07-08T09:14:40.109Z"
   },
   {
    "duration": 201,
    "start_time": "2021-07-08T09:14:54.506Z"
   },
   {
    "duration": 622,
    "start_time": "2021-07-08T09:18:14.497Z"
   },
   {
    "duration": 220,
    "start_time": "2021-07-08T09:18:15.121Z"
   },
   {
    "duration": 79,
    "start_time": "2021-07-08T09:18:15.343Z"
   },
   {
    "duration": 4,
    "start_time": "2021-07-08T09:18:15.425Z"
   },
   {
    "duration": 24,
    "start_time": "2021-07-08T09:18:15.431Z"
   },
   {
    "duration": 8,
    "start_time": "2021-07-08T09:18:15.457Z"
   },
   {
    "duration": 16,
    "start_time": "2021-07-08T09:18:15.466Z"
   },
   {
    "duration": 5,
    "start_time": "2021-07-08T09:18:15.484Z"
   },
   {
    "duration": 10,
    "start_time": "2021-07-08T09:18:15.493Z"
   },
   {
    "duration": 8,
    "start_time": "2021-07-08T09:18:15.504Z"
   },
   {
    "duration": 7,
    "start_time": "2021-07-08T09:18:15.513Z"
   },
   {
    "duration": 26,
    "start_time": "2021-07-08T09:18:15.522Z"
   },
   {
    "duration": 49,
    "start_time": "2021-07-08T09:18:15.550Z"
   },
   {
    "duration": 21,
    "start_time": "2021-07-08T09:18:15.601Z"
   },
   {
    "duration": 8,
    "start_time": "2021-07-08T09:18:15.624Z"
   },
   {
    "duration": 3,
    "start_time": "2021-07-08T09:18:15.634Z"
   },
   {
    "duration": 8,
    "start_time": "2021-07-08T09:18:15.639Z"
   },
   {
    "duration": 45,
    "start_time": "2021-07-08T09:18:15.649Z"
   },
   {
    "duration": 13,
    "start_time": "2021-07-08T09:18:15.696Z"
   },
   {
    "duration": 10,
    "start_time": "2021-07-08T09:18:15.711Z"
   },
   {
    "duration": 64,
    "start_time": "2021-07-08T09:18:15.722Z"
   },
   {
    "duration": 19,
    "start_time": "2021-07-08T09:18:15.788Z"
   },
   {
    "duration": 9,
    "start_time": "2021-07-08T09:18:15.809Z"
   },
   {
    "duration": 9,
    "start_time": "2021-07-08T09:18:15.820Z"
   },
   {
    "duration": 18,
    "start_time": "2021-07-08T09:18:15.831Z"
   },
   {
    "duration": 43,
    "start_time": "2021-07-08T09:18:15.851Z"
   },
   {
    "duration": 12,
    "start_time": "2021-07-08T09:18:15.897Z"
   },
   {
    "duration": 219,
    "start_time": "2021-07-08T09:18:15.911Z"
   },
   {
    "duration": 8,
    "start_time": "2021-07-08T09:18:16.132Z"
   },
   {
    "duration": 199,
    "start_time": "2021-07-08T09:18:16.141Z"
   },
   {
    "duration": 18,
    "start_time": "2021-07-08T09:18:16.341Z"
   },
   {
    "duration": 24,
    "start_time": "2021-07-08T09:18:16.361Z"
   },
   {
    "duration": 24,
    "start_time": "2021-07-08T09:18:16.387Z"
   },
   {
    "duration": 211,
    "start_time": "2021-07-08T09:18:16.413Z"
   },
   {
    "duration": 18,
    "start_time": "2021-07-08T09:18:16.626Z"
   },
   {
    "duration": 596,
    "start_time": "2021-07-08T10:06:33.623Z"
   },
   {
    "duration": 181,
    "start_time": "2021-07-08T10:06:34.221Z"
   },
   {
    "duration": 176,
    "start_time": "2021-07-08T10:06:34.635Z"
   },
   {
    "duration": 239,
    "start_time": "2021-07-08T10:06:55.572Z"
   },
   {
    "duration": 6,
    "start_time": "2021-07-08T10:06:57.687Z"
   },
   {
    "duration": 4,
    "start_time": "2021-07-08T10:07:03.956Z"
   },
   {
    "duration": 4,
    "start_time": "2021-07-08T10:07:10.376Z"
   },
   {
    "duration": 4,
    "start_time": "2021-07-08T10:17:19.889Z"
   },
   {
    "duration": 3,
    "start_time": "2021-07-08T10:19:19.407Z"
   },
   {
    "duration": 197,
    "start_time": "2021-07-08T10:19:19.412Z"
   },
   {
    "duration": 127,
    "start_time": "2021-07-08T10:19:19.611Z"
   },
   {
    "duration": 4,
    "start_time": "2021-07-08T10:19:19.740Z"
   },
   {
    "duration": 27,
    "start_time": "2021-07-08T10:19:19.746Z"
   },
   {
    "duration": 7,
    "start_time": "2021-07-08T10:19:19.775Z"
   },
   {
    "duration": 30,
    "start_time": "2021-07-08T10:19:19.784Z"
   },
   {
    "duration": 7,
    "start_time": "2021-07-08T10:19:19.817Z"
   },
   {
    "duration": 26,
    "start_time": "2021-07-08T10:19:19.826Z"
   },
   {
    "duration": 18,
    "start_time": "2021-07-08T10:19:19.854Z"
   },
   {
    "duration": 14,
    "start_time": "2021-07-08T10:19:19.874Z"
   },
   {
    "duration": 48,
    "start_time": "2021-07-08T10:19:19.890Z"
   },
   {
    "duration": 17,
    "start_time": "2021-07-08T10:19:19.940Z"
   },
   {
    "duration": 38,
    "start_time": "2021-07-08T10:19:19.959Z"
   },
   {
    "duration": 8,
    "start_time": "2021-07-08T10:19:19.999Z"
   },
   {
    "duration": 15,
    "start_time": "2021-07-08T10:19:20.009Z"
   },
   {
    "duration": 22,
    "start_time": "2021-07-08T10:19:20.026Z"
   },
   {
    "duration": 10,
    "start_time": "2021-07-08T10:19:20.050Z"
   },
   {
    "duration": 10,
    "start_time": "2021-07-08T10:19:20.062Z"
   },
   {
    "duration": 20,
    "start_time": "2021-07-08T10:19:20.073Z"
   },
   {
    "duration": 29,
    "start_time": "2021-07-08T10:19:20.095Z"
   },
   {
    "duration": 17,
    "start_time": "2021-07-08T10:19:20.126Z"
   },
   {
    "duration": 40,
    "start_time": "2021-07-08T10:19:20.146Z"
   },
   {
    "duration": 15,
    "start_time": "2021-07-08T10:19:20.189Z"
   },
   {
    "duration": 19,
    "start_time": "2021-07-08T10:19:20.206Z"
   },
   {
    "duration": 10,
    "start_time": "2021-07-08T10:19:20.226Z"
   },
   {
    "duration": 11,
    "start_time": "2021-07-08T10:19:20.238Z"
   },
   {
    "duration": 297,
    "start_time": "2021-07-08T10:19:20.250Z"
   },
   {
    "duration": 6,
    "start_time": "2021-07-08T10:19:20.549Z"
   },
   {
    "duration": 191,
    "start_time": "2021-07-08T10:19:20.557Z"
   },
   {
    "duration": 19,
    "start_time": "2021-07-08T10:19:20.750Z"
   },
   {
    "duration": 20,
    "start_time": "2021-07-08T10:19:20.771Z"
   },
   {
    "duration": 15,
    "start_time": "2021-07-08T10:19:20.793Z"
   },
   {
    "duration": 222,
    "start_time": "2021-07-08T10:19:20.809Z"
   },
   {
    "duration": 20,
    "start_time": "2021-07-08T10:19:21.033Z"
   },
   {
    "duration": 27,
    "start_time": "2021-07-08T10:45:04.055Z"
   },
   {
    "duration": 8,
    "start_time": "2021-07-08T10:45:08.478Z"
   },
   {
    "duration": 8,
    "start_time": "2021-07-08T10:45:31.982Z"
   },
   {
    "duration": 10,
    "start_time": "2021-07-08T10:46:01.221Z"
   },
   {
    "duration": 17,
    "start_time": "2021-07-08T10:46:40.011Z"
   },
   {
    "duration": 193,
    "start_time": "2021-07-08T10:48:19.471Z"
   },
   {
    "duration": 225,
    "start_time": "2021-07-08T10:49:26.480Z"
   },
   {
    "duration": 204,
    "start_time": "2021-07-08T10:49:59.992Z"
   },
   {
    "duration": 435,
    "start_time": "2021-07-08T10:50:06.779Z"
   },
   {
    "duration": 199,
    "start_time": "2021-07-08T10:50:14.891Z"
   },
   {
    "duration": 204,
    "start_time": "2021-07-08T10:50:18.501Z"
   },
   {
    "duration": 244,
    "start_time": "2021-07-08T10:50:23.359Z"
   },
   {
    "duration": 192,
    "start_time": "2021-07-08T10:50:29.135Z"
   },
   {
    "duration": 218,
    "start_time": "2021-07-08T10:50:33.092Z"
   },
   {
    "duration": 207,
    "start_time": "2021-07-08T10:52:45.381Z"
   },
   {
    "duration": 5,
    "start_time": "2021-07-08T10:53:34.641Z"
   },
   {
    "duration": 196,
    "start_time": "2021-07-08T10:53:41.478Z"
   },
   {
    "duration": 43,
    "start_time": "2021-07-08T10:53:50.335Z"
   },
   {
    "duration": 32,
    "start_time": "2021-07-08T10:53:55.294Z"
   },
   {
    "duration": 55,
    "start_time": "2021-07-08T10:54:09.675Z"
   },
   {
    "duration": 16,
    "start_time": "2021-07-08T10:54:12.260Z"
   },
   {
    "duration": 15,
    "start_time": "2021-07-08T10:54:49.150Z"
   },
   {
    "duration": 20,
    "start_time": "2021-07-08T10:56:07.596Z"
   },
   {
    "duration": 16,
    "start_time": "2021-07-08T10:58:26.276Z"
   },
   {
    "duration": 22,
    "start_time": "2021-07-08T10:59:00.486Z"
   },
   {
    "duration": 18,
    "start_time": "2021-07-08T11:02:09.653Z"
   },
   {
    "duration": 10,
    "start_time": "2021-07-08T11:03:44.331Z"
   },
   {
    "duration": 10,
    "start_time": "2021-07-08T11:03:54.055Z"
   },
   {
    "duration": 12,
    "start_time": "2021-07-08T11:04:41.967Z"
   },
   {
    "duration": 24,
    "start_time": "2021-07-08T11:07:30.732Z"
   },
   {
    "duration": 6,
    "start_time": "2021-07-08T11:07:37.364Z"
   },
   {
    "duration": 16,
    "start_time": "2021-07-08T11:08:01.819Z"
   },
   {
    "duration": 17,
    "start_time": "2021-07-08T11:09:47.488Z"
   },
   {
    "duration": 246,
    "start_time": "2021-07-08T11:10:00.830Z"
   },
   {
    "duration": 18,
    "start_time": "2021-07-08T11:13:55.195Z"
   },
   {
    "duration": 204,
    "start_time": "2021-07-08T11:14:04.951Z"
   },
   {
    "duration": 19,
    "start_time": "2021-07-08T11:15:10.613Z"
   },
   {
    "duration": 680,
    "start_time": "2021-07-08T11:16:25.793Z"
   },
   {
    "duration": 451,
    "start_time": "2021-07-08T11:16:40.313Z"
   },
   {
    "duration": 469,
    "start_time": "2021-07-08T11:17:21.286Z"
   },
   {
    "duration": 20,
    "start_time": "2021-07-08T11:19:12.554Z"
   },
   {
    "duration": 35,
    "start_time": "2021-07-08T11:20:05.484Z"
   },
   {
    "duration": 53,
    "start_time": "2021-07-08T11:21:40.050Z"
   },
   {
    "duration": 13,
    "start_time": "2021-07-08T11:22:26.059Z"
   },
   {
    "duration": 19,
    "start_time": "2021-07-08T11:22:47.419Z"
   },
   {
    "duration": 25,
    "start_time": "2021-07-08T11:23:19.958Z"
   },
   {
    "duration": 29,
    "start_time": "2021-07-08T11:23:25.415Z"
   },
   {
    "duration": 10,
    "start_time": "2021-07-08T11:24:45.138Z"
   },
   {
    "duration": 19,
    "start_time": "2021-07-08T11:24:54.498Z"
   },
   {
    "duration": 12,
    "start_time": "2021-07-08T11:25:32.225Z"
   },
   {
    "duration": 19,
    "start_time": "2021-07-08T11:25:37.092Z"
   },
   {
    "duration": 17,
    "start_time": "2021-07-08T11:25:58.116Z"
   },
   {
    "duration": 15,
    "start_time": "2021-07-08T11:26:02.258Z"
   },
   {
    "duration": 8,
    "start_time": "2021-07-08T11:26:59.682Z"
   },
   {
    "duration": 184,
    "start_time": "2021-07-08T11:27:21.894Z"
   },
   {
    "duration": 8,
    "start_time": "2021-07-08T11:27:23.824Z"
   },
   {
    "duration": 202,
    "start_time": "2021-07-08T11:27:23.962Z"
   },
   {
    "duration": 360,
    "start_time": "2021-07-08T11:28:33.215Z"
   },
   {
    "duration": 231,
    "start_time": "2021-07-08T11:32:05.542Z"
   },
   {
    "duration": 607,
    "start_time": "2021-07-08T11:36:27.854Z"
   },
   {
    "duration": 241,
    "start_time": "2021-07-08T11:36:28.463Z"
   },
   {
    "duration": 67,
    "start_time": "2021-07-08T11:36:28.709Z"
   },
   {
    "duration": 5,
    "start_time": "2021-07-08T11:36:28.778Z"
   },
   {
    "duration": 32,
    "start_time": "2021-07-08T11:36:28.784Z"
   },
   {
    "duration": 11,
    "start_time": "2021-07-08T11:36:28.819Z"
   },
   {
    "duration": 20,
    "start_time": "2021-07-08T11:36:28.834Z"
   },
   {
    "duration": 36,
    "start_time": "2021-07-08T11:36:28.857Z"
   },
   {
    "duration": 16,
    "start_time": "2021-07-08T11:36:28.895Z"
   },
   {
    "duration": 14,
    "start_time": "2021-07-08T11:36:28.913Z"
   },
   {
    "duration": 9,
    "start_time": "2021-07-08T11:36:28.930Z"
   },
   {
    "duration": 55,
    "start_time": "2021-07-08T11:36:28.941Z"
   },
   {
    "duration": 27,
    "start_time": "2021-07-08T11:36:28.999Z"
   },
   {
    "duration": 30,
    "start_time": "2021-07-08T11:36:29.028Z"
   },
   {
    "duration": 31,
    "start_time": "2021-07-08T11:36:29.060Z"
   },
   {
    "duration": 3,
    "start_time": "2021-07-08T11:36:29.093Z"
   },
   {
    "duration": 12,
    "start_time": "2021-07-08T11:36:29.099Z"
   },
   {
    "duration": 11,
    "start_time": "2021-07-08T11:36:29.112Z"
   },
   {
    "duration": 12,
    "start_time": "2021-07-08T11:36:29.125Z"
   },
   {
    "duration": 9,
    "start_time": "2021-07-08T11:36:29.139Z"
   },
   {
    "duration": 31,
    "start_time": "2021-07-08T11:36:29.191Z"
   },
   {
    "duration": 17,
    "start_time": "2021-07-08T11:36:29.226Z"
   },
   {
    "duration": 7,
    "start_time": "2021-07-08T11:36:29.245Z"
   },
   {
    "duration": 10,
    "start_time": "2021-07-08T11:36:29.254Z"
   },
   {
    "duration": 30,
    "start_time": "2021-07-08T11:36:29.292Z"
   },
   {
    "duration": 11,
    "start_time": "2021-07-08T11:36:29.324Z"
   },
   {
    "duration": 11,
    "start_time": "2021-07-08T11:36:29.337Z"
   },
   {
    "duration": 230,
    "start_time": "2021-07-08T11:36:29.349Z"
   },
   {
    "duration": 13,
    "start_time": "2021-07-08T11:36:29.588Z"
   },
   {
    "duration": 205,
    "start_time": "2021-07-08T11:36:29.603Z"
   },
   {
    "duration": 20,
    "start_time": "2021-07-08T11:36:29.810Z"
   },
   {
    "duration": 9,
    "start_time": "2021-07-08T11:36:29.832Z"
   },
   {
    "duration": 16,
    "start_time": "2021-07-08T11:36:29.843Z"
   },
   {
    "duration": 283,
    "start_time": "2021-07-08T11:36:29.861Z"
   },
   {
    "duration": 50,
    "start_time": "2021-07-08T11:36:30.146Z"
   },
   {
    "duration": 14,
    "start_time": "2021-07-08T11:36:30.198Z"
   },
   {
    "duration": 11,
    "start_time": "2021-07-08T11:36:30.214Z"
   },
   {
    "duration": 245,
    "start_time": "2021-07-08T11:36:30.227Z"
   },
   {
    "duration": 439,
    "start_time": "2021-07-08T11:36:30.474Z"
   },
   {
    "duration": 210,
    "start_time": "2021-07-08T11:36:30.915Z"
   },
   {
    "duration": 15,
    "start_time": "2021-07-08T11:36:31.127Z"
   },
   {
    "duration": 17,
    "start_time": "2021-07-08T11:38:20.451Z"
   },
   {
    "duration": 642,
    "start_time": "2021-07-08T11:46:17.881Z"
   },
   {
    "duration": 210,
    "start_time": "2021-07-08T11:46:18.525Z"
   },
   {
    "duration": 104,
    "start_time": "2021-07-08T11:46:18.741Z"
   },
   {
    "duration": 8,
    "start_time": "2021-07-08T11:46:18.847Z"
   },
   {
    "duration": 25,
    "start_time": "2021-07-08T11:46:18.857Z"
   },
   {
    "duration": 14,
    "start_time": "2021-07-08T11:46:18.884Z"
   },
   {
    "duration": 22,
    "start_time": "2021-07-08T11:46:18.900Z"
   },
   {
    "duration": 5,
    "start_time": "2021-07-08T11:46:18.924Z"
   },
   {
    "duration": 13,
    "start_time": "2021-07-08T11:46:18.931Z"
   },
   {
    "duration": 45,
    "start_time": "2021-07-08T11:46:18.946Z"
   },
   {
    "duration": 12,
    "start_time": "2021-07-08T11:46:18.993Z"
   },
   {
    "duration": 38,
    "start_time": "2021-07-08T11:46:19.006Z"
   },
   {
    "duration": 50,
    "start_time": "2021-07-08T11:46:19.046Z"
   },
   {
    "duration": 29,
    "start_time": "2021-07-08T11:46:19.099Z"
   },
   {
    "duration": 7,
    "start_time": "2021-07-08T11:46:19.130Z"
   },
   {
    "duration": 3,
    "start_time": "2021-07-08T11:46:19.139Z"
   },
   {
    "duration": 11,
    "start_time": "2021-07-08T11:46:19.144Z"
   },
   {
    "duration": 40,
    "start_time": "2021-07-08T11:46:19.157Z"
   },
   {
    "duration": 15,
    "start_time": "2021-07-08T11:46:19.199Z"
   },
   {
    "duration": 10,
    "start_time": "2021-07-08T11:46:19.217Z"
   },
   {
    "duration": 68,
    "start_time": "2021-07-08T11:46:19.230Z"
   },
   {
    "duration": 17,
    "start_time": "2021-07-08T11:46:19.301Z"
   },
   {
    "duration": 7,
    "start_time": "2021-07-08T11:46:19.321Z"
   },
   {
    "duration": 11,
    "start_time": "2021-07-08T11:46:19.330Z"
   },
   {
    "duration": 59,
    "start_time": "2021-07-08T11:46:19.343Z"
   },
   {
    "duration": 17,
    "start_time": "2021-07-08T11:46:19.405Z"
   },
   {
    "duration": 16,
    "start_time": "2021-07-08T11:46:19.424Z"
   },
   {
    "duration": 252,
    "start_time": "2021-07-08T11:46:19.443Z"
   },
   {
    "duration": 9,
    "start_time": "2021-07-08T11:46:19.697Z"
   },
   {
    "duration": 224,
    "start_time": "2021-07-08T11:46:19.708Z"
   },
   {
    "duration": 21,
    "start_time": "2021-07-08T11:46:19.934Z"
   },
   {
    "duration": 9,
    "start_time": "2021-07-08T11:46:19.956Z"
   },
   {
    "duration": 32,
    "start_time": "2021-07-08T11:46:19.967Z"
   },
   {
    "duration": 288,
    "start_time": "2021-07-08T11:46:20.004Z"
   },
   {
    "duration": 23,
    "start_time": "2021-07-08T11:46:20.300Z"
   },
   {
    "duration": 11,
    "start_time": "2021-07-08T11:46:20.325Z"
   },
   {
    "duration": 11,
    "start_time": "2021-07-08T11:46:20.339Z"
   },
   {
    "duration": 259,
    "start_time": "2021-07-08T11:46:20.352Z"
   },
   {
    "duration": 438,
    "start_time": "2021-07-08T11:46:20.613Z"
   },
   {
    "duration": 207,
    "start_time": "2021-07-08T11:46:21.054Z"
   },
   {
    "duration": 27,
    "start_time": "2021-07-08T11:46:21.262Z"
   },
   {
    "duration": 19,
    "start_time": "2021-07-08T11:46:21.291Z"
   },
   {
    "duration": 820,
    "start_time": "2021-07-08T11:49:01.655Z"
   },
   {
    "duration": 372,
    "start_time": "2021-07-08T11:49:02.478Z"
   },
   {
    "duration": 98,
    "start_time": "2021-07-08T11:49:02.853Z"
   },
   {
    "duration": 6,
    "start_time": "2021-07-08T11:49:02.953Z"
   },
   {
    "duration": 39,
    "start_time": "2021-07-08T11:49:02.960Z"
   },
   {
    "duration": 9,
    "start_time": "2021-07-08T11:49:03.003Z"
   },
   {
    "duration": 23,
    "start_time": "2021-07-08T11:49:03.014Z"
   },
   {
    "duration": 6,
    "start_time": "2021-07-08T11:49:03.041Z"
   },
   {
    "duration": 20,
    "start_time": "2021-07-08T11:49:03.049Z"
   },
   {
    "duration": 18,
    "start_time": "2021-07-08T11:49:03.084Z"
   },
   {
    "duration": 14,
    "start_time": "2021-07-08T11:49:03.104Z"
   },
   {
    "duration": 39,
    "start_time": "2021-07-08T11:49:03.119Z"
   },
   {
    "duration": 38,
    "start_time": "2021-07-08T11:49:03.160Z"
   },
   {
    "duration": 26,
    "start_time": "2021-07-08T11:49:03.200Z"
   },
   {
    "duration": 7,
    "start_time": "2021-07-08T11:49:03.227Z"
   },
   {
    "duration": 4,
    "start_time": "2021-07-08T11:49:03.236Z"
   },
   {
    "duration": 15,
    "start_time": "2021-07-08T11:49:03.243Z"
   },
   {
    "duration": 21,
    "start_time": "2021-07-08T11:49:03.285Z"
   },
   {
    "duration": 17,
    "start_time": "2021-07-08T11:49:03.309Z"
   },
   {
    "duration": 10,
    "start_time": "2021-07-08T11:49:03.328Z"
   },
   {
    "duration": 65,
    "start_time": "2021-07-08T11:49:03.340Z"
   },
   {
    "duration": 18,
    "start_time": "2021-07-08T11:49:03.407Z"
   },
   {
    "duration": 8,
    "start_time": "2021-07-08T11:49:03.428Z"
   },
   {
    "duration": 15,
    "start_time": "2021-07-08T11:49:03.438Z"
   },
   {
    "duration": 40,
    "start_time": "2021-07-08T11:49:03.455Z"
   },
   {
    "duration": 12,
    "start_time": "2021-07-08T11:49:03.497Z"
   },
   {
    "duration": 29,
    "start_time": "2021-07-08T11:49:03.511Z"
   },
   {
    "duration": 285,
    "start_time": "2021-07-08T11:49:03.542Z"
   },
   {
    "duration": 8,
    "start_time": "2021-07-08T11:49:03.829Z"
   },
   {
    "duration": 227,
    "start_time": "2021-07-08T11:49:03.838Z"
   },
   {
    "duration": 40,
    "start_time": "2021-07-08T11:49:04.066Z"
   },
   {
    "duration": 10,
    "start_time": "2021-07-08T11:49:04.108Z"
   },
   {
    "duration": 26,
    "start_time": "2021-07-08T11:49:04.121Z"
   },
   {
    "duration": 290,
    "start_time": "2021-07-08T11:49:04.149Z"
   },
   {
    "duration": 26,
    "start_time": "2021-07-08T11:49:04.441Z"
   },
   {
    "duration": 31,
    "start_time": "2021-07-08T11:49:04.470Z"
   },
   {
    "duration": 14,
    "start_time": "2021-07-08T11:49:04.503Z"
   },
   {
    "duration": 259,
    "start_time": "2021-07-08T11:49:04.521Z"
   },
   {
    "duration": 480,
    "start_time": "2021-07-08T11:49:04.782Z"
   },
   {
    "duration": 225,
    "start_time": "2021-07-08T11:49:05.264Z"
   },
   {
    "duration": 22,
    "start_time": "2021-07-08T11:49:05.491Z"
   },
   {
    "duration": 24,
    "start_time": "2021-07-08T11:49:05.515Z"
   },
   {
    "duration": 634,
    "start_time": "2021-07-08T11:52:24.960Z"
   },
   {
    "duration": 199,
    "start_time": "2021-07-08T11:52:25.599Z"
   },
   {
    "duration": 106,
    "start_time": "2021-07-08T11:52:25.803Z"
   },
   {
    "duration": 7,
    "start_time": "2021-07-08T11:52:25.911Z"
   },
   {
    "duration": 29,
    "start_time": "2021-07-08T11:52:25.920Z"
   },
   {
    "duration": 7,
    "start_time": "2021-07-08T11:52:25.951Z"
   },
   {
    "duration": 26,
    "start_time": "2021-07-08T11:52:25.961Z"
   },
   {
    "duration": 11,
    "start_time": "2021-07-08T11:52:25.990Z"
   },
   {
    "duration": 29,
    "start_time": "2021-07-08T11:52:26.005Z"
   },
   {
    "duration": 9,
    "start_time": "2021-07-08T11:52:26.036Z"
   },
   {
    "duration": 8,
    "start_time": "2021-07-08T11:52:26.047Z"
   },
   {
    "duration": 63,
    "start_time": "2021-07-08T11:52:26.057Z"
   },
   {
    "duration": 17,
    "start_time": "2021-07-08T11:52:26.122Z"
   },
   {
    "duration": 43,
    "start_time": "2021-07-08T11:52:26.142Z"
   },
   {
    "duration": 17,
    "start_time": "2021-07-08T11:52:26.187Z"
   },
   {
    "duration": 5,
    "start_time": "2021-07-08T11:52:26.206Z"
   },
   {
    "duration": 12,
    "start_time": "2021-07-08T11:52:26.212Z"
   },
   {
    "duration": 11,
    "start_time": "2021-07-08T11:52:26.226Z"
   },
   {
    "duration": 12,
    "start_time": "2021-07-08T11:52:26.238Z"
   },
   {
    "duration": 38,
    "start_time": "2021-07-08T11:52:26.252Z"
   },
   {
    "duration": 40,
    "start_time": "2021-07-08T11:52:26.292Z"
   },
   {
    "duration": 17,
    "start_time": "2021-07-08T11:52:26.336Z"
   },
   {
    "duration": 39,
    "start_time": "2021-07-08T11:52:26.355Z"
   },
   {
    "duration": 11,
    "start_time": "2021-07-08T11:52:26.395Z"
   },
   {
    "duration": 23,
    "start_time": "2021-07-08T11:52:26.408Z"
   },
   {
    "duration": 12,
    "start_time": "2021-07-08T11:52:26.432Z"
   },
   {
    "duration": 41,
    "start_time": "2021-07-08T11:52:26.446Z"
   },
   {
    "duration": 215,
    "start_time": "2021-07-08T11:52:26.493Z"
   },
   {
    "duration": 8,
    "start_time": "2021-07-08T11:52:26.710Z"
   },
   {
    "duration": 228,
    "start_time": "2021-07-08T11:52:26.720Z"
   },
   {
    "duration": 18,
    "start_time": "2021-07-08T11:52:26.950Z"
   },
   {
    "duration": 35,
    "start_time": "2021-07-08T11:52:26.969Z"
   },
   {
    "duration": 23,
    "start_time": "2021-07-08T11:52:27.006Z"
   },
   {
    "duration": 258,
    "start_time": "2021-07-08T11:52:27.030Z"
   },
   {
    "duration": 24,
    "start_time": "2021-07-08T11:52:27.290Z"
   },
   {
    "duration": 12,
    "start_time": "2021-07-08T11:52:27.316Z"
   },
   {
    "duration": 10,
    "start_time": "2021-07-08T11:52:27.329Z"
   },
   {
    "duration": 298,
    "start_time": "2021-07-08T11:52:27.341Z"
   },
   {
    "duration": 436,
    "start_time": "2021-07-08T11:52:27.641Z"
   },
   {
    "duration": 216,
    "start_time": "2021-07-08T11:52:28.079Z"
   },
   {
    "duration": 20,
    "start_time": "2021-07-08T11:52:28.297Z"
   },
   {
    "duration": 17,
    "start_time": "2021-07-08T11:52:28.319Z"
   },
   {
    "duration": 406,
    "start_time": "2022-09-12T14:51:43.895Z"
   },
   {
    "duration": 308,
    "start_time": "2022-09-12T14:51:44.876Z"
   },
   {
    "duration": 64,
    "start_time": "2022-09-12T14:51:51.017Z"
   },
   {
    "duration": 8,
    "start_time": "2022-09-12T14:52:09.824Z"
   },
   {
    "duration": 7,
    "start_time": "2022-09-12T14:52:26.621Z"
   },
   {
    "duration": 12,
    "start_time": "2022-09-12T14:53:10.902Z"
   },
   {
    "duration": 11,
    "start_time": "2022-09-12T14:53:46.021Z"
   },
   {
    "duration": 3,
    "start_time": "2022-09-12T14:54:12.166Z"
   },
   {
    "duration": 8,
    "start_time": "2022-09-12T14:54:35.336Z"
   },
   {
    "duration": 4,
    "start_time": "2022-09-12T14:54:40.025Z"
   },
   {
    "duration": 23,
    "start_time": "2022-09-12T14:54:40.689Z"
   },
   {
    "duration": 4,
    "start_time": "2022-09-12T14:54:44.078Z"
   },
   {
    "duration": 2,
    "start_time": "2022-09-12T14:55:02.524Z"
   },
   {
    "duration": 26,
    "start_time": "2022-09-12T15:00:00.989Z"
   },
   {
    "duration": 2,
    "start_time": "2022-09-12T15:00:34.548Z"
   },
   {
    "duration": 318,
    "start_time": "2022-09-12T15:00:34.745Z"
   },
   {
    "duration": 10,
    "start_time": "2022-09-12T15:00:35.605Z"
   },
   {
    "duration": 25,
    "start_time": "2022-09-12T15:00:36.140Z"
   },
   {
    "duration": 3,
    "start_time": "2022-09-12T15:00:37.306Z"
   },
   {
    "duration": 23,
    "start_time": "2022-09-12T15:00:39.106Z"
   },
   {
    "duration": 9,
    "start_time": "2022-09-12T15:00:40.040Z"
   },
   {
    "duration": 27,
    "start_time": "2022-09-12T15:00:40.380Z"
   },
   {
    "duration": 15,
    "start_time": "2022-09-12T15:00:41.738Z"
   },
   {
    "duration": 397,
    "start_time": "2022-09-12T15:00:43.519Z"
   },
   {
    "duration": 10,
    "start_time": "2022-09-12T15:00:44.734Z"
   },
   {
    "duration": 7,
    "start_time": "2022-09-12T15:00:48.251Z"
   },
   {
    "duration": 5,
    "start_time": "2022-09-12T15:00:49.496Z"
   },
   {
    "duration": 20,
    "start_time": "2022-09-12T15:00:50.499Z"
   },
   {
    "duration": 39,
    "start_time": "2022-09-12T15:00:53.354Z"
   },
   {
    "duration": 8,
    "start_time": "2022-09-12T15:00:54.677Z"
   },
   {
    "duration": 8,
    "start_time": "2022-09-12T15:01:00.009Z"
   },
   {
    "duration": 9,
    "start_time": "2022-09-12T15:01:01.412Z"
   },
   {
    "duration": 27,
    "start_time": "2022-09-12T15:01:03.140Z"
   },
   {
    "duration": 7,
    "start_time": "2022-09-12T15:01:05.440Z"
   },
   {
    "duration": 27,
    "start_time": "2022-09-12T15:01:06.697Z"
   },
   {
    "duration": 8,
    "start_time": "2022-09-12T15:01:50.305Z"
   },
   {
    "duration": 194,
    "start_time": "2022-09-12T15:02:42.210Z"
   },
   {
    "duration": 226,
    "start_time": "2022-09-12T15:02:58.447Z"
   },
   {
    "duration": 166,
    "start_time": "2022-09-12T15:03:32.096Z"
   },
   {
    "duration": 94,
    "start_time": "2022-09-12T15:03:44.364Z"
   },
   {
    "duration": 4,
    "start_time": "2022-09-12T15:07:21.779Z"
   },
   {
    "duration": 113,
    "start_time": "2022-09-12T15:07:25.918Z"
   },
   {
    "duration": 103,
    "start_time": "2022-09-12T15:07:42.008Z"
   },
   {
    "duration": 5,
    "start_time": "2022-09-12T15:07:48.038Z"
   },
   {
    "duration": 95,
    "start_time": "2022-09-12T15:07:52.369Z"
   },
   {
    "duration": 107,
    "start_time": "2022-09-12T15:08:05.834Z"
   },
   {
    "duration": 5,
    "start_time": "2022-09-12T15:08:09.278Z"
   },
   {
    "duration": 110,
    "start_time": "2022-09-12T15:08:12.331Z"
   },
   {
    "duration": 5,
    "start_time": "2022-09-12T15:09:21.630Z"
   },
   {
    "duration": 109,
    "start_time": "2022-09-12T15:09:24.203Z"
   },
   {
    "duration": 118,
    "start_time": "2022-09-12T15:09:54.994Z"
   },
   {
    "duration": 110,
    "start_time": "2022-09-12T15:10:00.978Z"
   },
   {
    "duration": 106,
    "start_time": "2022-09-12T15:10:04.319Z"
   },
   {
    "duration": 208,
    "start_time": "2022-09-12T15:10:38.829Z"
   },
   {
    "duration": 5,
    "start_time": "2022-09-12T15:15:08.258Z"
   },
   {
    "duration": 100,
    "start_time": "2022-09-12T15:15:11.332Z"
   },
   {
    "duration": 656,
    "start_time": "2022-09-12T15:15:22.582Z"
   },
   {
    "duration": 492,
    "start_time": "2022-09-12T15:15:38.522Z"
   },
   {
    "duration": 6,
    "start_time": "2022-09-12T15:15:47.555Z"
   },
   {
    "duration": 104,
    "start_time": "2022-09-12T15:15:50.308Z"
   },
   {
    "duration": 106,
    "start_time": "2022-09-12T15:17:56.564Z"
   },
   {
    "duration": 102,
    "start_time": "2022-09-12T15:18:07.357Z"
   },
   {
    "duration": 100,
    "start_time": "2022-09-12T15:18:16.493Z"
   },
   {
    "duration": 98,
    "start_time": "2022-09-12T15:18:28.103Z"
   },
   {
    "duration": 102,
    "start_time": "2022-09-12T15:18:34.347Z"
   },
   {
    "duration": 107,
    "start_time": "2022-09-12T15:19:07.346Z"
   },
   {
    "duration": 107,
    "start_time": "2022-09-12T15:19:26.708Z"
   },
   {
    "duration": 3,
    "start_time": "2022-09-12T15:22:39.273Z"
   },
   {
    "duration": 4,
    "start_time": "2022-09-12T15:23:31.459Z"
   },
   {
    "duration": 5,
    "start_time": "2022-09-12T15:23:37.585Z"
   },
   {
    "duration": 107,
    "start_time": "2022-09-12T15:23:40.522Z"
   },
   {
    "duration": 4,
    "start_time": "2022-09-12T15:23:48.110Z"
   },
   {
    "duration": 3,
    "start_time": "2022-09-12T15:24:19.275Z"
   },
   {
    "duration": 17,
    "start_time": "2022-09-12T15:24:21.257Z"
   },
   {
    "duration": 150,
    "start_time": "2022-09-12T15:24:23.294Z"
   },
   {
    "duration": 29,
    "start_time": "2022-09-12T15:24:26.709Z"
   },
   {
    "duration": 2,
    "start_time": "2022-09-12T15:24:30.868Z"
   },
   {
    "duration": 167,
    "start_time": "2022-09-12T15:24:32.699Z"
   },
   {
    "duration": 15,
    "start_time": "2022-09-12T15:24:42.147Z"
   },
   {
    "duration": 6,
    "start_time": "2022-09-12T15:24:45.749Z"
   },
   {
    "duration": 191,
    "start_time": "2022-09-12T15:24:47.665Z"
   },
   {
    "duration": 19,
    "start_time": "2022-09-12T15:25:58.562Z"
   },
   {
    "duration": 38,
    "start_time": "2022-09-12T15:26:01.487Z"
   },
   {
    "duration": 296,
    "start_time": "2022-09-12T15:26:02.522Z"
   },
   {
    "duration": 6,
    "start_time": "2022-09-12T15:26:11.597Z"
   },
   {
    "duration": 198,
    "start_time": "2022-09-12T15:26:14.255Z"
   },
   {
    "duration": 154,
    "start_time": "2022-09-12T15:26:18.534Z"
   },
   {
    "duration": 167,
    "start_time": "2022-09-12T15:26:22.567Z"
   },
   {
    "duration": 149,
    "start_time": "2022-09-12T15:26:26.034Z"
   },
   {
    "duration": 5,
    "start_time": "2022-09-12T15:26:28.495Z"
   },
   {
    "duration": 9,
    "start_time": "2022-09-12T15:43:32.348Z"
   },
   {
    "duration": 2,
    "start_time": "2022-09-12T15:44:20.095Z"
   },
   {
    "duration": 347,
    "start_time": "2022-09-12T15:44:21.152Z"
   },
   {
    "duration": 10,
    "start_time": "2022-09-12T15:44:22.182Z"
   },
   {
    "duration": 22,
    "start_time": "2022-09-12T15:44:22.566Z"
   },
   {
    "duration": 3,
    "start_time": "2022-09-12T15:44:23.102Z"
   },
   {
    "duration": 15,
    "start_time": "2022-09-12T15:44:24.284Z"
   },
   {
    "duration": 10,
    "start_time": "2022-09-12T15:44:24.945Z"
   },
   {
    "duration": 25,
    "start_time": "2022-09-12T15:44:25.263Z"
   },
   {
    "duration": 15,
    "start_time": "2022-09-12T15:44:25.823Z"
   },
   {
    "duration": 17,
    "start_time": "2022-09-12T15:44:26.704Z"
   },
   {
    "duration": 9,
    "start_time": "2022-09-12T15:44:27.101Z"
   },
   {
    "duration": 5,
    "start_time": "2022-09-12T15:44:27.718Z"
   },
   {
    "duration": 6,
    "start_time": "2022-09-12T15:44:28.164Z"
   },
   {
    "duration": 20,
    "start_time": "2022-09-12T15:44:28.384Z"
   },
   {
    "duration": 37,
    "start_time": "2022-09-12T15:44:28.609Z"
   },
   {
    "duration": 8,
    "start_time": "2022-09-12T15:44:28.833Z"
   },
   {
    "duration": 8,
    "start_time": "2022-09-12T15:44:29.735Z"
   },
   {
    "duration": 9,
    "start_time": "2022-09-12T15:44:30.210Z"
   },
   {
    "duration": 25,
    "start_time": "2022-09-12T15:44:30.657Z"
   },
   {
    "duration": 7,
    "start_time": "2022-09-12T15:44:31.171Z"
   },
   {
    "duration": 93,
    "start_time": "2022-09-12T15:44:31.872Z"
   },
   {
    "duration": 6,
    "start_time": "2022-09-12T15:44:32.121Z"
   },
   {
    "duration": 98,
    "start_time": "2022-09-12T15:44:32.340Z"
   },
   {
    "duration": 6,
    "start_time": "2022-09-12T15:44:32.629Z"
   },
   {
    "duration": 3,
    "start_time": "2022-09-12T15:44:32.996Z"
   },
   {
    "duration": 17,
    "start_time": "2022-09-12T15:44:34.327Z"
   },
   {
    "duration": 153,
    "start_time": "2022-09-12T15:44:35.271Z"
   },
   {
    "duration": 27,
    "start_time": "2022-09-12T15:44:36.465Z"
   },
   {
    "duration": 2,
    "start_time": "2022-09-12T15:44:36.766Z"
   },
   {
    "duration": 161,
    "start_time": "2022-09-12T15:44:37.709Z"
   },
   {
    "duration": 15,
    "start_time": "2022-09-12T15:44:38.192Z"
   },
   {
    "duration": 6,
    "start_time": "2022-09-12T15:44:38.794Z"
   },
   {
    "duration": 195,
    "start_time": "2022-09-12T15:44:39.069Z"
   },
   {
    "duration": 19,
    "start_time": "2022-09-12T15:44:39.859Z"
   },
   {
    "duration": 34,
    "start_time": "2022-09-12T15:44:41.017Z"
   },
   {
    "duration": 299,
    "start_time": "2022-09-12T15:44:41.316Z"
   },
   {
    "duration": 4,
    "start_time": "2022-09-12T15:44:42.365Z"
   },
   {
    "duration": 199,
    "start_time": "2022-09-12T15:44:42.890Z"
   },
   {
    "duration": 154,
    "start_time": "2022-09-12T15:44:43.833Z"
   },
   {
    "duration": 179,
    "start_time": "2022-09-12T15:44:44.701Z"
   },
   {
    "duration": 165,
    "start_time": "2022-09-12T15:44:45.589Z"
   },
   {
    "duration": 5,
    "start_time": "2022-09-12T15:44:47.061Z"
   },
   {
    "duration": 10,
    "start_time": "2022-09-12T15:44:48.005Z"
   },
   {
    "duration": 516,
    "start_time": "2022-09-12T15:45:06.022Z"
   },
   {
    "duration": 254,
    "start_time": "2022-09-12T15:45:06.671Z"
   },
   {
    "duration": 10,
    "start_time": "2022-09-12T15:45:07.956Z"
   },
   {
    "duration": 26,
    "start_time": "2022-09-12T15:45:08.190Z"
   },
   {
    "duration": 39,
    "start_time": "2022-09-12T15:45:17.719Z"
   },
   {
    "duration": 415,
    "start_time": "2022-09-12T15:45:49.493Z"
   },
   {
    "duration": 213,
    "start_time": "2022-09-12T15:46:55.888Z"
   },
   {
    "duration": 4054,
    "start_time": "2022-09-12T15:47:29.792Z"
   },
   {
    "duration": 3814,
    "start_time": "2022-09-12T15:47:47.752Z"
   },
   {
    "duration": 3753,
    "start_time": "2022-09-12T15:49:07.374Z"
   },
   {
    "duration": 3848,
    "start_time": "2022-09-12T15:49:24.243Z"
   },
   {
    "duration": 10,
    "start_time": "2022-09-12T15:49:41.176Z"
   },
   {
    "duration": 197,
    "start_time": "2022-09-12T15:51:50.718Z"
   },
   {
    "duration": 17,
    "start_time": "2022-09-12T15:52:13.614Z"
   },
   {
    "duration": 21,
    "start_time": "2022-09-12T15:52:58.543Z"
   },
   {
    "duration": 97,
    "start_time": "2022-09-12T15:53:12.379Z"
   },
   {
    "duration": 15,
    "start_time": "2022-09-12T15:53:16.935Z"
   },
   {
    "duration": 17,
    "start_time": "2022-09-12T15:53:57.604Z"
   },
   {
    "duration": 16,
    "start_time": "2022-09-12T15:54:26.779Z"
   },
   {
    "duration": 53,
    "start_time": "2022-09-12T15:54:42.939Z"
   },
   {
    "duration": 125,
    "start_time": "2022-09-12T15:54:53.701Z"
   },
   {
    "duration": 201,
    "start_time": "2022-09-12T15:54:57.542Z"
   },
   {
    "duration": 261,
    "start_time": "2022-09-12T15:55:26.264Z"
   },
   {
    "duration": 290,
    "start_time": "2022-09-12T15:56:18.044Z"
   },
   {
    "duration": 326,
    "start_time": "2022-09-12T15:56:30.957Z"
   },
   {
    "duration": 338,
    "start_time": "2022-09-12T15:56:35.558Z"
   },
   {
    "duration": 369,
    "start_time": "2022-09-12T15:58:13.283Z"
   },
   {
    "duration": 263,
    "start_time": "2022-09-12T15:58:28.072Z"
   },
   {
    "duration": 242,
    "start_time": "2022-09-12T15:58:34.906Z"
   },
   {
    "duration": 252,
    "start_time": "2022-09-12T16:00:39.114Z"
   },
   {
    "duration": 1106,
    "start_time": "2022-09-12T16:02:24.917Z"
   },
   {
    "duration": 327,
    "start_time": "2022-09-12T16:02:26.025Z"
   },
   {
    "duration": 9,
    "start_time": "2022-09-12T16:02:26.354Z"
   },
   {
    "duration": 22,
    "start_time": "2022-09-12T16:02:26.365Z"
   },
   {
    "duration": 3,
    "start_time": "2022-09-12T16:02:26.389Z"
   },
   {
    "duration": 28,
    "start_time": "2022-09-12T16:02:26.394Z"
   },
   {
    "duration": 8,
    "start_time": "2022-09-12T16:02:26.423Z"
   },
   {
    "duration": 30,
    "start_time": "2022-09-12T16:02:26.432Z"
   },
   {
    "duration": 14,
    "start_time": "2022-09-12T16:02:26.463Z"
   },
   {
    "duration": 67,
    "start_time": "2022-09-12T16:02:26.479Z"
   },
   {
    "duration": 9,
    "start_time": "2022-09-12T16:02:26.547Z"
   },
   {
    "duration": 9,
    "start_time": "2022-09-12T16:02:26.557Z"
   },
   {
    "duration": 8,
    "start_time": "2022-09-12T16:02:26.567Z"
   },
   {
    "duration": 19,
    "start_time": "2022-09-12T16:02:26.576Z"
   },
   {
    "duration": 38,
    "start_time": "2022-09-12T16:02:26.623Z"
   },
   {
    "duration": 8,
    "start_time": "2022-09-12T16:02:26.663Z"
   },
   {
    "duration": 11,
    "start_time": "2022-09-12T16:02:26.672Z"
   },
   {
    "duration": 10,
    "start_time": "2022-09-12T16:02:26.684Z"
   },
   {
    "duration": 40,
    "start_time": "2022-09-12T16:02:26.696Z"
   },
   {
    "duration": 6,
    "start_time": "2022-09-12T16:02:26.737Z"
   },
   {
    "duration": 121,
    "start_time": "2022-09-12T16:02:26.744Z"
   },
   {
    "duration": 5,
    "start_time": "2022-09-12T16:02:26.866Z"
   },
   {
    "duration": 115,
    "start_time": "2022-09-12T16:02:26.872Z"
   },
   {
    "duration": 5,
    "start_time": "2022-09-12T16:02:26.988Z"
   },
   {
    "duration": 5,
    "start_time": "2022-09-12T16:02:26.994Z"
   },
   {
    "duration": 40,
    "start_time": "2022-09-12T16:02:27.001Z"
   },
   {
    "duration": 172,
    "start_time": "2022-09-12T16:02:27.043Z"
   },
   {
    "duration": 29,
    "start_time": "2022-09-12T16:02:27.221Z"
   },
   {
    "duration": 3,
    "start_time": "2022-09-12T16:02:27.251Z"
   },
   {
    "duration": 178,
    "start_time": "2022-09-12T16:02:27.255Z"
   },
   {
    "duration": 15,
    "start_time": "2022-09-12T16:02:27.434Z"
   },
   {
    "duration": 6,
    "start_time": "2022-09-12T16:02:27.451Z"
   },
   {
    "duration": 148,
    "start_time": "2022-09-12T16:02:27.459Z"
   },
   {
    "duration": 23,
    "start_time": "2022-09-12T16:02:27.609Z"
   },
   {
    "duration": 35,
    "start_time": "2022-09-12T16:02:27.633Z"
   },
   {
    "duration": 339,
    "start_time": "2022-09-12T16:02:27.669Z"
   },
   {
    "duration": 4,
    "start_time": "2022-09-12T16:02:28.010Z"
   },
   {
    "duration": 185,
    "start_time": "2022-09-12T16:02:28.021Z"
   },
   {
    "duration": 169,
    "start_time": "2022-09-12T16:02:28.208Z"
   },
   {
    "duration": 182,
    "start_time": "2022-09-12T16:02:28.379Z"
   },
   {
    "duration": 156,
    "start_time": "2022-09-12T16:02:28.562Z"
   },
   {
    "duration": 4,
    "start_time": "2022-09-12T16:02:28.720Z"
   },
   {
    "duration": 392,
    "start_time": "2022-09-12T16:02:28.725Z"
   },
   {
    "duration": 351,
    "start_time": "2022-09-12T16:02:29.122Z"
   },
   {
    "duration": 270,
    "start_time": "2022-09-12T16:02:29.475Z"
   }
  ],
  "colab": {
   "name": "DA+. Сборный проект 1. Шаблон (1).ipynb",
   "provenance": []
  },
  "kernelspec": {
   "display_name": "Python 3 (ipykernel)",
   "language": "python",
   "name": "python3"
  },
  "language_info": {
   "codemirror_mode": {
    "name": "ipython",
    "version": 3
   },
   "file_extension": ".py",
   "mimetype": "text/x-python",
   "name": "python",
   "nbconvert_exporter": "python",
   "pygments_lexer": "ipython3",
   "version": "3.9.5"
  },
  "toc": {
   "base_numbering": 1,
   "nav_menu": {},
   "number_sections": true,
   "sideBar": true,
   "skip_h1_title": true,
   "title_cell": "Table of Contents",
   "title_sidebar": "Contents",
   "toc_cell": false,
   "toc_position": {
    "height": "calc(100% - 180px)",
    "left": "10px",
    "top": "150px",
    "width": "375.391px"
   },
   "toc_section_display": true,
   "toc_window_display": false
  }
 },
 "nbformat": 4,
 "nbformat_minor": 1
}